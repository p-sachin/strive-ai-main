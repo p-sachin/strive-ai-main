{
 "cells": [
  {
   "cell_type": "code",
   "execution_count": 274,
   "metadata": {},
   "outputs": [],
   "source": [
    "import requests\n",
    "from bs4 import BeautifulSoup\n",
    "import pandas as pd\n",
    "from datetime import datetime, timedelta"
   ]
  },
  {
   "cell_type": "code",
   "execution_count": 109,
   "metadata": {},
   "outputs": [],
   "source": [
    "page = requests.get(\"https://forecast.weather.gov/MapClick.php?lat=34.053570000000036&lon=-118.24544999999995#.YVLyo7gzZPY\")"
   ]
  },
  {
   "cell_type": "code",
   "execution_count": 110,
   "metadata": {},
   "outputs": [
    {
     "name": "stdout",
     "output_type": "stream",
     "text": [
      "<Response [200]>\n"
     ]
    }
   ],
   "source": [
    "print(page)"
   ]
  },
  {
   "cell_type": "code",
   "execution_count": 8,
   "metadata": {},
   "outputs": [
    {
     "name": "stdout",
     "output_type": "stream",
     "text": [
      "64°F\n"
     ]
    }
   ],
   "source": [
    "soup = BeautifulSoup(page.content, \"html.parser\")\n",
    "temp = soup.find('p', class_='myforecast-current-lrg')\n",
    "print(temp.get_text())"
   ]
  },
  {
   "cell_type": "code",
   "execution_count": 9,
   "metadata": {},
   "outputs": [],
   "source": [
    "div = soup.find_all('div', id=\"current_conditions-summary\")"
   ]
  },
  {
   "cell_type": "code",
   "execution_count": 10,
   "metadata": {},
   "outputs": [
    {
     "name": "stdout",
     "output_type": "stream",
     "text": [
      "[<div class=\"pull-left\" id=\"current_conditions-summary\">\n",
      "<img alt=\"\" class=\"pull-left\" src=\"newimages/large/novc.png\"/>\n",
      "<p class=\"myforecast-current\">Overcast</p>\n",
      "<p class=\"myforecast-current-lrg\">64°F</p>\n",
      "<p class=\"myforecast-current-sm\">18°C</p>\n",
      "</div>]\n"
     ]
    }
   ],
   "source": [
    "print(div)"
   ]
  },
  {
   "cell_type": "code",
   "execution_count": 18,
   "metadata": {},
   "outputs": [],
   "source": [
    "haze = div[0].find_all('p')"
   ]
  },
  {
   "cell_type": "code",
   "execution_count": 49,
   "metadata": {},
   "outputs": [
    {
     "name": "stdout",
     "output_type": "stream",
     "text": [
      "Overcast\n",
      "64°F\n",
      "18°C\n"
     ]
    }
   ],
   "source": [
    "for p in haze:\n",
    "    print(p.text)"
   ]
  },
  {
   "cell_type": "code",
   "execution_count": 221,
   "metadata": {},
   "outputs": [],
   "source": [
    "# Easy Exercise\n",
    "\n",
    "div = soup.find_all('p', class_=\"period-name\")\n",
    "div_information = soup.find_all('div', class_=\"forecast-text\")\n",
    "div_temperature = soup.find_all('p', class_=\"temp\")\n",
    "div_date = soup.find_all(\"td\")"
   ]
  },
  {
   "cell_type": "code",
   "execution_count": 152,
   "metadata": {},
   "outputs": [
    {
     "data": {
      "text/plain": [
       "[<p class=\"period-name\">Overnight<br/><br/></p>,\n",
       " <p class=\"period-name\">Tuesday<br/><br/></p>,\n",
       " <p class=\"period-name\">Tuesday<br/>Night</p>,\n",
       " <p class=\"period-name\">Wednesday<br/><br/></p>,\n",
       " <p class=\"period-name\">Wednesday<br/>Night</p>,\n",
       " <p class=\"period-name\">Thursday<br/><br/></p>,\n",
       " <p class=\"period-name\">Thursday<br/>Night</p>,\n",
       " <p class=\"period-name\">Friday<br/><br/></p>,\n",
       " <p class=\"period-name\">Friday<br/>Night</p>]"
      ]
     },
     "execution_count": 152,
     "metadata": {},
     "output_type": "execute_result"
    }
   ],
   "source": [
    "div"
   ]
  },
  {
   "cell_type": "code",
   "execution_count": 129,
   "metadata": {},
   "outputs": [
    {
     "name": "stdout",
     "output_type": "stream",
     "text": [
      "[<div class=\"col-sm-10 forecast-text\">Cloudy, with a low around 60. Southeast wind around 5 mph. </div>, <div class=\"col-sm-10 forecast-text\">Cloudy through mid morning, then gradual clearing, with a high near 73. Light and variable wind becoming southwest 5 to 10 mph in the afternoon. </div>, <div class=\"col-sm-10 forecast-text\">Mostly cloudy, with a low around 60. West southwest wind 5 to 10 mph becoming light and variable  in the evening. </div>, <div class=\"col-sm-10 forecast-text\">Cloudy through mid morning, then gradual clearing, with a high near 77. Light south wind becoming west southwest 5 to 10 mph in the morning. Winds could gust as high as 15 mph. </div>, <div class=\"col-sm-10 forecast-text\">Mostly clear, with a low around 57. West southwest wind 5 to 10 mph becoming north after midnight. Winds could gust as high as 15 mph. </div>, <div class=\"col-sm-10 forecast-text\">Sunny, with a high near 85.</div>, <div class=\"col-sm-10 forecast-text\">Mostly clear, with a low around 60.</div>, <div class=\"col-sm-10 forecast-text\">Sunny, with a high near 92.</div>, <div class=\"col-sm-10 forecast-text\">Partly cloudy, with a low around 62.</div>, <div class=\"col-sm-10 forecast-text\">Mostly sunny, with a high near 91.</div>, <div class=\"col-sm-10 forecast-text\">Partly cloudy, with a low around 64.</div>, <div class=\"col-sm-10 forecast-text\">Partly sunny, with a high near 92.</div>, <div class=\"col-sm-10 forecast-text\">Patchy fog.  Otherwise, mostly cloudy, with a low around 65.</div>, <div class=\"col-sm-10 forecast-text\">Patchy fog.  Otherwise, partly sunny, with a high near 82.</div>]\n"
     ]
    }
   ],
   "source": [
    "print(div_information)"
   ]
  },
  {
   "cell_type": "code",
   "execution_count": 143,
   "metadata": {},
   "outputs": [
    {
     "name": "stdout",
     "output_type": "stream",
     "text": [
      "[<p class=\"temp temp-low\">Low: 60 °F</p>, <p class=\"temp temp-high\">High: 73 °F</p>, <p class=\"temp temp-low\">Low: 60 °F</p>, <p class=\"temp temp-high\">High: 77 °F</p>, <p class=\"temp temp-low\">Low: 57 °F</p>, <p class=\"temp temp-high\">High: 85 °F</p>, <p class=\"temp temp-low\">Low: 60 °F</p>, <p class=\"temp temp-high\">High: 92 °F</p>, <p class=\"temp temp-low\">Low: 62 °F</p>]\n"
     ]
    }
   ],
   "source": [
    "print(div_temperature)"
   ]
  },
  {
   "cell_type": "code",
   "execution_count": 130,
   "metadata": {},
   "outputs": [
    {
     "data": {
      "text/plain": [
       "14"
      ]
     },
     "execution_count": 130,
     "metadata": {},
     "output_type": "execute_result"
    }
   ],
   "source": [
    "len(div_information)"
   ]
  },
  {
   "cell_type": "code",
   "execution_count": 161,
   "metadata": {},
   "outputs": [],
   "source": [
    "make_temperature = []\n",
    "for i in range(len(div_temperature)):\n",
    "    temperature = div_temperature[i].text\n",
    "    make_temperature.append(temperature)"
   ]
  },
  {
   "cell_type": "code",
   "execution_count": 204,
   "metadata": {},
   "outputs": [
    {
     "name": "stdout",
     "output_type": "stream",
     "text": [
      "['73', '60', '77', '57', '85', '60', '92', '62']\n"
     ]
    }
   ],
   "source": [
    "final_temperature = make_temperature[1:]\n",
    "final_temperature\n",
    "\n",
    "#Getting the numbers\n",
    "only_temperatures = []\n",
    "for item in final_temperature:\n",
    "    for subitem in item.split():\n",
    "        if(subitem.isdigit()):\n",
    "            only_temperatures.append(subitem)\n",
    "print(only_temperatures)"
   ]
  },
  {
   "cell_type": "code",
   "execution_count": 205,
   "metadata": {},
   "outputs": [
    {
     "data": {
      "text/plain": [
       "['73', '60', '77', '57', '85', '60', '92', '62']"
      ]
     },
     "execution_count": 205,
     "metadata": {},
     "output_type": "execute_result"
    }
   ],
   "source": [
    "only_temperatures"
   ]
  },
  {
   "cell_type": "code",
   "execution_count": 213,
   "metadata": {},
   "outputs": [],
   "source": [
    "# Function for Changing the Farh to celcius\n",
    "\n",
    "def change_temperature(array):\n",
    "    conversion_celcius = []\n",
    "    for item in array:\n",
    "        C = (5 / 9) * (int(item) - 32)\n",
    "        conversion_celcius.append(round(C,2))\n",
    "    return conversion_celcius\n",
    "    \n",
    "temp_celc = change_temperature(only_temperatures)"
   ]
  },
  {
   "cell_type": "code",
   "execution_count": 214,
   "metadata": {},
   "outputs": [],
   "source": [
    "make_information = []\n",
    "for i in range(len(div_information)):\n",
    "    information = div_information[i].text\n",
    "    make_information.append(information)"
   ]
  },
  {
   "cell_type": "code",
   "execution_count": 215,
   "metadata": {},
   "outputs": [
    {
     "data": {
      "text/plain": [
       "['Cloudy, with a low around 60. Southeast wind around 5 mph. ',\n",
       " 'Cloudy through mid morning, then gradual clearing, with a high near 73. Light and variable wind becoming southwest 5 to 10 mph in the afternoon. ',\n",
       " 'Mostly cloudy, with a low around 60. West southwest wind 5 to 10 mph becoming light and variable  in the evening. ',\n",
       " 'Cloudy through mid morning, then gradual clearing, with a high near 77. Light south wind becoming west southwest 5 to 10 mph in the morning. Winds could gust as high as 15 mph. ',\n",
       " 'Mostly clear, with a low around 57. West southwest wind 5 to 10 mph becoming north after midnight. Winds could gust as high as 15 mph. ',\n",
       " 'Sunny, with a high near 85.',\n",
       " 'Mostly clear, with a low around 60.',\n",
       " 'Sunny, with a high near 92.',\n",
       " 'Partly cloudy, with a low around 62.',\n",
       " 'Mostly sunny, with a high near 91.',\n",
       " 'Partly cloudy, with a low around 64.',\n",
       " 'Partly sunny, with a high near 92.',\n",
       " 'Patchy fog.  Otherwise, mostly cloudy, with a low around 65.',\n",
       " 'Patchy fog.  Otherwise, partly sunny, with a high near 82.']"
      ]
     },
     "execution_count": 215,
     "metadata": {},
     "output_type": "execute_result"
    }
   ],
   "source": [
    "make_information"
   ]
  },
  {
   "cell_type": "code",
   "execution_count": 216,
   "metadata": {},
   "outputs": [],
   "source": [
    "final_information = make_information[1:9]"
   ]
  },
  {
   "cell_type": "code",
   "execution_count": 217,
   "metadata": {},
   "outputs": [],
   "source": [
    "make_days = []\n",
    "for i in range(len(div)):\n",
    "    days = div[i].text\n",
    "    make_days.append(days)"
   ]
  },
  {
   "cell_type": "code",
   "execution_count": 218,
   "metadata": {},
   "outputs": [
    {
     "data": {
      "text/plain": [
       "['Overnight',\n",
       " 'Tuesday',\n",
       " 'TuesdayNight',\n",
       " 'Wednesday',\n",
       " 'WednesdayNight',\n",
       " 'Thursday',\n",
       " 'ThursdayNight',\n",
       " 'Friday',\n",
       " 'FridayNight']"
      ]
     },
     "execution_count": 218,
     "metadata": {},
     "output_type": "execute_result"
    }
   ],
   "source": [
    "make_days"
   ]
  },
  {
   "cell_type": "code",
   "execution_count": 219,
   "metadata": {},
   "outputs": [],
   "source": [
    "final_days = make_days[1:9]"
   ]
  },
  {
   "cell_type": "code",
   "execution_count": 303,
   "metadata": {},
   "outputs": [
    {
     "data": {
      "text/plain": [
       "[datetime.datetime(2021, 9, 28, 0, 0),\n",
       " datetime.datetime(2021, 9, 29, 0, 0),\n",
       " datetime.datetime(2021, 9, 30, 0, 0),\n",
       " datetime.datetime(2021, 10, 1, 0, 0),\n",
       " datetime.datetime(2021, 10, 2, 0, 0),\n",
       " datetime.datetime(2021, 10, 3, 0, 0),\n",
       " datetime.datetime(2021, 10, 4, 0, 0),\n",
       " datetime.datetime(2021, 10, 5, 0, 0)]"
      ]
     },
     "execution_count": 303,
     "metadata": {},
     "output_type": "execute_result"
    }
   ],
   "source": [
    "get_date = \"\".join(div_date[-1].text.strip().split()[:2])\n",
    "get_date = get_date.replace(\"Sep\",\"-9-\")+\"2021\"\n",
    "date = datetime.strptime(get_date,'%d-%m-%Y').date()\n",
    "#print(str(date))\n",
    "\n",
    "list_dates = []\n",
    "for i in range(8):\n",
    "    total_dates = datetime.strptime(str(date), \"%Y-%m-%d\")\n",
    "    end_date = total_dates + timedelta(days=i)\n",
    "    list_dates.append(end_date)\n",
    "\n",
    "list_dates"
   ]
  },
  {
   "cell_type": "code",
   "execution_count": 305,
   "metadata": {},
   "outputs": [
    {
     "data": {
      "text/html": [
       "<div>\n",
       "<style scoped>\n",
       "    .dataframe tbody tr th:only-of-type {\n",
       "        vertical-align: middle;\n",
       "    }\n",
       "\n",
       "    .dataframe tbody tr th {\n",
       "        vertical-align: top;\n",
       "    }\n",
       "\n",
       "    .dataframe thead th {\n",
       "        text-align: right;\n",
       "    }\n",
       "</style>\n",
       "<table border=\"1\" class=\"dataframe\">\n",
       "  <thead>\n",
       "    <tr style=\"text-align: right;\">\n",
       "      <th></th>\n",
       "      <th>Days</th>\n",
       "      <th>Information</th>\n",
       "      <th>Temperauture</th>\n",
       "      <th>Date</th>\n",
       "    </tr>\n",
       "  </thead>\n",
       "  <tbody>\n",
       "    <tr>\n",
       "      <th>0</th>\n",
       "      <td>Tuesday</td>\n",
       "      <td>Cloudy through mid morning, then gradual clear...</td>\n",
       "      <td>22.78</td>\n",
       "      <td>2021-09-28</td>\n",
       "    </tr>\n",
       "    <tr>\n",
       "      <th>1</th>\n",
       "      <td>TuesdayNight</td>\n",
       "      <td>Mostly cloudy, with a low around 60. West sout...</td>\n",
       "      <td>15.56</td>\n",
       "      <td>2021-09-29</td>\n",
       "    </tr>\n",
       "    <tr>\n",
       "      <th>2</th>\n",
       "      <td>Wednesday</td>\n",
       "      <td>Cloudy through mid morning, then gradual clear...</td>\n",
       "      <td>25.00</td>\n",
       "      <td>2021-09-30</td>\n",
       "    </tr>\n",
       "    <tr>\n",
       "      <th>3</th>\n",
       "      <td>WednesdayNight</td>\n",
       "      <td>Mostly clear, with a low around 57. West south...</td>\n",
       "      <td>13.89</td>\n",
       "      <td>2021-10-01</td>\n",
       "    </tr>\n",
       "    <tr>\n",
       "      <th>4</th>\n",
       "      <td>Thursday</td>\n",
       "      <td>Sunny, with a high near 85.</td>\n",
       "      <td>29.44</td>\n",
       "      <td>2021-10-02</td>\n",
       "    </tr>\n",
       "    <tr>\n",
       "      <th>5</th>\n",
       "      <td>ThursdayNight</td>\n",
       "      <td>Mostly clear, with a low around 60.</td>\n",
       "      <td>15.56</td>\n",
       "      <td>2021-10-03</td>\n",
       "    </tr>\n",
       "    <tr>\n",
       "      <th>6</th>\n",
       "      <td>Friday</td>\n",
       "      <td>Sunny, with a high near 92.</td>\n",
       "      <td>33.33</td>\n",
       "      <td>2021-10-04</td>\n",
       "    </tr>\n",
       "    <tr>\n",
       "      <th>7</th>\n",
       "      <td>FridayNight</td>\n",
       "      <td>Partly cloudy, with a low around 62.</td>\n",
       "      <td>16.67</td>\n",
       "      <td>2021-10-05</td>\n",
       "    </tr>\n",
       "  </tbody>\n",
       "</table>\n",
       "</div>"
      ],
      "text/plain": [
       "             Days                                        Information  \\\n",
       "0         Tuesday  Cloudy through mid morning, then gradual clear...   \n",
       "1    TuesdayNight  Mostly cloudy, with a low around 60. West sout...   \n",
       "2       Wednesday  Cloudy through mid morning, then gradual clear...   \n",
       "3  WednesdayNight  Mostly clear, with a low around 57. West south...   \n",
       "4        Thursday                        Sunny, with a high near 85.   \n",
       "5   ThursdayNight                Mostly clear, with a low around 60.   \n",
       "6          Friday                        Sunny, with a high near 92.   \n",
       "7     FridayNight               Partly cloudy, with a low around 62.   \n",
       "\n",
       "   Temperauture       Date  \n",
       "0         22.78 2021-09-28  \n",
       "1         15.56 2021-09-29  \n",
       "2         25.00 2021-09-30  \n",
       "3         13.89 2021-10-01  \n",
       "4         29.44 2021-10-02  \n",
       "5         15.56 2021-10-03  \n",
       "6         33.33 2021-10-04  \n",
       "7         16.67 2021-10-05  "
      ]
     },
     "execution_count": 305,
     "metadata": {},
     "output_type": "execute_result"
    }
   ],
   "source": [
    "df = pd.DataFrame(final_days)\n",
    "df.columns = ['Days']\n",
    "df[\"Information\"] = final_information\n",
    "df[\"Temperauture\"] = temp_celc\n",
    "df[\"Date\"] = list_dates\n",
    "df"
   ]
  },
  {
   "cell_type": "code",
   "execution_count": null,
   "metadata": {},
   "outputs": [],
   "source": []
  }
 ],
 "metadata": {
  "kernelspec": {
   "display_name": "Python 3",
   "language": "python",
   "name": "python3"
  },
  "language_info": {
   "codemirror_mode": {
    "name": "ipython",
    "version": 3
   },
   "file_extension": ".py",
   "mimetype": "text/x-python",
   "name": "python",
   "nbconvert_exporter": "python",
   "pygments_lexer": "ipython3",
   "version": "3.8.4"
  }
 },
 "nbformat": 4,
 "nbformat_minor": 4
}
