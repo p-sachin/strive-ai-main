{
 "cells": [
  {
   "cell_type": "markdown",
   "metadata": {},
   "source": [
    "**Exercise 2.2 (optional):** Write code that classifies a given amount of money (which you store in a variable `amount`), specified in cents, as greater monetary units. Your code lists the monetary equivalent in dollars (100 ct), quarters (25 ct), dimes (10 ct), nickels (5 ct), and pennies (1 ct). Your program should report the maximum number of dollars that fit in the amount, then the maximum number of quarters that fit in the remainder after you subtract the dollars, then the maximum number of dimes that fit in the remainder after you subtract the dollars and quarters, and so on for nickels and pennies. The result is that you express the amount as the minimum number of coins needed.  \n",
    "\n",
    "**Can you do it again? Would you change anything from the last time you had to do this?**"
   ]
  },
  {
   "cell_type": "code",
   "execution_count": 90,
   "metadata": {},
   "outputs": [
    {
     "data": {
      "text/plain": [
       "{'dollars': 11, 'quarters': 2, 'dimes': 0, 'nickels': 1, 'pennies': 1}"
      ]
     },
     "execution_count": 90,
     "metadata": {},
     "output_type": "execute_result"
    }
   ],
   "source": [
    "# Your Code Here\n",
    "def cashier(amount):\n",
    "    if amount > 0:\n",
    "        dollars = int(amount/100)\n",
    "        remaining_amount = amount - (dollars*100)\n",
    "        quarters = int(remaining_amount/25)\n",
    "        remaining_amount = remaining_amount - (quarters*25)\n",
    "        dimes = int(remaining_amount/10)\n",
    "        remaining_amount = remaining_amount - (dimes*10)\n",
    "        nickels = int(remaining_amount/5)\n",
    "        remaining_amount = remaining_amount - (nickels*5)\n",
    "        pennies = int(remaining_amount/1)\n",
    "        remaining_amount = remaining_amount - (pennies*1)\n",
    "        sampleDict = {\"dollars\": dollars, \"quarters\": quarters, \"dimes\": dimes, \"nickels\": nickels, \"pennies\": pennies}\n",
    "        return sampleDict\n",
    "    else:\n",
    "        print(\"Amount is less than 1. Exited\")\n",
    "\n",
    "cashier(1156)\n",
    "\n",
    "\n"
   ]
  },
  {
   "cell_type": "markdown",
   "metadata": {},
   "source": [
    "**Exercise (optional)**: The factorial of a positive integer is that integer, multiplied by all positive integers that are lower (excluding zero). You write the factorial as the number with an exclamation mark after it. E.g., the factorial of 5 is `5! = 5 * 4 * 3 * 2 * 1 = 120`. Write a function that calculates the factorial of its (integer) parameter. Test your function for different parameter values, but do not use very large numbers as factorials grow exponentially. Hint: to do this with a `while` loop, you need at least one more variable."
   ]
  },
  {
   "cell_type": "code",
   "execution_count": 24,
   "metadata": {},
   "outputs": [
    {
     "data": {
      "text/plain": [
       "120"
      ]
     },
     "execution_count": 24,
     "metadata": {},
     "output_type": "execute_result"
    }
   ],
   "source": [
    "# Factorial\n",
    "def factorial(number):                                \n",
    "    #Your Code Here\n",
    "    fact = 1\n",
    "    for i in range(number,0,-1):\n",
    "        fact *= i\n",
    "    return fact\n",
    "\n",
    "factorial(5)"
   ]
  },
  {
   "cell_type": "markdown",
   "metadata": {},
   "source": [
    "**Exercise 5.1 (optional):** Write a function that prints a multiplication table for digits 1 to 10. A multiplication table for the numbers 1 to `num = 3` looks as follows:\n",
    "\n",
    "`. |  1  2  3`<br>\n",
    "`------------`<br>\n",
    "`1 |  1  2  3`<br>\n",
    "`2 |  2  4  6`<br>\n",
    "`3 |  3  6  9`\n",
    "\n",
    "So the labels on the rows are multiplied by the labels on the columns, and the result is shown in the cell that is on that row/column combination. "
   ]
  },
  {
   "cell_type": "code",
   "execution_count": 34,
   "metadata": {},
   "outputs": [
    {
     "name": "stdout",
     "output_type": "stream",
     "text": [
      "15 * 1 = 15\n",
      "15 * 2 = 30\n",
      "15 * 3 = 45\n",
      "15 * 4 = 60\n",
      "15 * 5 = 75\n",
      "15 * 6 = 90\n",
      "15 * 7 = 105\n",
      "15 * 8 = 120\n",
      "15 * 9 = 135\n",
      "15 * 10 = 150\n"
     ]
    }
   ],
   "source": [
    "# Print multiplication table\n",
    "def print_multiplication_table(n):\n",
    "#Your Code Here\n",
    "    for i in range(1,11):\n",
    "        print(str(n)+\" * \"+str(i)+\" = \"+str(n*i))\n",
    "        \n",
    "print_multiplication_table(15)"
   ]
  },
  {
   "cell_type": "markdown",
   "metadata": {},
   "source": [
    "**Exercise 5.2 (optional):** If you did the previous exercise with a `while` loop, then do it again with a `for` loop. If you did it with a `for` loop, then do it again with a `while` loop. If you did not use a loop at all, you should be ashamed of yourself."
   ]
  },
  {
   "cell_type": "code",
   "execution_count": 42,
   "metadata": {},
   "outputs": [
    {
     "name": "stdout",
     "output_type": "stream",
     "text": [
      "15 * 1 = 15\n",
      "15 * 2 = 30\n",
      "15 * 3 = 45\n",
      "15 * 4 = 60\n",
      "15 * 5 = 75\n",
      "15 * 6 = 90\n",
      "15 * 7 = 105\n",
      "15 * 8 = 120\n",
      "15 * 9 = 135\n",
      "15 * 10 = 150\n"
     ]
    }
   ],
   "source": [
    "# Print multiplication table\n",
    "def print_multiplication_table(n):\n",
    "    #Your Code Here\n",
    "    i = 1\n",
    "    while i < 11:\n",
    "        print(n,\"*\",i,\"=\",i*n)\n",
    "        i+=1\n",
    "\n",
    "print_multiplication_table(15)"
   ]
  },
  {
   "cell_type": "markdown",
   "metadata": {},
   "source": [
    "**Exercise 6.5 (optional):** Typical autocorrect functions are the following: \n",
    "1. if a word starts with two capitals, followed by a lower-case letter, the second capital is made lower case; \n",
    "2. if a sentence contains a word that is immediately followed by the same word, the second occurrence is removed; \n",
    "3. if a sentence starts with a lower-case letter, that letter is turned into a capital; \n",
    "4. if a word consists entirely of capitals, except for the first letter which is lower case, then the case of the letters in the word is reversed; and \n",
    "5. if the sentence contains the name of a day (in English) which does not start with a capital, the first letter is turned into a capital. \n",
    "\n",
    "Write a program that takes a sentence and makes these auto-corrections."
   ]
  },
  {
   "cell_type": "code",
   "execution_count": 109,
   "metadata": {},
   "outputs": [
    {
     "data": {
      "text/plain": [
       "['as',\n",
       " 'it',\n",
       " 'turned',\n",
       " 'out',\n",
       " 'our',\n",
       " 'chance',\n",
       " 'meeting',\n",
       " 'with',\n",
       " 'REverend',\n",
       " 'aRTHUR',\n",
       " 'BElling',\n",
       " 'was',\n",
       " 'was',\n",
       " 'to',\n",
       " 'change',\n",
       " 'our',\n",
       " 'whole',\n",
       " 'way',\n",
       " 'of',\n",
       " 'life,',\n",
       " 'and',\n",
       " 'every',\n",
       " 'sunday',\n",
       " \"we'd\",\n",
       " 'hurry',\n",
       " 'along',\n",
       " 'to',\n",
       " 'St',\n",
       " 'lOONY',\n",
       " 'up',\n",
       " 'the',\n",
       " 'Cream',\n",
       " 'BUn',\n",
       " 'and',\n",
       " 'Jam.']"
      ]
     },
     "execution_count": 109,
     "metadata": {},
     "output_type": "execute_result"
    }
   ],
   "source": [
    "# Autocorrect.\n",
    "sentence = \"as it turned out our chance meeting with REverend aRTHUR BElling was \\\n",
    "was to change our whole way of life, and every sunday we'd hurry along to St lOONY up the Cream BUn and Jam.\"\n",
    "\n",
    "def two_capitals(text):\n",
    "    final_text = []\n",
    "    text_split = text.split()\n",
    "    #return text_split[0][0:2]\n",
    "    for index in range(len(text_split)):\n",
    "        if text_split[index][0:2].isupper():\n",
    "            \n",
    "    \n",
    "        \n",
    "        \n",
    "\n",
    "two_capitals(sentence)"
   ]
  },
  {
   "cell_type": "markdown",
   "metadata": {},
   "source": [
    "### Exercise 11.3 (Optional)\n",
    "In this directory you find a file `blakepoems.txt`. Write a program that processes the contents of this file, line by line. It creates an output file in the current working directory called `blkpms.txt`, which has the same contents as `blakepoems.txt`, except that all the vowels are removed (case-insensitively). At the end, display how many characters you read, and how many characters you wrote. If you want to check the contents of `blkpms.txt`, you can either open it in a text editor, or display the first 10 lines or so at the end of your program."
   ]
  },
  {
   "cell_type": "code",
   "execution_count": null,
   "metadata": {},
   "outputs": [],
   "source": [
    "## Your Code Here"
   ]
  }
 ],
 "metadata": {
  "kernelspec": {
   "display_name": "Python 3",
   "language": "python",
   "name": "python3"
  },
  "language_info": {
   "codemirror_mode": {
    "name": "ipython",
    "version": 3
   },
   "file_extension": ".py",
   "mimetype": "text/x-python",
   "name": "python",
   "nbconvert_exporter": "python",
   "pygments_lexer": "ipython3",
   "version": "3.8.4"
  }
 },
 "nbformat": 4,
 "nbformat_minor": 2
}
