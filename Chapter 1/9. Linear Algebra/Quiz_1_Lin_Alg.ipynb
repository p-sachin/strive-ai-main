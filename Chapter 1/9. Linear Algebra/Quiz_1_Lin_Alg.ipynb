{
 "cells": [
  {
   "cell_type": "markdown",
   "metadata": {},
   "source": [
    "## Linear Algebra Quiz #1\n",
    "\n",
    "![title](./img/1_0.jpeg)\n",
    "\n",
    "We strongly suggest working with numpy :)"
   ]
  },
  {
   "cell_type": "code",
   "execution_count": 1,
   "metadata": {},
   "outputs": [],
   "source": [
    "#Do your imports here\n",
    "import numpy as np"
   ]
  },
  {
   "cell_type": "markdown",
   "metadata": {},
   "source": [
    "![title](./img/1_1.png)"
   ]
  },
  {
   "cell_type": "code",
   "execution_count": 10,
   "metadata": {},
   "outputs": [
    {
     "data": {
      "text/plain": [
       "7.416198487095663"
      ]
     },
     "execution_count": 10,
     "metadata": {},
     "output_type": "execute_result"
    }
   ],
   "source": [
    "# type a function that given a 3_dimensional vector it is able to calculate its magnitude\n",
    "\n",
    "def magnitude_3(a,b,c):\n",
    "    return np.sqrt((a**2+b**2+c**2))\n",
    "\n",
    "\n",
    "magnitude_3(1,2,3)\n",
    "\n",
    "# type a function that given a n_dimensional vector it is able to calculate its magnitude\n",
    "# if you want to try this from python (not jupyter notebook) https://docs.python.org/3/library/argparse.html would be a good addition\n",
    "# if you are doing this from a jupyter notebook only, you can try to prompt the user for an input  \n",
    "\n",
    "def magnitude_complete(*args):\n",
    "    sum=0\n",
    "    for items in args:\n",
    "        sum+=items**2\n",
    "    return np.sqrt(sum)\n",
    "\n",
    "magnitude_complete(1,2,3,4,5)"
   ]
  },
  {
   "cell_type": "markdown",
   "metadata": {},
   "source": [
    "uncomment the following line when you are ready to test"
   ]
  },
  {
   "cell_type": "code",
   "execution_count": 11,
   "metadata": {},
   "outputs": [],
   "source": [
    "assert magnitude_complete(1) == 1.0\n",
    "assert magnitude_complete(1,2) >= 2.236\n",
    "assert magnitude_complete(1,2,3) >= 3.741\n",
    "assert magnitude_complete(1,2,3,4,5) >= 5.477\n",
    "assert magnitude_complete(1,2,3,4,5) >= 7.416"
   ]
  },
  {
   "cell_type": "markdown",
   "metadata": {},
   "source": [
    "![title](./img/1_2.png)"
   ]
  },
  {
   "cell_type": "code",
   "execution_count": 19,
   "metadata": {},
   "outputs": [
    {
     "data": {
      "text/plain": [
       "8.06225774829855"
      ]
     },
     "execution_count": 19,
     "metadata": {},
     "output_type": "execute_result"
    }
   ],
   "source": [
    "def magnitude_vectors(a, b):\n",
    "    #checks that size is equal\n",
    "    x = np.array(a)\n",
    "    y = np.array(b)\n",
    "    if x.size == y.size:\n",
    "        first_sum = x+y\n",
    "        return np.sqrt((first_sum[0]**2)+first_sum[1]**2)\n",
    "        \n",
    "    \n",
    "    #returns the magnitude\n",
    "magnitude_vectors([5, 1], [2, 3])"
   ]
  },
  {
   "cell_type": "markdown",
   "metadata": {},
   "source": [
    "![title](./img/1_3.png)"
   ]
  },
  {
   "cell_type": "code",
   "execution_count": 29,
   "metadata": {},
   "outputs": [
    {
     "name": "stdout",
     "output_type": "stream",
     "text": [
      "The magnitude of a + b is 1.0 and the direction is [1 0]\n"
     ]
    }
   ],
   "source": [
    "def direction_vectors(a, b):\n",
    "    #checks that size is equal\n",
    "    x = np.array(a)\n",
    "    y = np.array(b)\n",
    "    if x.size == y.size:\n",
    "        first_sum = x+y\n",
    "        direction = first_sum[1] / first_sum[0]\n",
    "        r = np.arctan(direction)\n",
    "        return np.degrees(r)\n",
    "    \n",
    "\n",
    "direction_vectors([5,1],[-4,-1])\n",
    "    \n",
    "    #returns the angle. Hint: use the arctan\n",
    "    \n",
    "# or if you want to do it all in one batch:\n",
    "def magdir_vectors(a, b):\n",
    "    #checks that size is equal\n",
    "    x = np.array(a)\n",
    "    y = np.array(b)\n",
    "    first_sum = x+y\n",
    "    magnitude = np.sqrt((first_sum[0]**2)+first_sum[1]**2)\n",
    "    print(\"The magnitude of a + b is\",magnitude,\"and the direction is\",first_sum)\n",
    "    \n",
    "    \n",
    "magdir_vectors([5,1],[-4,-1])\n",
    "    #returns the magnitude and direction \n",
    "    # as alternative, print them in a nicely printed format like:\n",
    "    #\"The magnitude of a + b is X and the direction is Y\""
   ]
  },
  {
   "cell_type": "markdown",
   "metadata": {},
   "source": [
    "![title](./img/1_4.png)\n",
    "- What is the magnitude of αx⃗? \n",
    "- If α>0, will the direction of the resulting vector change?\n",
    "- If α<0, will the direction of the resulting vector change?\n",
    "- If −1<α<1, will ∥αx⃗∥  increase, decrease or stay the same?"
   ]
  },
  {
   "cell_type": "code",
   "execution_count": 75,
   "metadata": {},
   "outputs": [
    {
     "name": "stdout",
     "output_type": "stream",
     "text": [
      "No change\n",
      "(11.180339887498949, 63.43494882292201, array([ 5, 10]))\n"
     ]
    }
   ],
   "source": [
    "def alpha_magnitude(alpha, b):\n",
    "    x = np.array(b)\n",
    "    vector = alpha*x\n",
    "    direction = vector[1] / vector[0]\n",
    "    r = np.arctan(direction)\n",
    "    magnitude = np.sqrt(((alpha*x[0])**2)+(alpha*x[1])**2) # Calculating the magnitude of αx⃗\n",
    "    if np.sign(vector[0]) == np.sign(b[0]):\n",
    "        return \"No change\"\n",
    "    else:\n",
    "        return magnitude, np.degrees(r), x\n",
    "    \n",
    "print(alpha_magnitude(1, [5,10]))\n",
    "print(alpha_magnitude(-1, [5,10]))\n",
    "#print(alpha_magnitude(4, [5,10]))\n",
    "    #returns the resulting magnitude,\n",
    "    # as alternative, just print it\n",
    "    \n",
    "# The direction of the resulting vector stays the same when alpha>0\n",
    "# The direction of the resulting vector changes the same when alpha<0\n",
    "# If −1<α<1, ∥αx⃗∥ stays the same"
   ]
  },
  {
   "cell_type": "markdown",
   "metadata": {},
   "source": [
    "For the above exercise, write down in markdown or in a comment if the direction has changed and what has happened to the vector."
   ]
  },
  {
   "cell_type": "code",
   "execution_count": null,
   "metadata": {},
   "outputs": [],
   "source": []
  }
 ],
 "metadata": {
  "kernelspec": {
   "display_name": "Python 3",
   "language": "python",
   "name": "python3"
  },
  "language_info": {
   "codemirror_mode": {
    "name": "ipython",
    "version": 3
   },
   "file_extension": ".py",
   "mimetype": "text/x-python",
   "name": "python",
   "nbconvert_exporter": "python",
   "pygments_lexer": "ipython3",
   "version": "3.8.4"
  },
  "varInspector": {
   "cols": {
    "lenName": 16,
    "lenType": 16,
    "lenVar": 40
   },
   "kernels_config": {
    "python": {
     "delete_cmd_postfix": "",
     "delete_cmd_prefix": "del ",
     "library": "var_list.py",
     "varRefreshCmd": "print(var_dic_list())"
    },
    "r": {
     "delete_cmd_postfix": ") ",
     "delete_cmd_prefix": "rm(",
     "library": "var_list.r",
     "varRefreshCmd": "cat(var_dic_list()) "
    }
   },
   "types_to_exclude": [
    "module",
    "function",
    "builtin_function_or_method",
    "instance",
    "_Feature"
   ],
   "window_display": false
  }
 },
 "nbformat": 4,
 "nbformat_minor": 2
}
