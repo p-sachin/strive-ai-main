{
 "cells": [
  {
   "cell_type": "code",
   "execution_count": 149,
   "id": "ff06439d",
   "metadata": {},
   "outputs": [],
   "source": [
    "#import libraries\n",
    "import numpy as np\n",
    "import math\n",
    "import pandas as pd\n",
    "from collections import Counter\n",
    "import matplotlib.pyplot as plt\n",
    "from sklearn.datasets import make_blobs\n",
    "from sklearn.model_selection import train_test_split\n",
    "from operator import itemgetter\n",
    "from statistics import mode"
   ]
  },
  {
   "cell_type": "code",
   "execution_count": 150,
   "id": "26c5caa4",
   "metadata": {},
   "outputs": [],
   "source": [
    "class KNN:\n",
    "    def __init__(self, k):\n",
    "        self.k = k\n",
    "        \n",
    "    def square_diff(self, v1, v2):\n",
    "    # YOUR CODE HERE\n",
    "        diff_square = (v1-v2) ** 2\n",
    "        return diff_square \n",
    "\n",
    "    def root_sum_squared(self, v1):\n",
    "    # YOUR CODE HERE\n",
    "        get_roots = math.sqrt(sum(v1))\n",
    "        return get_roots\n",
    "    # raise NotImplementedError()\n",
    "    \n",
    "    def euclidean_distances(self, v1, v2):\n",
    "        inner_calculation = self.square_diff(v1, v2)\n",
    "        distance = self.root_sum_squared(inner_calculation)\n",
    "        return distance\n",
    "\n",
    "    def evaluate(self, y, y_p):\n",
    "    # YOUR CODE HERE\n",
    "        count = 0\n",
    "        for index in range(0, len(y)):\n",
    "            if (y[index] == y_p[index]):\n",
    "                count+=1\n",
    "        print('Accuracy {:0.2f}%'.format(count / len(y)*100))\n",
    "\n",
    "    def fit(self, x, y):\n",
    "        self.x_train = x\n",
    "        self.y_train = y\n",
    "        return self\n",
    "    \n",
    "    def predict(self, x_test):\n",
    "        nearest_distance_labels = []\n",
    "        for i in range(len(x_test)):\n",
    "            distance = []\n",
    "            for j in range(len(x_train)):\n",
    "                get_dist = self.euclidean_distances(x_test[i], x_train[j])\n",
    "                distance.append([get_dist, y_train[j]])\n",
    "            distance = sorted(distance, key=itemgetter(0))\n",
    "        # print(distance)\n",
    "            near_distance = np.array(distance[:self.k]).T\n",
    "        # print(near_distance)\n",
    "            nearest_distance_labels.append(int(mode(near_distance[1])))\n",
    "        # print(nearest_distance)\n",
    "        return np.array(nearest_distance_labels)"
   ]
  },
  {
   "cell_type": "code",
   "execution_count": 151,
   "id": "4d6c8019",
   "metadata": {},
   "outputs": [],
   "source": [
    "X, Y = make_blobs(n_samples = 300, centers = 4, cluster_std = 0.6, random_state = 0)"
   ]
  },
  {
   "cell_type": "code",
   "execution_count": 152,
   "id": "6453e941",
   "metadata": {},
   "outputs": [],
   "source": [
    "# YOUR CODE HERE\n",
    "x_train, x_test, y_train, y_test = train_test_split(X, Y, test_size = 0.2, random_state = 0)"
   ]
  },
  {
   "cell_type": "code",
   "execution_count": 153,
   "id": "47fe3cc8",
   "metadata": {},
   "outputs": [],
   "source": [
    "model = KNN(3)"
   ]
  },
  {
   "cell_type": "code",
   "execution_count": 154,
   "id": "4fad902b",
   "metadata": {},
   "outputs": [
    {
     "data": {
      "text/plain": [
       "<__main__.KNN at 0x1c9e75733c8>"
      ]
     },
     "execution_count": 154,
     "metadata": {},
     "output_type": "execute_result"
    }
   ],
   "source": [
    "model.fit(x_train, y_train)"
   ]
  },
  {
   "cell_type": "code",
   "execution_count": 155,
   "id": "0e97d9d2",
   "metadata": {},
   "outputs": [],
   "source": [
    "predict = model.predict(x_test)"
   ]
  },
  {
   "cell_type": "code",
   "execution_count": 156,
   "id": "81547077",
   "metadata": {},
   "outputs": [
    {
     "name": "stdout",
     "output_type": "stream",
     "text": [
      "Accuracy 100.00%\n"
     ]
    }
   ],
   "source": [
    "model.evaluate(predict, y_test)"
   ]
  },
  {
   "cell_type": "code",
   "execution_count": null,
   "id": "e1e02f91",
   "metadata": {},
   "outputs": [],
   "source": []
  }
 ],
 "metadata": {
  "kernelspec": {
   "display_name": "Python 3 (ipykernel)",
   "language": "python",
   "name": "python3"
  },
  "language_info": {
   "codemirror_mode": {
    "name": "ipython",
    "version": 3
   },
   "file_extension": ".py",
   "mimetype": "text/x-python",
   "name": "python",
   "nbconvert_exporter": "python",
   "pygments_lexer": "ipython3",
   "version": "3.7.11"
  }
 },
 "nbformat": 4,
 "nbformat_minor": 5
}
