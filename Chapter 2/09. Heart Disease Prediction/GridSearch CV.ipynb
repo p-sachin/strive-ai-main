{
 "cells": [
  {
   "cell_type": "code",
   "execution_count": 73,
   "id": "3ed037a1",
   "metadata": {},
   "outputs": [],
   "source": [
    "from sklearn.model_selection import GridSearchCV\n",
    "from sklearn.ensemble import RandomForestClassifier\n",
    "from sklearn.compose import ColumnTransformer\n",
    "from sklearn.pipeline import Pipeline\n",
    "from sklearn.preprocessing import StandardScaler\n",
    "from sklearn.model_selection import train_test_split, cross_val_score\n",
    "from sklearn.ensemble import AdaBoostClassifier\n",
    "from sklearn.ensemble import GradientBoostingClassifier\n",
    "from sklearn.linear_model import LogisticRegression\n",
    "from sklearn.svm import SVC\n",
    "import pandas as pd\n",
    "import numpy as np"
   ]
  },
  {
   "cell_type": "code",
   "execution_count": 19,
   "id": "2ff8fa3c",
   "metadata": {},
   "outputs": [],
   "source": [
    "# Random Forest Classifier\n",
    "# LDA\n",
    "# Logistic Regression\n",
    "# AdaBoosting\n",
    "# GradientBoosting\n",
    "# CATBoosting"
   ]
  },
  {
   "cell_type": "code",
   "execution_count": 20,
   "id": "ddfe710d",
   "metadata": {},
   "outputs": [],
   "source": [
    "def data_preprocessing(path):\n",
    "    df = pd.read_csv(path)\n",
    "    X = df.iloc[:,:-1]\n",
    "    y = df.iloc[:,-1]\n",
    "    X_train, X_test, y_train, y_test = train_test_split(X, y, test_size=0.2, random_state=0)\n",
    "    return X_train, X_test, y_train, y_test"
   ]
  },
  {
   "cell_type": "code",
   "execution_count": 21,
   "id": "615bf429",
   "metadata": {},
   "outputs": [],
   "source": [
    "X_train, X_test, y_train, y_test = data_preprocessing(\"heart.csv\")"
   ]
  },
  {
   "cell_type": "code",
   "execution_count": 41,
   "id": "f7336e13",
   "metadata": {},
   "outputs": [
    {
     "data": {
      "text/html": [
       "<div>\n",
       "<style scoped>\n",
       "    .dataframe tbody tr th:only-of-type {\n",
       "        vertical-align: middle;\n",
       "    }\n",
       "\n",
       "    .dataframe tbody tr th {\n",
       "        vertical-align: top;\n",
       "    }\n",
       "\n",
       "    .dataframe thead th {\n",
       "        text-align: right;\n",
       "    }\n",
       "</style>\n",
       "<table border=\"1\" class=\"dataframe\">\n",
       "  <thead>\n",
       "    <tr style=\"text-align: right;\">\n",
       "      <th></th>\n",
       "      <th>age</th>\n",
       "      <th>sex</th>\n",
       "      <th>cp</th>\n",
       "      <th>trtbps</th>\n",
       "      <th>chol</th>\n",
       "      <th>fbs</th>\n",
       "      <th>restecg</th>\n",
       "      <th>thalachh</th>\n",
       "      <th>exng</th>\n",
       "      <th>oldpeak</th>\n",
       "      <th>slp</th>\n",
       "      <th>caa</th>\n",
       "      <th>thall</th>\n",
       "    </tr>\n",
       "  </thead>\n",
       "  <tbody>\n",
       "    <tr>\n",
       "      <th>74</th>\n",
       "      <td>43</td>\n",
       "      <td>0</td>\n",
       "      <td>2</td>\n",
       "      <td>122</td>\n",
       "      <td>213</td>\n",
       "      <td>0</td>\n",
       "      <td>1</td>\n",
       "      <td>165</td>\n",
       "      <td>0</td>\n",
       "      <td>0.2</td>\n",
       "      <td>1</td>\n",
       "      <td>0</td>\n",
       "      <td>2</td>\n",
       "    </tr>\n",
       "    <tr>\n",
       "      <th>153</th>\n",
       "      <td>66</td>\n",
       "      <td>0</td>\n",
       "      <td>2</td>\n",
       "      <td>146</td>\n",
       "      <td>278</td>\n",
       "      <td>0</td>\n",
       "      <td>0</td>\n",
       "      <td>152</td>\n",
       "      <td>0</td>\n",
       "      <td>0.0</td>\n",
       "      <td>1</td>\n",
       "      <td>1</td>\n",
       "      <td>2</td>\n",
       "    </tr>\n",
       "    <tr>\n",
       "      <th>64</th>\n",
       "      <td>58</td>\n",
       "      <td>1</td>\n",
       "      <td>2</td>\n",
       "      <td>140</td>\n",
       "      <td>211</td>\n",
       "      <td>1</td>\n",
       "      <td>0</td>\n",
       "      <td>165</td>\n",
       "      <td>0</td>\n",
       "      <td>0.0</td>\n",
       "      <td>2</td>\n",
       "      <td>0</td>\n",
       "      <td>2</td>\n",
       "    </tr>\n",
       "    <tr>\n",
       "      <th>296</th>\n",
       "      <td>63</td>\n",
       "      <td>0</td>\n",
       "      <td>0</td>\n",
       "      <td>124</td>\n",
       "      <td>197</td>\n",
       "      <td>0</td>\n",
       "      <td>1</td>\n",
       "      <td>136</td>\n",
       "      <td>1</td>\n",
       "      <td>0.0</td>\n",
       "      <td>1</td>\n",
       "      <td>0</td>\n",
       "      <td>2</td>\n",
       "    </tr>\n",
       "    <tr>\n",
       "      <th>287</th>\n",
       "      <td>57</td>\n",
       "      <td>1</td>\n",
       "      <td>1</td>\n",
       "      <td>154</td>\n",
       "      <td>232</td>\n",
       "      <td>0</td>\n",
       "      <td>0</td>\n",
       "      <td>164</td>\n",
       "      <td>0</td>\n",
       "      <td>0.0</td>\n",
       "      <td>2</td>\n",
       "      <td>1</td>\n",
       "      <td>2</td>\n",
       "    </tr>\n",
       "    <tr>\n",
       "      <th>...</th>\n",
       "      <td>...</td>\n",
       "      <td>...</td>\n",
       "      <td>...</td>\n",
       "      <td>...</td>\n",
       "      <td>...</td>\n",
       "      <td>...</td>\n",
       "      <td>...</td>\n",
       "      <td>...</td>\n",
       "      <td>...</td>\n",
       "      <td>...</td>\n",
       "      <td>...</td>\n",
       "      <td>...</td>\n",
       "      <td>...</td>\n",
       "    </tr>\n",
       "    <tr>\n",
       "      <th>251</th>\n",
       "      <td>43</td>\n",
       "      <td>1</td>\n",
       "      <td>0</td>\n",
       "      <td>132</td>\n",
       "      <td>247</td>\n",
       "      <td>1</td>\n",
       "      <td>0</td>\n",
       "      <td>143</td>\n",
       "      <td>1</td>\n",
       "      <td>0.1</td>\n",
       "      <td>1</td>\n",
       "      <td>4</td>\n",
       "      <td>3</td>\n",
       "    </tr>\n",
       "    <tr>\n",
       "      <th>192</th>\n",
       "      <td>54</td>\n",
       "      <td>1</td>\n",
       "      <td>0</td>\n",
       "      <td>120</td>\n",
       "      <td>188</td>\n",
       "      <td>0</td>\n",
       "      <td>1</td>\n",
       "      <td>113</td>\n",
       "      <td>0</td>\n",
       "      <td>1.4</td>\n",
       "      <td>1</td>\n",
       "      <td>1</td>\n",
       "      <td>3</td>\n",
       "    </tr>\n",
       "    <tr>\n",
       "      <th>117</th>\n",
       "      <td>56</td>\n",
       "      <td>1</td>\n",
       "      <td>3</td>\n",
       "      <td>120</td>\n",
       "      <td>193</td>\n",
       "      <td>0</td>\n",
       "      <td>0</td>\n",
       "      <td>162</td>\n",
       "      <td>0</td>\n",
       "      <td>1.9</td>\n",
       "      <td>1</td>\n",
       "      <td>0</td>\n",
       "      <td>3</td>\n",
       "    </tr>\n",
       "    <tr>\n",
       "      <th>47</th>\n",
       "      <td>47</td>\n",
       "      <td>1</td>\n",
       "      <td>2</td>\n",
       "      <td>138</td>\n",
       "      <td>257</td>\n",
       "      <td>0</td>\n",
       "      <td>0</td>\n",
       "      <td>156</td>\n",
       "      <td>0</td>\n",
       "      <td>0.0</td>\n",
       "      <td>2</td>\n",
       "      <td>0</td>\n",
       "      <td>2</td>\n",
       "    </tr>\n",
       "    <tr>\n",
       "      <th>172</th>\n",
       "      <td>58</td>\n",
       "      <td>1</td>\n",
       "      <td>1</td>\n",
       "      <td>120</td>\n",
       "      <td>284</td>\n",
       "      <td>0</td>\n",
       "      <td>0</td>\n",
       "      <td>160</td>\n",
       "      <td>0</td>\n",
       "      <td>1.8</td>\n",
       "      <td>1</td>\n",
       "      <td>0</td>\n",
       "      <td>2</td>\n",
       "    </tr>\n",
       "  </tbody>\n",
       "</table>\n",
       "<p>242 rows × 13 columns</p>\n",
       "</div>"
      ],
      "text/plain": [
       "     age  sex  cp  trtbps  chol  fbs  restecg  thalachh  exng  oldpeak  slp  \\\n",
       "74    43    0   2     122   213    0        1       165     0      0.2    1   \n",
       "153   66    0   2     146   278    0        0       152     0      0.0    1   \n",
       "64    58    1   2     140   211    1        0       165     0      0.0    2   \n",
       "296   63    0   0     124   197    0        1       136     1      0.0    1   \n",
       "287   57    1   1     154   232    0        0       164     0      0.0    2   \n",
       "..   ...  ...  ..     ...   ...  ...      ...       ...   ...      ...  ...   \n",
       "251   43    1   0     132   247    1        0       143     1      0.1    1   \n",
       "192   54    1   0     120   188    0        1       113     0      1.4    1   \n",
       "117   56    1   3     120   193    0        0       162     0      1.9    1   \n",
       "47    47    1   2     138   257    0        0       156     0      0.0    2   \n",
       "172   58    1   1     120   284    0        0       160     0      1.8    1   \n",
       "\n",
       "     caa  thall  \n",
       "74     0      2  \n",
       "153    1      2  \n",
       "64     0      2  \n",
       "296    0      2  \n",
       "287    1      2  \n",
       "..   ...    ...  \n",
       "251    4      3  \n",
       "192    1      3  \n",
       "117    0      3  \n",
       "47     0      2  \n",
       "172    0      2  \n",
       "\n",
       "[242 rows x 13 columns]"
      ]
     },
     "execution_count": 41,
     "metadata": {},
     "output_type": "execute_result"
    }
   ],
   "source": [
    "X_train"
   ]
  },
  {
   "cell_type": "code",
   "execution_count": 22,
   "id": "dcaa14ee",
   "metadata": {},
   "outputs": [],
   "source": [
    "#cat_cols = ['sex','exng','caa','cp','fbs','restecg','slp','thall']\n",
    "num_cols = [\"age\",\"trtbps\",\"chol\",\"thalachh\",\"oldpeak\"]"
   ]
  },
  {
   "cell_type": "code",
   "execution_count": 42,
   "id": "5123b5c0",
   "metadata": {},
   "outputs": [],
   "source": [
    "cols = [\"age\",\"trtbps\",\"chol\",\"thalachh\",\"oldpeak\", 'sex','exng','caa','cp','fbs','restecg','slp','thall']"
   ]
  },
  {
   "cell_type": "code",
   "execution_count": 23,
   "id": "1e8d5ac6",
   "metadata": {},
   "outputs": [],
   "source": [
    "numerical_transformer = StandardScaler()"
   ]
  },
  {
   "cell_type": "code",
   "execution_count": 46,
   "id": "50323f84",
   "metadata": {},
   "outputs": [],
   "source": [
    "ct = ColumnTransformer(\n",
    "    transformers=[\n",
    "        (\"num\", numerical_transformer, num_cols)\n",
    "    ], remainder='passthrough')"
   ]
  },
  {
   "cell_type": "code",
   "execution_count": 47,
   "id": "b9ce30d4",
   "metadata": {},
   "outputs": [],
   "source": [
    "X_train_scaled = ct.fit_transform(X_train)\n",
    "X_test_scaled = ct.transform(X_test)"
   ]
  },
  {
   "cell_type": "code",
   "execution_count": 48,
   "id": "1e884e8c",
   "metadata": {},
   "outputs": [],
   "source": [
    "X_train_scaled = pd.DataFrame(X_train_scaled, columns=cols)"
   ]
  },
  {
   "cell_type": "code",
   "execution_count": 63,
   "id": "384df769",
   "metadata": {},
   "outputs": [],
   "source": [
    "X_test_scaled = pd.DataFrame(X_test_scaled, columns=cols)"
   ]
  },
  {
   "cell_type": "code",
   "execution_count": 64,
   "id": "cc569b7e",
   "metadata": {},
   "outputs": [
    {
     "data": {
      "text/html": [
       "<div>\n",
       "<style scoped>\n",
       "    .dataframe tbody tr th:only-of-type {\n",
       "        vertical-align: middle;\n",
       "    }\n",
       "\n",
       "    .dataframe tbody tr th {\n",
       "        vertical-align: top;\n",
       "    }\n",
       "\n",
       "    .dataframe thead th {\n",
       "        text-align: right;\n",
       "    }\n",
       "</style>\n",
       "<table border=\"1\" class=\"dataframe\">\n",
       "  <thead>\n",
       "    <tr style=\"text-align: right;\">\n",
       "      <th></th>\n",
       "      <th>age</th>\n",
       "      <th>trtbps</th>\n",
       "      <th>chol</th>\n",
       "      <th>thalachh</th>\n",
       "      <th>oldpeak</th>\n",
       "      <th>sex</th>\n",
       "      <th>exng</th>\n",
       "      <th>caa</th>\n",
       "      <th>cp</th>\n",
       "      <th>fbs</th>\n",
       "      <th>restecg</th>\n",
       "      <th>slp</th>\n",
       "      <th>thall</th>\n",
       "    </tr>\n",
       "  </thead>\n",
       "  <tbody>\n",
       "    <tr>\n",
       "      <th>0</th>\n",
       "      <td>1.697165</td>\n",
       "      <td>0.772516</td>\n",
       "      <td>-1.363541</td>\n",
       "      <td>-1.073753</td>\n",
       "      <td>1.290005</td>\n",
       "      <td>1.0</td>\n",
       "      <td>0.0</td>\n",
       "      <td>0.0</td>\n",
       "      <td>1.0</td>\n",
       "      <td>1.0</td>\n",
       "      <td>0.0</td>\n",
       "      <td>0.0</td>\n",
       "      <td>3.0</td>\n",
       "    </tr>\n",
       "    <tr>\n",
       "      <th>1</th>\n",
       "      <td>1.024965</td>\n",
       "      <td>2.236257</td>\n",
       "      <td>-0.370312</td>\n",
       "      <td>0.223758</td>\n",
       "      <td>-0.388840</td>\n",
       "      <td>1.0</td>\n",
       "      <td>3.0</td>\n",
       "      <td>0.0</td>\n",
       "      <td>0.0</td>\n",
       "      <td>0.0</td>\n",
       "      <td>1.0</td>\n",
       "      <td>0.0</td>\n",
       "      <td>3.0</td>\n",
       "    </tr>\n",
       "    <tr>\n",
       "      <th>2</th>\n",
       "      <td>0.464799</td>\n",
       "      <td>2.236257</td>\n",
       "      <td>0.772838</td>\n",
       "      <td>0.396759</td>\n",
       "      <td>-0.724609</td>\n",
       "      <td>1.0</td>\n",
       "      <td>3.0</td>\n",
       "      <td>0.0</td>\n",
       "      <td>0.0</td>\n",
       "      <td>0.0</td>\n",
       "      <td>1.0</td>\n",
       "      <td>0.0</td>\n",
       "      <td>3.0</td>\n",
       "    </tr>\n",
       "    <tr>\n",
       "      <th>3</th>\n",
       "      <td>0.576832</td>\n",
       "      <td>-0.398476</td>\n",
       "      <td>0.210633</td>\n",
       "      <td>-0.381747</td>\n",
       "      <td>1.457889</td>\n",
       "      <td>1.0</td>\n",
       "      <td>0.0</td>\n",
       "      <td>0.0</td>\n",
       "      <td>0.0</td>\n",
       "      <td>1.0</td>\n",
       "      <td>1.0</td>\n",
       "      <td>1.0</td>\n",
       "      <td>3.0</td>\n",
       "    </tr>\n",
       "    <tr>\n",
       "      <th>4</th>\n",
       "      <td>0.800899</td>\n",
       "      <td>-0.105728</td>\n",
       "      <td>-0.295351</td>\n",
       "      <td>-0.165495</td>\n",
       "      <td>0.618467</td>\n",
       "      <td>1.0</td>\n",
       "      <td>2.0</td>\n",
       "      <td>0.0</td>\n",
       "      <td>1.0</td>\n",
       "      <td>0.0</td>\n",
       "      <td>1.0</td>\n",
       "      <td>3.0</td>\n",
       "      <td>3.0</td>\n",
       "    </tr>\n",
       "    <tr>\n",
       "      <th>...</th>\n",
       "      <td>...</td>\n",
       "      <td>...</td>\n",
       "      <td>...</td>\n",
       "      <td>...</td>\n",
       "      <td>...</td>\n",
       "      <td>...</td>\n",
       "      <td>...</td>\n",
       "      <td>...</td>\n",
       "      <td>...</td>\n",
       "      <td>...</td>\n",
       "      <td>...</td>\n",
       "      <td>...</td>\n",
       "      <td>...</td>\n",
       "    </tr>\n",
       "    <tr>\n",
       "      <th>56</th>\n",
       "      <td>-1.215700</td>\n",
       "      <td>-0.808324</td>\n",
       "      <td>-0.089209</td>\n",
       "      <td>-0.035744</td>\n",
       "      <td>-0.640667</td>\n",
       "      <td>0.0</td>\n",
       "      <td>2.0</td>\n",
       "      <td>0.0</td>\n",
       "      <td>1.0</td>\n",
       "      <td>0.0</td>\n",
       "      <td>1.0</td>\n",
       "      <td>1.0</td>\n",
       "      <td>2.0</td>\n",
       "    </tr>\n",
       "    <tr>\n",
       "      <th>57</th>\n",
       "      <td>0.240733</td>\n",
       "      <td>-0.105728</td>\n",
       "      <td>-0.201650</td>\n",
       "      <td>1.045515</td>\n",
       "      <td>-0.892493</td>\n",
       "      <td>0.0</td>\n",
       "      <td>1.0</td>\n",
       "      <td>0.0</td>\n",
       "      <td>0.0</td>\n",
       "      <td>0.0</td>\n",
       "      <td>1.0</td>\n",
       "      <td>1.0</td>\n",
       "      <td>2.0</td>\n",
       "    </tr>\n",
       "    <tr>\n",
       "      <th>58</th>\n",
       "      <td>0.464799</td>\n",
       "      <td>1.065265</td>\n",
       "      <td>-0.651414</td>\n",
       "      <td>0.310259</td>\n",
       "      <td>0.450583</td>\n",
       "      <td>1.0</td>\n",
       "      <td>2.0</td>\n",
       "      <td>1.0</td>\n",
       "      <td>1.0</td>\n",
       "      <td>0.0</td>\n",
       "      <td>2.0</td>\n",
       "      <td>0.0</td>\n",
       "      <td>2.0</td>\n",
       "    </tr>\n",
       "    <tr>\n",
       "      <th>59</th>\n",
       "      <td>-0.543500</td>\n",
       "      <td>-0.691224</td>\n",
       "      <td>-0.051729</td>\n",
       "      <td>0.526511</td>\n",
       "      <td>0.030871</td>\n",
       "      <td>0.0</td>\n",
       "      <td>1.0</td>\n",
       "      <td>0.0</td>\n",
       "      <td>1.0</td>\n",
       "      <td>0.0</td>\n",
       "      <td>2.0</td>\n",
       "      <td>0.0</td>\n",
       "      <td>2.0</td>\n",
       "    </tr>\n",
       "    <tr>\n",
       "      <th>60</th>\n",
       "      <td>0.352766</td>\n",
       "      <td>-1.862217</td>\n",
       "      <td>0.023232</td>\n",
       "      <td>-1.203504</td>\n",
       "      <td>-0.053071</td>\n",
       "      <td>0.0</td>\n",
       "      <td>0.0</td>\n",
       "      <td>0.0</td>\n",
       "      <td>0.0</td>\n",
       "      <td>0.0</td>\n",
       "      <td>1.0</td>\n",
       "      <td>0.0</td>\n",
       "      <td>2.0</td>\n",
       "    </tr>\n",
       "  </tbody>\n",
       "</table>\n",
       "<p>61 rows × 13 columns</p>\n",
       "</div>"
      ],
      "text/plain": [
       "         age    trtbps      chol  thalachh   oldpeak  sex  exng  caa   cp  \\\n",
       "0   1.697165  0.772516 -1.363541 -1.073753  1.290005  1.0   0.0  0.0  1.0   \n",
       "1   1.024965  2.236257 -0.370312  0.223758 -0.388840  1.0   3.0  0.0  0.0   \n",
       "2   0.464799  2.236257  0.772838  0.396759 -0.724609  1.0   3.0  0.0  0.0   \n",
       "3   0.576832 -0.398476  0.210633 -0.381747  1.457889  1.0   0.0  0.0  0.0   \n",
       "4   0.800899 -0.105728 -0.295351 -0.165495  0.618467  1.0   2.0  0.0  1.0   \n",
       "..       ...       ...       ...       ...       ...  ...   ...  ...  ...   \n",
       "56 -1.215700 -0.808324 -0.089209 -0.035744 -0.640667  0.0   2.0  0.0  1.0   \n",
       "57  0.240733 -0.105728 -0.201650  1.045515 -0.892493  0.0   1.0  0.0  0.0   \n",
       "58  0.464799  1.065265 -0.651414  0.310259  0.450583  1.0   2.0  1.0  1.0   \n",
       "59 -0.543500 -0.691224 -0.051729  0.526511  0.030871  0.0   1.0  0.0  1.0   \n",
       "60  0.352766 -1.862217  0.023232 -1.203504 -0.053071  0.0   0.0  0.0  0.0   \n",
       "\n",
       "    fbs  restecg  slp  thall  \n",
       "0   1.0      0.0  0.0    3.0  \n",
       "1   0.0      1.0  0.0    3.0  \n",
       "2   0.0      1.0  0.0    3.0  \n",
       "3   1.0      1.0  1.0    3.0  \n",
       "4   0.0      1.0  3.0    3.0  \n",
       "..  ...      ...  ...    ...  \n",
       "56  0.0      1.0  1.0    2.0  \n",
       "57  0.0      1.0  1.0    2.0  \n",
       "58  0.0      2.0  0.0    2.0  \n",
       "59  0.0      2.0  0.0    2.0  \n",
       "60  0.0      1.0  0.0    2.0  \n",
       "\n",
       "[61 rows x 13 columns]"
      ]
     },
     "execution_count": 64,
     "metadata": {},
     "output_type": "execute_result"
    }
   ],
   "source": [
    "X_test_scaled"
   ]
  },
  {
   "cell_type": "code",
   "execution_count": 50,
   "id": "07fcacfc",
   "metadata": {},
   "outputs": [],
   "source": [
    "clf1 = SVC()\n",
    "clf2 = RandomForestClassifier()\n",
    "clf3 = LogisticRegression()\n",
    "clf4 = GradientBoostingClassifier()"
   ]
  },
  {
   "cell_type": "code",
   "execution_count": 51,
   "id": "1efdb5f8",
   "metadata": {},
   "outputs": [],
   "source": [
    "pipe = Pipeline([('preprocessor', ct), ('classifier', clf1)])"
   ]
  },
  {
   "cell_type": "code",
   "execution_count": 11,
   "id": "269fc77d",
   "metadata": {},
   "outputs": [],
   "source": [
    "# params1 = {}\n",
    "# params1['classifier__kernel'] = ['rbf', 'poly', 'linear', 'sigmoid']\n",
    "# params1['classifier__C'] = [0.001, 0.01, 0.1, 1, 10, 100]\n",
    "# params1['classifier'] = [clf1]"
   ]
  },
  {
   "cell_type": "code",
   "execution_count": 12,
   "id": "6ca8dcee",
   "metadata": {},
   "outputs": [],
   "source": [
    "# params2 = {}\n",
    "# params2['classifier__criterion'] = ['gini', 'entropy']\n",
    "# params2['classifier__n_estimators'] = [1, 40, 80, 100, 120, 160, 200, 250, 300]\n",
    "# params2['classifier__max_depth'] = [1, 2, 4, 6, 8, 10, 12, 14, 16, 18, 20]\n",
    "# params2['classifier'] = [clf2]"
   ]
  },
  {
   "cell_type": "code",
   "execution_count": 52,
   "id": "72ac20b7",
   "metadata": {},
   "outputs": [],
   "source": [
    "# params1 = {'classifier__kernel': ['rbf', 'poly', 'linear', 'sigmoid'],\n",
    "#           'classifier__C': [0.001, 0.01, 0.1, 1, 10, 100],\n",
    "#            'classifier': [clf1]\n",
    "#          }\n",
    "\n",
    "params2 = {'classifier__criterion':['gini', 'entropy'],\n",
    "              'classifier__n_estimators':[x for x in range(1,100,10)],\n",
    "           'classifier__max_depth': [x for x in range(1,10,1)],\n",
    "            'classifier': [clf2]\n",
    "             }\n",
    "\n",
    "params3 =    {'classifier__penalty' : ['l1', 'l2', 'elasticnet', 'none'],\n",
    "    'classifier__C' : np.logspace(-4, 4, 20),\n",
    "    'classifier__solver' : ['lbfgs','newton-cg','liblinear','sag','saga'],\n",
    "    'classifier__max_iter' : [100, 1000,2500, 5000],\n",
    "                 'classifier': [cl3]\n",
    "    }\n",
    "\n",
    "params4 = {\n",
    "    \"classifier__n_estimators\":[5,50,250,500],\n",
    "    \"classifier__max_depth\":[1,3,5,7,9],\n",
    "    \"classifier__learning_rate\":[0.01,0.1,1,10,100]\n",
    "    'classifier': [cl4]\n",
    "}\n",
    "\n"
   ]
  },
  {
   "cell_type": "code",
   "execution_count": 53,
   "id": "799cf69c",
   "metadata": {},
   "outputs": [],
   "source": [
    "params_grid = [params2]"
   ]
  },
  {
   "cell_type": "code",
   "execution_count": 54,
   "id": "b356d8ce",
   "metadata": {},
   "outputs": [],
   "source": [
    "grid = GridSearchCV(pipe, params_grid, scoring='accuracy', cv=5, verbose=1)"
   ]
  },
  {
   "cell_type": "code",
   "execution_count": 55,
   "id": "5f93a54d",
   "metadata": {},
   "outputs": [
    {
     "name": "stdout",
     "output_type": "stream",
     "text": [
      "Fitting 5 folds for each of 180 candidates, totalling 900 fits\n"
     ]
    },
    {
     "data": {
      "text/plain": [
       "GridSearchCV(cv=5,\n",
       "             estimator=Pipeline(steps=[('preprocessor',\n",
       "                                        ColumnTransformer(remainder='passthrough',\n",
       "                                                          transformers=[('num',\n",
       "                                                                         StandardScaler(),\n",
       "                                                                         ['age',\n",
       "                                                                          'trtbps',\n",
       "                                                                          'chol',\n",
       "                                                                          'thalachh',\n",
       "                                                                          'oldpeak'])])),\n",
       "                                       ('classifier', SVC())]),\n",
       "             param_grid=[{'classifier': [RandomForestClassifier(criterion='entropy',\n",
       "                                                                max_depth=3,\n",
       "                                                                n_estimators=71)],\n",
       "                          'classifier__criterion': ['gini', 'entropy'],\n",
       "                          'classifier__max_depth': [1, 2, 3, 4, 5, 6, 7, 8, 9],\n",
       "                          'classifier__n_estimators': [1, 11, 21, 31, 41, 51,\n",
       "                                                       61, 71, 81, 91]}],\n",
       "             scoring='accuracy', verbose=1)"
      ]
     },
     "execution_count": 55,
     "metadata": {},
     "output_type": "execute_result"
    }
   ],
   "source": [
    "grid.fit(X_train_scaled, y_train)"
   ]
  },
  {
   "cell_type": "code",
   "execution_count": null,
   "id": "706eb7b5",
   "metadata": {},
   "outputs": [],
   "source": [
    "grid.cv_results_"
   ]
  },
  {
   "cell_type": "code",
   "execution_count": 72,
   "id": "26b25cb9",
   "metadata": {},
   "outputs": [
    {
     "data": {
      "text/plain": [
       "[{'classifier__criterion': ['gini', 'entropy'],\n",
       "  'classifier__n_estimators': [1, 11, 21, 31, 41, 51, 61, 71, 81, 91],\n",
       "  'classifier__max_depth': [1, 2, 3, 4, 5, 6, 7, 8, 9],\n",
       "  'classifier': [RandomForestClassifier(criterion='entropy', max_depth=3, n_estimators=71)]}]"
      ]
     },
     "execution_count": 72,
     "metadata": {},
     "output_type": "execute_result"
    }
   ],
   "source": [
    "grid.param_grid"
   ]
  },
  {
   "cell_type": "code",
   "execution_count": null,
   "id": "00ceae07",
   "metadata": {},
   "outputs": [],
   "source": [
    "# def data_preprocessing(path):\n",
    "#     df = pd.read_csv(path)\n",
    "#     X = df.iloc[:,:-1]\n",
    "#     y = df.iloc[:,-1]\n",
    "#     X_train, X_test, y_train, y_test = train_test_split(X, y, test_size=0.2, random_state=0)\n",
    "#     return X_train, X_test, y_train, y_test"
   ]
  },
  {
   "cell_type": "code",
   "execution_count": 58,
   "id": "addcd2f7",
   "metadata": {},
   "outputs": [
    {
     "data": {
      "text/plain": [
       "0.851530612244898"
      ]
     },
     "execution_count": 58,
     "metadata": {},
     "output_type": "execute_result"
    }
   ],
   "source": [
    "grid.best_score_"
   ]
  },
  {
   "cell_type": "code",
   "execution_count": 60,
   "id": "8963e62c",
   "metadata": {},
   "outputs": [],
   "source": [
    "model = RandomForestClassifier(n_estimators=71, criterion='entropy', max_depth=3)"
   ]
  },
  {
   "cell_type": "code",
   "execution_count": 61,
   "id": "59b1f73f",
   "metadata": {},
   "outputs": [
    {
     "data": {
      "text/plain": [
       "RandomForestClassifier(criterion='entropy', max_depth=3, n_estimators=71)"
      ]
     },
     "execution_count": 61,
     "metadata": {},
     "output_type": "execute_result"
    }
   ],
   "source": [
    "model.fit(X_train_scaled, y_train)"
   ]
  },
  {
   "cell_type": "code",
   "execution_count": 66,
   "id": "42009f90",
   "metadata": {},
   "outputs": [],
   "source": [
    "pred = model.predict(X_test_scaled)"
   ]
  },
  {
   "cell_type": "code",
   "execution_count": 67,
   "id": "748f4d28",
   "metadata": {},
   "outputs": [
    {
     "data": {
      "text/plain": [
       "0.8852459016393442"
      ]
     },
     "execution_count": 67,
     "metadata": {},
     "output_type": "execute_result"
    }
   ],
   "source": [
    "(y_test == pred).mean()"
   ]
  },
  {
   "cell_type": "code",
   "execution_count": null,
   "id": "fa58d0d1",
   "metadata": {},
   "outputs": [],
   "source": []
  }
 ],
 "metadata": {
  "kernelspec": {
   "display_name": "Python 3 (ipykernel)",
   "language": "python",
   "name": "python3"
  },
  "language_info": {
   "codemirror_mode": {
    "name": "ipython",
    "version": 3
   },
   "file_extension": ".py",
   "mimetype": "text/x-python",
   "name": "python",
   "nbconvert_exporter": "python",
   "pygments_lexer": "ipython3",
   "version": "3.7.11"
  }
 },
 "nbformat": 4,
 "nbformat_minor": 5
}
