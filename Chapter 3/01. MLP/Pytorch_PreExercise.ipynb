{
 "cells": [
  {
   "cell_type": "code",
   "execution_count": 5,
   "id": "2f0b5abd",
   "metadata": {},
   "outputs": [],
   "source": [
    "# Install torch and torchvision on your computer\n",
    "# It's convenient to create a virtual env for that"
   ]
  },
  {
   "cell_type": "code",
   "execution_count": 6,
   "id": "7d8165bb",
   "metadata": {},
   "outputs": [],
   "source": [
    "import matplotlib.pyplot as plt\n",
    "import torch\n",
    "import torch.nn as nn\n",
    "import numpy as np\n",
    "import matplotlib.pyplot as plt"
   ]
  },
  {
   "cell_type": "code",
   "execution_count": 7,
   "id": "ac7369bb",
   "metadata": {},
   "outputs": [
    {
     "data": {
      "text/plain": [
       "<torch._C.Generator at 0x2110fac7950>"
      ]
     },
     "execution_count": 7,
     "metadata": {},
     "output_type": "execute_result"
    }
   ],
   "source": [
    "# set the torch manual seed to 42\n",
    "torch.manual_seed(42)"
   ]
  },
  {
   "cell_type": "code",
   "execution_count": 8,
   "id": "6b41f627",
   "metadata": {},
   "outputs": [
    {
     "data": {
      "text/plain": [
       "tensor([-0.3278,  0.7950,  0.2815,  0.5620,  0.5227])"
      ]
     },
     "execution_count": 8,
     "metadata": {},
     "output_type": "execute_result"
    }
   ],
   "source": [
    "# Create a tensor of shape (5,) and store in the features variable\n",
    "features = [-0.3278, 0.7950, 0.2815, 0.562, 0.5227]\n",
    "features = torch.tensor(features)\n",
    "features"
   ]
  },
  {
   "cell_type": "code",
   "execution_count": 9,
   "id": "79b6517d",
   "metadata": {},
   "outputs": [],
   "source": [
    "# Generate a tensor called weights with the same shape of features\n",
    "# Hint: search torch.rand_like\n",
    "weights = 0\n",
    "weights = torch.rand_like(features)"
   ]
  },
  {
   "cell_type": "code",
   "execution_count": 10,
   "id": "bea46bd2",
   "metadata": {},
   "outputs": [],
   "source": [
    "assert weights.shape == features.shape"
   ]
  },
  {
   "cell_type": "code",
   "execution_count": 11,
   "id": "f1f3a2a0",
   "metadata": {},
   "outputs": [
    {
     "data": {
      "text/plain": [
       "tensor([0.8823, 0.9150, 0.3829, 0.9593, 0.3904])"
      ]
     },
     "execution_count": 11,
     "metadata": {},
     "output_type": "execute_result"
    }
   ],
   "source": [
    "weights"
   ]
  },
  {
   "cell_type": "code",
   "execution_count": 12,
   "id": "8de7a502",
   "metadata": {},
   "outputs": [],
   "source": [
    "bias = torch.randn((1,1))"
   ]
  },
  {
   "cell_type": "code",
   "execution_count": 13,
   "id": "985c5135",
   "metadata": {},
   "outputs": [
    {
     "data": {
      "text/plain": [
       "tensor([[0.3258]])"
      ]
     },
     "execution_count": 13,
     "metadata": {},
     "output_type": "execute_result"
    }
   ],
   "source": [
    "bias"
   ]
  },
  {
   "cell_type": "code",
   "execution_count": 14,
   "id": "7ca90abe",
   "metadata": {},
   "outputs": [],
   "source": [
    "# Implement the sigmoid function by using torch\n",
    "def sigmoid(x):\n",
    "    return (1/1+np.exp(-x))"
   ]
  },
  {
   "cell_type": "code",
   "execution_count": 15,
   "id": "a299470e",
   "metadata": {},
   "outputs": [],
   "source": [
    "# Use torch.dot function for multiplying weights and features and\n",
    "# add the bias to the result. Store the result into the score variable\n",
    "score = 0\n",
    "score = torch.dot(weights, features) + bias"
   ]
  },
  {
   "cell_type": "code",
   "execution_count": 16,
   "id": "d7d8ee31",
   "metadata": {},
   "outputs": [],
   "source": [
    "assert score.shape == (1,1)"
   ]
  },
  {
   "cell_type": "code",
   "execution_count": 17,
   "id": "06bb5009",
   "metadata": {},
   "outputs": [],
   "source": [
    "# Use the defined sigmoid function to activate the score.\n",
    "# Store the result in the prob variable\n",
    "prob = 0\n",
    "prob = sigmoid(score)"
   ]
  },
  {
   "cell_type": "code",
   "execution_count": 18,
   "id": "0562594f",
   "metadata": {},
   "outputs": [
    {
     "data": {
      "text/plain": [
       "tensor([[1.1989]])"
      ]
     },
     "execution_count": 18,
     "metadata": {},
     "output_type": "execute_result"
    }
   ],
   "source": [
    "prob"
   ]
  },
  {
   "cell_type": "code",
   "execution_count": 19,
   "id": "d024296e",
   "metadata": {},
   "outputs": [],
   "source": [
    "assert prob.shape == (1,1)"
   ]
  },
  {
   "cell_type": "code",
   "execution_count": 20,
   "id": "c3cfd8fa",
   "metadata": {},
   "outputs": [
    {
     "data": {
      "text/plain": [
       "tensor([[0.5491, 0.2813, 0.4184],\n",
       "        [0.2238, 0.8457, 0.8570],\n",
       "        [0.9861, 0.2081, 0.9040],\n",
       "        [0.9342, 0.1847, 0.5466]], dtype=torch.float64)"
      ]
     },
     "execution_count": 20,
     "metadata": {},
     "output_type": "execute_result"
    }
   ],
   "source": [
    "# Convert the a numpy array into a torch tensor\n",
    "# Store it in the b variable\n",
    "a = np.random.rand(4, 3)\n",
    "b = torch.tensor(a)\n",
    "b"
   ]
  },
  {
   "cell_type": "code",
   "execution_count": 21,
   "id": "622b90c2",
   "metadata": {},
   "outputs": [],
   "source": [
    "assert b.shape == (4,3) "
   ]
  },
  {
   "cell_type": "code",
   "execution_count": 22,
   "id": "5fde318a",
   "metadata": {},
   "outputs": [
    {
     "data": {
      "text/plain": [
       "array([1, 2], dtype=int64)"
      ]
     },
     "execution_count": 22,
     "metadata": {},
     "output_type": "execute_result"
    }
   ],
   "source": [
    "# Do the opposite now. From the given tensor a convert it a numpy array\n",
    "# Store the result in b\n",
    "a = torch.tensor([1,2])\n",
    "b = a.detach().numpy()\n",
    "b"
   ]
  },
  {
   "cell_type": "code",
   "execution_count": 23,
   "id": "7ac740a3",
   "metadata": {},
   "outputs": [],
   "source": [
    "assert type(b) == np.ndarray"
   ]
  },
  {
   "cell_type": "code",
   "execution_count": 24,
   "id": "4f7b95f5",
   "metadata": {},
   "outputs": [
    {
     "data": {
      "text/plain": [
       "torch.Size([10, 10])"
      ]
     },
     "execution_count": 24,
     "metadata": {},
     "output_type": "execute_result"
    }
   ],
   "source": [
    "# Reshape the given v tensor in a 10x10 tensor.\n",
    "# Store the result in v_reshaped\n",
    "# You can use various methods: reshape, view, resize... Check all of them\n",
    "v = torch.randn((100,1))\n",
    "# With Reshape method\n",
    "#v_reshaped = v.reshape(10,10)\n",
    "# With View Method\n",
    "#v_reshaped = v.view(10,10)\n",
    "# With Resize method (Deprecated)\n",
    "v_reshaped = v.reshape(10,10)\n",
    "v_reshaped.shape"
   ]
  },
  {
   "cell_type": "code",
   "execution_count": 25,
   "id": "f15eb1b8",
   "metadata": {},
   "outputs": [],
   "source": [
    "# create a tensor with shape (16, 32, 32, 3) containing only ones\n",
    "# Store it in the ones variable\n",
    "ones = 0\n",
    "ones = torch.ones(49152)\n",
    "ones = ones.reshape(16, 32, 32, 3)"
   ]
  },
  {
   "cell_type": "code",
   "execution_count": 26,
   "id": "f0b6806d",
   "metadata": {},
   "outputs": [],
   "source": [
    "assert ones.shape == (16, 32, 32, 3)"
   ]
  },
  {
   "cell_type": "code",
   "execution_count": 27,
   "id": "6dd96a01",
   "metadata": {},
   "outputs": [
    {
     "data": {
      "text/html": [
       "<div>\n",
       "<style scoped>\n",
       "    .dataframe tbody tr th:only-of-type {\n",
       "        vertical-align: middle;\n",
       "    }\n",
       "\n",
       "    .dataframe tbody tr th {\n",
       "        vertical-align: top;\n",
       "    }\n",
       "\n",
       "    .dataframe thead th {\n",
       "        text-align: right;\n",
       "    }\n",
       "</style>\n",
       "<table border=\"1\" class=\"dataframe\">\n",
       "  <thead>\n",
       "    <tr style=\"text-align: right;\">\n",
       "      <th></th>\n",
       "      <th>0</th>\n",
       "      <th>1</th>\n",
       "      <th>2</th>\n",
       "    </tr>\n",
       "  </thead>\n",
       "  <tbody>\n",
       "    <tr>\n",
       "      <th>0</th>\n",
       "      <td>0.78051</td>\n",
       "      <td>-0.063669</td>\n",
       "      <td>1</td>\n",
       "    </tr>\n",
       "    <tr>\n",
       "      <th>1</th>\n",
       "      <td>0.28774</td>\n",
       "      <td>0.291390</td>\n",
       "      <td>1</td>\n",
       "    </tr>\n",
       "    <tr>\n",
       "      <th>2</th>\n",
       "      <td>0.40714</td>\n",
       "      <td>0.178780</td>\n",
       "      <td>1</td>\n",
       "    </tr>\n",
       "    <tr>\n",
       "      <th>3</th>\n",
       "      <td>0.29230</td>\n",
       "      <td>0.421700</td>\n",
       "      <td>1</td>\n",
       "    </tr>\n",
       "    <tr>\n",
       "      <th>4</th>\n",
       "      <td>0.50922</td>\n",
       "      <td>0.352560</td>\n",
       "      <td>1</td>\n",
       "    </tr>\n",
       "    <tr>\n",
       "      <th>...</th>\n",
       "      <td>...</td>\n",
       "      <td>...</td>\n",
       "      <td>...</td>\n",
       "    </tr>\n",
       "    <tr>\n",
       "      <th>95</th>\n",
       "      <td>0.77029</td>\n",
       "      <td>0.701400</td>\n",
       "      <td>0</td>\n",
       "    </tr>\n",
       "    <tr>\n",
       "      <th>96</th>\n",
       "      <td>0.73156</td>\n",
       "      <td>0.717820</td>\n",
       "      <td>0</td>\n",
       "    </tr>\n",
       "    <tr>\n",
       "      <th>97</th>\n",
       "      <td>0.44556</td>\n",
       "      <td>0.579910</td>\n",
       "      <td>0</td>\n",
       "    </tr>\n",
       "    <tr>\n",
       "      <th>98</th>\n",
       "      <td>0.85275</td>\n",
       "      <td>0.859870</td>\n",
       "      <td>0</td>\n",
       "    </tr>\n",
       "    <tr>\n",
       "      <th>99</th>\n",
       "      <td>0.51912</td>\n",
       "      <td>0.623590</td>\n",
       "      <td>0</td>\n",
       "    </tr>\n",
       "  </tbody>\n",
       "</table>\n",
       "<p>100 rows × 3 columns</p>\n",
       "</div>"
      ],
      "text/plain": [
       "          0         1  2\n",
       "0   0.78051 -0.063669  1\n",
       "1   0.28774  0.291390  1\n",
       "2   0.40714  0.178780  1\n",
       "3   0.29230  0.421700  1\n",
       "4   0.50922  0.352560  1\n",
       "..      ...       ... ..\n",
       "95  0.77029  0.701400  0\n",
       "96  0.73156  0.717820  0\n",
       "97  0.44556  0.579910  0\n",
       "98  0.85275  0.859870  0\n",
       "99  0.51912  0.623590  0\n",
       "\n",
       "[100 rows x 3 columns]"
      ]
     },
     "execution_count": 27,
     "metadata": {},
     "output_type": "execute_result"
    }
   ],
   "source": [
    "import pandas as pd\n",
    "import matplotlib.pyplot as plt\n",
    "# load and plot the data using scatterplot with different colors for labels\n",
    "data = pd.read_csv('data.csv', header=None)\n",
    "data"
   ]
  },
  {
   "cell_type": "code",
   "execution_count": 28,
   "id": "46aba8bb",
   "metadata": {},
   "outputs": [],
   "source": [
    "X = data.iloc[:,:2]\n",
    "y = data.iloc[:,-1]"
   ]
  },
  {
   "cell_type": "code",
   "execution_count": 29,
   "id": "179f80b5",
   "metadata": {},
   "outputs": [],
   "source": [
    "X = np.array(X)\n",
    "y = np.array(y)"
   ]
  },
  {
   "cell_type": "code",
   "execution_count": 30,
   "id": "8a355062",
   "metadata": {},
   "outputs": [
    {
     "data": {
      "text/plain": [
       "<matplotlib.collections.PathCollection at 0x21114795a08>"
      ]
     },
     "execution_count": 30,
     "metadata": {},
     "output_type": "execute_result"
    },
    {
     "data": {
      "image/png": "[encoded data removed]",
      "text/plain": [
       "<Figure size 432x288 with 1 Axes>"
      ]
     },
     "metadata": {
      "needs_background": "light"
     },
     "output_type": "display_data"
    }
   ],
   "source": [
    "plt.scatter(X[:,0], X[:,1], c=y)"
   ]
  }
 ],
 "metadata": {
  "kernelspec": {
   "display_name": "Python 3 (ipykernel)",
   "language": "python",
   "name": "python3"
  },
  "language_info": {
   "codemirror_mode": {
    "name": "ipython",
    "version": 3
   },
   "file_extension": ".py",
   "mimetype": "text/x-python",
   "name": "python",
   "nbconvert_exporter": "python",
   "pygments_lexer": "ipython3",
   "version": "3.7.11"
  }
 },
 "nbformat": 4,
 "nbformat_minor": 5
}
