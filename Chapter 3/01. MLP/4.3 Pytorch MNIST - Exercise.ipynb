{
 "cells": [
  {
   "cell_type": "markdown",
   "metadata": {},
   "source": [
    "<div style=\"background:#222222; color:#ffffff; padding:20px\">\n",
    "    <h2 align=\"center\">Deep Learning Fundamentals</h2>\n",
    "    <h2 align=\"center\" style=\"color:#01ff84\">Multiclass Clasification: MNIST</h2>\n",
    "<div>"
   ]
  },
  {
   "cell_type": "markdown",
   "metadata": {},
   "source": [
    "## Imports"
   ]
  },
  {
   "cell_type": "code",
   "execution_count": 1,
   "metadata": {},
   "outputs": [],
   "source": [
    "%matplotlib inline\n",
    "%config InlineBackend.figure_format = 'retina'\n",
    "\n",
    "from collections import OrderedDict\n",
    "\n",
    "import numpy as np\n",
    "import matplotlib.pyplot as plt\n",
    "import time\n",
    "\n",
    "import torch\n",
    "from torch import nn\n",
    "from torch import optim\n",
    "import torch.nn.functional as F\n",
    "\n",
    "from torchvision import datasets, transforms"
   ]
  },
  {
   "cell_type": "markdown",
   "metadata": {},
   "source": [
    "## Auxliary plotting function"
   ]
  },
  {
   "cell_type": "code",
   "execution_count": 38,
   "metadata": {},
   "outputs": [],
   "source": [
    "# https://discuss.pytorch.org/t/view-classify-in-module-helper/30279/6\n",
    "\n",
    "def view_classify(img, ps):\n",
    "\n",
    "    ps = ps.data.numpy().squeeze()\n",
    "\n",
    "    fig, (ax1, ax2) = plt.subplots(figsize=(6,9), ncols=2)\n",
    "    ax1.imshow(img.resize_(1, 28, 28).numpy().squeeze())\n",
    "    ax1.axis('off')\n",
    "    ax2.barh(np.arange(10), ps)\n",
    "    ax2.set_aspect(0.1)\n",
    "    ax2.set_yticks(np.arange(10))\n",
    "    ax2.set_yticklabels(np.arange(10))\n",
    "    ax2.set_title('Class Probability')\n",
    "    ax2.set_xlim(0, 1.1)"
   ]
  },
  {
   "cell_type": "markdown",
   "metadata": {},
   "source": [
    "# Load MNIST Dataset\n",
    "First up, we need to get our dataset. This is provided through the `torchvision` package. The code below will download the MNIST dataset, then create training and test datasets for us. Don't worry too much about the details here, you'll learn more about this later."
   ]
  },
  {
   "cell_type": "code",
   "execution_count": 4,
   "metadata": {},
   "outputs": [],
   "source": [
    "# Define a transform to normalize the data (Preprocessing)\n",
    "transform = transforms.Compose([transforms.ToTensor(), transforms.Normalize((0.5), (0.5)) ])\n",
    "\n",
    "# Download and load the training data\n",
    "trainset    = datasets.MNIST('MNIST_data/', download=True, train=True, transform=transform)\n",
    "trainloader = torch.utils.data.DataLoader(trainset, batch_size=64, shuffle=True)\n",
    "\n",
    "# Download and load the test data\n",
    "testset    = datasets.MNIST('MNIST_data/', download=True, train=False, transform=transform)\n",
    "testloader = torch.utils.data.DataLoader(testset, batch_size=64, shuffle=True)"
   ]
  },
  {
   "cell_type": "code",
   "execution_count": 5,
   "metadata": {},
   "outputs": [],
   "source": [
    "dataiter = iter(trainloader)\n",
    "images, labels = dataiter.next()"
   ]
  },
  {
   "cell_type": "markdown",
   "metadata": {},
   "source": [
    "We have the training data loaded into `trainloader` and we make that an iterator with `iter(trainloader)`. We'd use this to loop through the dataset for training, but here I'm just grabbing the first batch so we can check out the data. We can see below that `images` is just a tensor with size (64, 1, 28, 28). So, 64 images per batch, 1 color channel, and 28x28 images."
   ]
  },
  {
   "cell_type": "code",
   "execution_count": 6,
   "metadata": {},
   "outputs": [
    {
     "data": {
      "image/png": "[encoded data removed]",
      "text/plain": [
       "<Figure size 432x288 with 1 Axes>"
      ]
     },
     "metadata": {
      "image/png": {
       "height": 248,
       "width": 251
      },
      "needs_background": "light"
     },
     "output_type": "display_data"
    }
   ],
   "source": [
    "plt.imshow(images[1].numpy().squeeze(), cmap='Greys_r');"
   ]
  },
  {
   "cell_type": "markdown",
   "metadata": {},
   "source": [
    "## Building networks with PyTorch\n",
    "\n",
    "Here I'll use PyTorch to build a simple feedfoward network to classify the MNIST images. That is, the network will receive a digit image as input and predict the digit in the image.\n",
    "\n",
    "<img src=\"assets/mlp_mnist.png\" width=600px>\n",
    "\n",
    "To build a neural network with PyTorch, you use the `torch.nn` module. The network itself is a class inheriting from `torch.nn.Module`. You define each of the operations separately, like `nn.Linear(784, 128)` for a fully connected linear layer with 784 inputs and 128 units.\n",
    "\n",
    "The class needs to include a `forward` method that implements the forward pass through the network. In this method, you pass some input tensor `x` through each of the operations you defined earlier. The `torch.nn` module also has functional equivalents for things like ReLUs in `torch.nn.functional`. This module is usually imported as `F`. Then to use a ReLU activation on some layer (which is just a tensor), you'd do `F.relu(x)`. Below are a few different commonly used activation functions.\n",
    "\n",
    "<img src=\"assets/activation.png\" width=700px>\n",
    "\n",
    "So, for this network, I'll build it with three fully connected layers, then a softmax output for predicting classes. The softmax function is similar to the sigmoid in that it squashes inputs between 0 and 1, but it's also normalized so that all the values sum to one like a proper probability distribution."
   ]
  },
  {
   "cell_type": "code",
   "execution_count": 7,
   "metadata": {},
   "outputs": [
    {
     "data": {
      "text/plain": [
       "Network(\n",
       "  (fc1): Linear(in_features=784, out_features=128, bias=True)\n",
       "  (fc2): Linear(in_features=128, out_features=64, bias=True)\n",
       "  (fc3): Linear(in_features=64, out_features=10, bias=True)\n",
       ")"
      ]
     },
     "execution_count": 7,
     "metadata": {},
     "output_type": "execute_result"
    }
   ],
   "source": [
    "class Network(nn.Module):\n",
    "    \n",
    "    # Defining the layers, 128, 64, 10 units each\n",
    "    def __init__(self):\n",
    "        super().__init__()\n",
    "        self.fc1 = nn.Linear(784, 128)\n",
    "        self.fc2 = nn.Linear(128, 64)\n",
    "        self.fc3 = nn.Linear(64, 10)\n",
    "        \n",
    "    # Forward pass through the network, returns the output logits\n",
    "    def forward(self, x):\n",
    "        x = self.fc1(x)\n",
    "        x = F.relu(x)\n",
    "        x = self.fc2(x)\n",
    "        x = F.relu(x)\n",
    "        x = self.fc3(x)\n",
    "        x = F.softmax(x, dim=1)\n",
    "        return x\n",
    "\n",
    "model = Network()\n",
    "model"
   ]
  },
  {
   "cell_type": "markdown",
   "metadata": {},
   "source": [
    "### Sequential API\n",
    "PyTorch provides a convenient way to build networks like this where a tensor is passed sequentially through operations, `nn.Sequential` ([documentation](https://pytorch.org/docs/master/nn.html#torch.nn.Sequential)). Using this to build the equivalent network:"
   ]
  },
  {
   "cell_type": "code",
   "execution_count": 8,
   "metadata": {},
   "outputs": [
    {
     "name": "stdout",
     "output_type": "stream",
     "text": [
      "Sequential(\n",
      "  (0): Linear(in_features=784, out_features=128, bias=True)\n",
      "  (1): ReLU()\n",
      "  (2): Linear(in_features=128, out_features=64, bias=True)\n",
      "  (3): ReLU()\n",
      "  (4): Linear(in_features=64, out_features=10, bias=True)\n",
      "  (5): Softmax(dim=1)\n",
      ")\n"
     ]
    }
   ],
   "source": [
    "# Hyperparameters for our network\n",
    "input_size   = 784\n",
    "hidden_sizes = [128, 64]\n",
    "output_size   = 10\n",
    "\n",
    "# Build a feed-forward network\n",
    "model = nn.Sequential(nn.Linear(input_size, hidden_sizes[0]),\n",
    "                      nn.ReLU(),\n",
    "                      nn.Linear(hidden_sizes[0], hidden_sizes[1]),\n",
    "                      nn.ReLU(),\n",
    "                      nn.Linear(hidden_sizes[1], output_size),\n",
    "                      nn.Softmax(dim=1))\n",
    "print(model)"
   ]
  },
  {
   "cell_type": "markdown",
   "metadata": {},
   "source": [
    "You can also pass in an `OrderedDict` to name the individual layers and operations. Note that a dictionary keys must be unique, so _each operation must have a different name_."
   ]
  },
  {
   "cell_type": "code",
   "execution_count": 9,
   "metadata": {},
   "outputs": [
    {
     "data": {
      "text/plain": [
       "Sequential(\n",
       "  (fc1): Linear(in_features=784, out_features=128, bias=True)\n",
       "  (relu1): ReLU()\n",
       "  (fc2): Linear(in_features=128, out_features=64, bias=True)\n",
       "  (relu2): ReLU()\n",
       "  (output): Linear(in_features=64, out_features=10, bias=True)\n",
       "  (softmax): Softmax(dim=1)\n",
       ")"
      ]
     },
     "execution_count": 9,
     "metadata": {},
     "output_type": "execute_result"
    }
   ],
   "source": [
    "model = nn.Sequential(OrderedDict([\n",
    "          ('fc1',   nn.Linear(input_size, hidden_sizes[0])),\n",
    "          ('relu1', nn.ReLU()),\n",
    "          ('fc2',   nn.Linear(hidden_sizes[0], hidden_sizes[1])),\n",
    "          ('relu2', nn.ReLU()),\n",
    "          ('output', nn.Linear(hidden_sizes[1], output_size)),\n",
    "          ('softmax', nn.Softmax(dim=1))]))\n",
    "model"
   ]
  },
  {
   "cell_type": "markdown",
   "metadata": {},
   "source": [
    "### Initializing weights and biases\n",
    "\n",
    "The weights and such are automatically initialized for you, but it's possible to customize how they are initialized. The weights and biases are tensors attached to the layer you defined, you can get them with `model.fc1.weight` for instance."
   ]
  },
  {
   "cell_type": "code",
   "execution_count": 10,
   "metadata": {},
   "outputs": [
    {
     "name": "stdout",
     "output_type": "stream",
     "text": [
      "Parameter containing:\n",
      "tensor([[-0.0343, -0.0013,  0.0092,  ..., -0.0173, -0.0345,  0.0178],\n",
      "        [ 0.0083, -0.0286, -0.0068,  ..., -0.0071,  0.0087,  0.0301],\n",
      "        [-0.0019, -0.0270,  0.0208,  ..., -0.0258,  0.0033, -0.0255],\n",
      "        ...,\n",
      "        [-0.0079, -0.0335,  0.0075,  ...,  0.0292, -0.0200,  0.0235],\n",
      "        [ 0.0245,  0.0160,  0.0228,  ..., -0.0088, -0.0317,  0.0027],\n",
      "        [ 0.0096,  0.0334,  0.0336,  ...,  0.0078, -0.0102,  0.0090]],\n",
      "       requires_grad=True)\n",
      "Parameter containing:\n",
      "tensor([-2.1600e-03,  2.3956e-02, -2.2134e-02,  8.6156e-03,  1.2701e-02,\n",
      "        -9.3589e-03,  2.2214e-02,  1.6151e-02,  9.8159e-03, -6.8917e-03,\n",
      "         1.8690e-02, -3.0691e-02,  8.6421e-03, -1.3627e-02,  1.1561e-02,\n",
      "        -2.8002e-02,  2.9177e-02,  8.7588e-03, -3.4697e-04,  1.1060e-02,\n",
      "        -3.1010e-02, -7.0295e-03, -3.5120e-02,  1.2533e-02, -1.8067e-03,\n",
      "         1.7229e-02, -3.4575e-02, -2.2150e-02,  1.5701e-02, -2.9847e-02,\n",
      "         1.7713e-02,  2.8898e-02,  2.8490e-02, -6.4051e-03,  9.6104e-03,\n",
      "        -1.7012e-02, -9.1480e-03, -3.3277e-02,  7.6410e-03,  4.0864e-03,\n",
      "         8.8214e-03,  5.5849e-03, -3.1446e-02,  7.7179e-03,  2.4858e-03,\n",
      "         2.3922e-02,  3.2064e-02,  7.2641e-03,  2.2575e-02,  2.7164e-02,\n",
      "         9.4185e-03,  1.6223e-02, -3.1512e-02, -3.4453e-02,  5.5008e-05,\n",
      "         1.4401e-02, -3.3477e-02, -5.3355e-03, -3.5227e-02,  3.4238e-02,\n",
      "         3.5125e-02, -1.8035e-02,  2.7425e-02, -3.4772e-03, -1.6729e-02,\n",
      "        -2.1541e-02,  2.8104e-02,  2.2587e-02,  2.0267e-03,  2.0628e-03,\n",
      "         2.3754e-02,  2.9247e-03,  8.3399e-03, -9.2478e-03, -2.2638e-02,\n",
      "        -7.6766e-03, -3.3944e-02,  3.3842e-02, -2.3734e-02, -3.5592e-02,\n",
      "         1.1189e-02,  2.6539e-03, -7.9470e-03, -2.0286e-03,  1.2827e-02,\n",
      "        -2.0999e-03,  3.0039e-03,  2.0529e-02,  3.6491e-03, -1.7240e-02,\n",
      "        -9.5447e-03, -9.3843e-03,  3.8042e-03,  6.8025e-03,  1.9749e-02,\n",
      "         3.2795e-02,  3.5028e-02,  1.2916e-02, -1.3475e-02, -3.3705e-02,\n",
      "         5.1532e-03,  2.8057e-02, -2.3877e-02, -3.4474e-02,  9.3681e-04,\n",
      "        -2.9340e-02, -5.0469e-03,  2.2369e-02,  1.0238e-03,  8.5222e-03,\n",
      "         1.4509e-02, -3.4916e-02,  2.7181e-02,  1.6988e-03,  2.3869e-02,\n",
      "        -3.2214e-02,  8.7968e-03,  2.3416e-02,  1.7030e-02, -1.5936e-02,\n",
      "         1.2390e-02,  8.0112e-04,  6.4538e-03, -5.8527e-03, -6.7184e-03,\n",
      "        -3.9320e-03, -2.9334e-02,  1.2373e-02], requires_grad=True)\n"
     ]
    }
   ],
   "source": [
    "print(model.fc1.weight)\n",
    "print(model.fc1.bias)"
   ]
  },
  {
   "cell_type": "markdown",
   "metadata": {},
   "source": [
    "For custom initialization, we want to modify these tensors in place. These are actually autograd *Variables*, so we need to get back the actual tensors with `model.fc1.weight.data`. Once we have the tensors, we can fill them with zeros (for biases) or random normal values."
   ]
  },
  {
   "cell_type": "code",
   "execution_count": 11,
   "metadata": {},
   "outputs": [
    {
     "data": {
      "text/plain": [
       "tensor([0., 0., 0., 0., 0., 0., 0., 0., 0., 0., 0., 0., 0., 0., 0., 0., 0., 0., 0., 0., 0., 0., 0., 0.,\n",
       "        0., 0., 0., 0., 0., 0., 0., 0., 0., 0., 0., 0., 0., 0., 0., 0., 0., 0., 0., 0., 0., 0., 0., 0.,\n",
       "        0., 0., 0., 0., 0., 0., 0., 0., 0., 0., 0., 0., 0., 0., 0., 0., 0., 0., 0., 0., 0., 0., 0., 0.,\n",
       "        0., 0., 0., 0., 0., 0., 0., 0., 0., 0., 0., 0., 0., 0., 0., 0., 0., 0., 0., 0., 0., 0., 0., 0.,\n",
       "        0., 0., 0., 0., 0., 0., 0., 0., 0., 0., 0., 0., 0., 0., 0., 0., 0., 0., 0., 0., 0., 0., 0., 0.,\n",
       "        0., 0., 0., 0., 0., 0., 0., 0.])"
      ]
     },
     "execution_count": 11,
     "metadata": {},
     "output_type": "execute_result"
    }
   ],
   "source": [
    "# Set biases to all zeros\n",
    "model.fc1.bias.data.fill_(0)"
   ]
  },
  {
   "cell_type": "code",
   "execution_count": 12,
   "metadata": {},
   "outputs": [
    {
     "data": {
      "text/plain": [
       "tensor([[ 1.1191e-02, -4.7464e-03,  2.7719e-03,  ..., -1.0963e-02,\n",
       "          1.2861e-02, -6.8912e-03],\n",
       "        [ 9.3842e-03, -5.9373e-03, -1.0335e-03,  ..., -2.8831e-03,\n",
       "          7.3124e-03, -7.2785e-03],\n",
       "        [ 9.7209e-05,  8.5220e-03, -1.9398e-02,  ..., -1.7865e-03,\n",
       "          5.6483e-03, -1.0984e-02],\n",
       "        ...,\n",
       "        [ 1.8723e-02, -7.2352e-03, -2.1375e-02,  ..., -1.6900e-02,\n",
       "         -2.4291e-02, -2.4304e-03],\n",
       "        [ 1.9449e-03, -1.2022e-02, -3.9112e-05,  ...,  6.4993e-03,\n",
       "          5.1197e-03,  7.9777e-03],\n",
       "        [-5.6538e-03,  4.4358e-03, -1.8271e-02,  ..., -7.2908e-03,\n",
       "         -1.3879e-04, -1.0405e-02]])"
      ]
     },
     "execution_count": 12,
     "metadata": {},
     "output_type": "execute_result"
    }
   ],
   "source": [
    "# sample from random normal with standard dev = 0.01\n",
    "model.fc1.weight.data.normal_(std=0.01)"
   ]
  },
  {
   "cell_type": "markdown",
   "metadata": {},
   "source": [
    "### STEP 1: Forward pass\n",
    "\n",
    "Now that we have a network, let's see what happens when we pass in an image. This is called the forward pass. We're going to convert the image data into a tensor, then pass it through the operations defined by the network architecture."
   ]
  },
  {
   "cell_type": "code",
   "execution_count": 13,
   "metadata": {},
   "outputs": [
    {
     "data": {
      "image/png": "[encoded data removed]",
      "text/plain": [
       "<Figure size 432x648 with 2 Axes>"
      ]
     },
     "metadata": {
      "image/png": {
       "height": 195,
       "width": 349
      },
      "needs_background": "light"
     },
     "output_type": "display_data"
    }
   ],
   "source": [
    "# Grab some data \n",
    "dataiter = iter(trainloader)\n",
    "images, labels = dataiter.next()\n",
    "\n",
    "# Resize images into a 1D vector, new shape is (batch size, color channels, image pixels) \n",
    "images.resize_(64, 1, 784)\n",
    "# or images.resize_(images.shape[0], 1, 784) to not automatically get batch size\n",
    "\n",
    "# Forward pass through the network\n",
    "img_idx = 0\n",
    "ps = model.forward(images[img_idx,:])\n",
    "\n",
    "img = images[img_idx]\n",
    "view_classify(img.view(1, 28, 28), ps)"
   ]
  },
  {
   "cell_type": "markdown",
   "metadata": {},
   "source": [
    "As you can see above, our network has basically no idea what this digit is. It's because we haven't trained it yet, all the weights are random!"
   ]
  },
  {
   "cell_type": "markdown",
   "metadata": {},
   "source": [
    "# Training Neural Networks\n",
    "\n",
    "The network we built isn't so smart, it doesn't know anything about our handwritten digits. Neural networks with non-linear activations work like universal function approximators. There is some function that maps your input to the output. For example, images of handwritten digits to class probabilities. The power of neural networks is that we can train them to approximate this function, and basically any function given enough data and compute time.\n",
    "\n",
    "<img src=\"assets/function_approx.png\" width=500px>\n",
    "\n",
    "At first the network is naive, it doesn't know the function mapping the inputs to the outputs. We train the network by showing it examples of real data, then adjusting the network parameters such that it approximates this function.\n",
    "\n",
    "To find these parameters, we need to know how poorly the network is predicting the real outputs. For this we calculate a **loss function** (also called the cost), a measure of our prediction error. For example, the mean squared loss is often used in regression and binary classification problems\n",
    "\n",
    "$$\n",
    "\\ell = \\frac{1}{2n}\\sum_i^n{\\left(y_i - \\hat{y}_i\\right)^2}\n",
    "$$\n",
    "\n",
    "where $n$ is the number of training examples, $y_i$ are the true labels, and $\\hat{y}_i$ are the predicted labels.\n",
    "\n",
    "By minimizing this loss with respect to the network parameters, we can find configurations where the loss is at a minimum and the network is able to predict the correct labels with high accuracy. We find this minimum using a process called **gradient descent**. The gradient is the slope of the loss function and points in the direction of fastest change. To get to the minimum in the least amount of time, we then want to follow the gradient (downwards). You can think of this like descending a mountain by following the steepest slope to the base.\n",
    "\n",
    "<img src='assets/gradient_descent.png' width=350px>"
   ]
  },
  {
   "cell_type": "markdown",
   "metadata": {},
   "source": [
    "## Backpropagation\n",
    "\n",
    "For single layer networks, gradient descent is simple to implement. However, it's more complicated for deeper, multilayer neural networks like the one we've built. Complicated enough that it took about 30 years before researchers figured out how to train multilayer networks, although it's straightforward once you learn about it. \n",
    "\n",
    "This is done through **backpropagation** which is really just an application of the chain rule from calculus. It's easiest to understand if we convert a two layer network into a graph representation.\n",
    "\n",
    "<img src='assets/w1_backprop_graph.png' width=400px>\n",
    "\n",
    "In the forward pass through the network, our data and operations go from right to left here. To train the weights with gradient descent, we propagate the gradient of the cost backwards through the network. Mathematically, this is really just calculating the gradient of the loss with respect to the weights using the chain rule.\n",
    "\n",
    "$$\n",
    "\\frac{\\partial \\ell}{\\partial w_1} = \\frac{\\partial l_1}{\\partial w_1} \\frac{\\partial s}{\\partial l_1} \\frac{\\partial l_2}{\\partial s} \\frac{\\partial \\ell}{\\partial l_2}\n",
    "$$\n",
    "\n",
    "We update our weights using this gradient with some learning rate $\\alpha$. \n",
    "\n",
    "$$\n",
    "w^\\prime = w - \\alpha \\frac{\\partial \\ell}{\\partial w}\n",
    "$$\n",
    "\n",
    "The learning rate is set such that the weight update steps are small enough that the iterative method settles in a minimum.\n",
    "\n",
    "The first thing we need to do for training is define our loss function. In PyTorch, you'll usually see this as `criterion`. Here we're using softmax output, so we want to use `criterion = nn.CrossEntropyLoss()` as our loss. Later when training, you use `loss = criterion(output, targets)` to calculate the actual loss.\n",
    "\n",
    "We also need to define the optimizer we're using, SGD or Adam, or something along those lines. Here I'll just use SGD with `torch.optim.SGD`, passing in the network parameters and the learning rate."
   ]
  },
  {
   "cell_type": "markdown",
   "metadata": {},
   "source": [
    "## Autograd\n",
    "\n",
    "Torch provides a module, `autograd`, for automatically calculating the gradient of tensors. It does this by keeping track of operations performed on tensors. To make sure PyTorch keeps track of operations on a tensor and calculates the gradients, you need to set `requires_grad` on a tensor. You can do this at creation with the `requires_grad` keyword, or at any time with `x.requires_grad_(True)`.\n",
    "\n",
    "You can turn off gradients for a block of code with the `torch.no_grad()` content:\n",
    "```python\n",
    "x = torch.zeros(1, requires_grad=True)\n",
    ">>> with torch.no_grad():\n",
    "...     y = x * 2\n",
    ">>> y.requires_grad\n",
    "False\n",
    "```\n",
    "\n",
    "Also, you can turn on or off gradients altogether with `torch.set_grad_enabled(True|False)`.\n",
    "\n",
    "The gradients are computed with respect to some variable `z` with `z.backward()`. This does a backward pass through the operations that created `z`."
   ]
  },
  {
   "cell_type": "code",
   "execution_count": 14,
   "metadata": {},
   "outputs": [
    {
     "name": "stdout",
     "output_type": "stream",
     "text": [
      "tensor([[-1.1258, -1.5486],\n",
      "        [ 0.9738,  0.8318]], requires_grad=True)\n"
     ]
    }
   ],
   "source": [
    "x = torch.randn(2,2, requires_grad=True)\n",
    "print(x)"
   ]
  },
  {
   "cell_type": "code",
   "execution_count": 15,
   "metadata": {},
   "outputs": [
    {
     "name": "stdout",
     "output_type": "stream",
     "text": [
      "tensor([[1.2674, 2.3982],\n",
      "        [0.9483, 0.6920]], grad_fn=<PowBackward0>)\n"
     ]
    }
   ],
   "source": [
    "y = x**2\n",
    "print(y)"
   ]
  },
  {
   "cell_type": "markdown",
   "metadata": {},
   "source": [
    "Below we can see the operation that created `y`, a power operation `PowBackward0`."
   ]
  },
  {
   "cell_type": "code",
   "execution_count": 16,
   "metadata": {},
   "outputs": [
    {
     "name": "stdout",
     "output_type": "stream",
     "text": [
      "<PowBackward0 object at 0x000002C740E14748>\n"
     ]
    }
   ],
   "source": [
    "## grad_fn shows the function that generated this variable\n",
    "print(y.grad_fn)"
   ]
  },
  {
   "cell_type": "markdown",
   "metadata": {},
   "source": [
    "The autgrad module keeps track of these operations and knows how to calculate the gradient for each one. In this way, it's able to calculate the gradients for a chain of operations, with respect to any one tensor. Let's reduce the tensor `y` to a scalar value, the mean."
   ]
  },
  {
   "cell_type": "code",
   "execution_count": 17,
   "metadata": {},
   "outputs": [
    {
     "name": "stdout",
     "output_type": "stream",
     "text": [
      "tensor(1.3265, grad_fn=<MeanBackward0>)\n"
     ]
    }
   ],
   "source": [
    "z = y.mean()\n",
    "print(z)"
   ]
  },
  {
   "cell_type": "markdown",
   "metadata": {},
   "source": [
    "You can check the gradients for `x` and `y` but they are empty currently."
   ]
  },
  {
   "cell_type": "code",
   "execution_count": 18,
   "metadata": {},
   "outputs": [
    {
     "name": "stdout",
     "output_type": "stream",
     "text": [
      "None\n"
     ]
    }
   ],
   "source": [
    "print(x.grad)"
   ]
  },
  {
   "cell_type": "markdown",
   "metadata": {},
   "source": [
    "To calculate the gradients, you need to run the `.backward` method on a Variable, `z` for example. This will calculate the gradient for `z` with respect to `x`\n",
    "\n",
    "$$\n",
    "\\frac{\\partial z}{\\partial x} = \\frac{\\partial}{\\partial x}\\left[\\frac{1}{n}\\sum_i^n x_i^2\\right] = \\frac{x}{2}\n",
    "$$"
   ]
  },
  {
   "cell_type": "code",
   "execution_count": 19,
   "metadata": {},
   "outputs": [
    {
     "name": "stdout",
     "output_type": "stream",
     "text": [
      "tensor([[-0.5629, -0.7743],\n",
      "        [ 0.4869,  0.4159]])\n",
      "tensor([[-0.5629, -0.7743],\n",
      "        [ 0.4869,  0.4159]], grad_fn=<DivBackward0>)\n"
     ]
    }
   ],
   "source": [
    "z.backward()\n",
    "print(x.grad)\n",
    "print(x/2)"
   ]
  },
  {
   "cell_type": "markdown",
   "metadata": {},
   "source": [
    "These gradients calculations are particularly useful for neural networks. For training we need the gradients of the weights with respect to the cost. With PyTorch, we run data forward through the network to calculate the cost, then, go backwards to calculate the gradients with respect to the cost. Once we have the gradients we can make a gradient descent step. "
   ]
  },
  {
   "cell_type": "markdown",
   "metadata": {},
   "source": [
    "I'll build a network with `nn.Sequential` here. Only difference from the last part is I'm not actually using softmax on the output, but instead just using the raw output from the last layer. This is because the output from softmax is a probability distribution. Often, the output will have values really close to zero or really close to one. Due to [inaccuracies with representing numbers as floating points](https://docs.python.org/3/tutorial/floatingpoint.html), computations with a softmax output can lose accuracy and become unstable. To get around this, we'll use the raw output, called the **logits**, to calculate the loss."
   ]
  },
  {
   "cell_type": "code",
   "execution_count": 20,
   "metadata": {},
   "outputs": [],
   "source": [
    "# Hyperparameters for our network\n",
    "input_size   = 784\n",
    "hidden_sizes = [128, 64]\n",
    "output_size  = 10\n",
    "\n",
    "# Build a feed-forward network\n",
    "model = nn.Sequential(OrderedDict([\n",
    "          ('fc1', nn.Linear(input_size, hidden_sizes[0])),\n",
    "          ('relu1', nn.ReLU()),\n",
    "          ('fc2', nn.Linear(hidden_sizes[0], hidden_sizes[1])),\n",
    "          ('relu2', nn.ReLU()),\n",
    "          ('logits', nn.Linear(hidden_sizes[1], output_size))]))"
   ]
  },
  {
   "cell_type": "markdown",
   "metadata": {},
   "source": [
    "## Training the network!\n",
    "\n",
    "The first thing we need to do for training is define our loss function. In PyTorch, you'll usually see this as `criterion`. Here we're using softmax output, so we want to use `criterion = nn.CrossEntropyLoss()` as our loss. Later when training, you use `loss = criterion(output, targets)` to calculate the actual loss.\n",
    "\n",
    "We also need to define the optimizer we're using, SGD or Adam, or something along those lines. Here I'll just use SGD with `torch.optim.SGD`, passing in the network parameters and the learning rate."
   ]
  },
  {
   "cell_type": "code",
   "execution_count": 21,
   "metadata": {},
   "outputs": [],
   "source": [
    "criterion = nn.CrossEntropyLoss()\n",
    "optimizer = optim.SGD(model.parameters(), lr=0.01)"
   ]
  },
  {
   "cell_type": "markdown",
   "metadata": {},
   "source": [
    "First, let's consider just one learning step before looping through all the data. The general process with PyTorch:\n",
    "\n",
    "* Make a forward pass through the network to get the logits \n",
    "* Use the logits to calculate the loss\n",
    "* Perform a backward pass through the network with `loss.backward()` to calculate the gradients\n",
    "* Take a step with the optimizer to update the weights\n",
    "\n",
    "Below I'll go through one training step and print out the weights and gradients so you can see how it changes."
   ]
  },
  {
   "cell_type": "code",
   "execution_count": 22,
   "metadata": {},
   "outputs": [
    {
     "name": "stdout",
     "output_type": "stream",
     "text": [
      "Initial weights -  Parameter containing:\n",
      "tensor([[ 0.0201, -0.0258, -0.0071,  ...,  0.0013, -0.0281, -0.0134],\n",
      "        [ 0.0005,  0.0033,  0.0149,  ..., -0.0011,  0.0027, -0.0166],\n",
      "        [-0.0262, -0.0044, -0.0054,  ...,  0.0331, -0.0165, -0.0040],\n",
      "        ...,\n",
      "        [-0.0250,  0.0145,  0.0149,  ...,  0.0204, -0.0210,  0.0242],\n",
      "        [-0.0272, -0.0300, -0.0097,  ..., -0.0176,  0.0145, -0.0034],\n",
      "        [ 0.0285, -0.0352,  0.0353,  ..., -0.0342,  0.0186, -0.0279]],\n",
      "       requires_grad=True)\n",
      "Gradient - tensor([[-0.0059, -0.0059, -0.0059,  ..., -0.0059, -0.0059, -0.0059],\n",
      "        [ 0.0017,  0.0017,  0.0017,  ...,  0.0017,  0.0017,  0.0017],\n",
      "        [ 0.0003,  0.0003,  0.0003,  ...,  0.0003,  0.0003,  0.0003],\n",
      "        ...,\n",
      "        [-0.0003, -0.0003, -0.0003,  ..., -0.0003, -0.0003, -0.0003],\n",
      "        [ 0.0015,  0.0015,  0.0015,  ...,  0.0015,  0.0015,  0.0015],\n",
      "        [ 0.0013,  0.0013,  0.0013,  ...,  0.0013,  0.0013,  0.0013]])\n"
     ]
    }
   ],
   "source": [
    "print('Initial weights - ', model.fc1.weight)\n",
    "\n",
    "images, labels = next(iter(trainloader))\n",
    "images.resize_(64, 784)\n",
    "\n",
    "# Clear the gradients, do this because gradients are accumulated\n",
    "optimizer.zero_grad()\n",
    "\n",
    "# Forward pass, then backward pass, then update weights\n",
    "output = model.forward(images)\n",
    "loss = criterion(output, labels)\n",
    "loss.backward()\n",
    "print('Gradient -', model.fc1.weight.grad)\n",
    "optimizer.step()"
   ]
  },
  {
   "cell_type": "code",
   "execution_count": 23,
   "metadata": {},
   "outputs": [
    {
     "name": "stdout",
     "output_type": "stream",
     "text": [
      "Updated weights -  Parameter containing:\n",
      "tensor([[ 0.0201, -0.0257, -0.0070,  ...,  0.0013, -0.0281, -0.0134],\n",
      "        [ 0.0005,  0.0033,  0.0149,  ..., -0.0011,  0.0027, -0.0166],\n",
      "        [-0.0262, -0.0045, -0.0054,  ...,  0.0331, -0.0165, -0.0040],\n",
      "        ...,\n",
      "        [-0.0250,  0.0145,  0.0149,  ...,  0.0204, -0.0210,  0.0242],\n",
      "        [-0.0273, -0.0300, -0.0098,  ..., -0.0176,  0.0145, -0.0034],\n",
      "        [ 0.0285, -0.0352,  0.0352,  ..., -0.0342,  0.0186, -0.0279]],\n",
      "       requires_grad=True)\n"
     ]
    }
   ],
   "source": [
    "print('Updated weights - ', model.fc1.weight)"
   ]
  },
  {
   "cell_type": "markdown",
   "metadata": {},
   "source": [
    "### Training for real\n",
    "\n",
    "Now we'll put this algorithm into a loop so we can go through all the images. This is fairly straightforward. We'll loop through the mini-batches in our dataset, pass the data through the network to calculate the losses, get the gradients, then run the optimizer."
   ]
  },
  {
   "cell_type": "code",
   "execution_count": 24,
   "metadata": {},
   "outputs": [],
   "source": [
    "optimizer = optim.SGD(model.parameters(), lr=0.003)"
   ]
  },
  {
   "cell_type": "code",
   "execution_count": 25,
   "metadata": {},
   "outputs": [
    {
     "name": "stdout",
     "output_type": "stream",
     "text": [
      "Epoch: 1/3\n",
      "\tIteration: 0\t Loss: 0.0571\n",
      "\tIteration: 40\t Loss: 2.2897\n",
      "\tIteration: 80\t Loss: 2.2718\n",
      "\tIteration: 120\t Loss: 2.2547\n",
      "\tIteration: 160\t Loss: 2.2383\n",
      "\tIteration: 200\t Loss: 2.2154\n",
      "\tIteration: 240\t Loss: 2.1942\n",
      "\tIteration: 280\t Loss: 2.1689\n",
      "\tIteration: 320\t Loss: 2.1391\n",
      "\tIteration: 360\t Loss: 2.1088\n",
      "\tIteration: 400\t Loss: 2.0761\n",
      "\tIteration: 440\t Loss: 2.0417\n",
      "\tIteration: 480\t Loss: 2.0020\n",
      "\tIteration: 520\t Loss: 1.9445\n",
      "\tIteration: 560\t Loss: 1.8985\n",
      "\tIteration: 600\t Loss: 1.8491\n",
      "\tIteration: 640\t Loss: 1.7819\n",
      "\tIteration: 680\t Loss: 1.7114\n",
      "\tIteration: 720\t Loss: 1.6638\n",
      "\tIteration: 760\t Loss: 1.5761\n",
      "\tIteration: 800\t Loss: 1.5096\n",
      "\tIteration: 840\t Loss: 1.4465\n",
      "\tIteration: 880\t Loss: 1.3909\n",
      "\tIteration: 920\t Loss: 1.3042\n",
      "Epoch: 2/3\n",
      "\tIteration: 0\t Loss: 0.0327\n",
      "\tIteration: 40\t Loss: 1.2183\n",
      "\tIteration: 80\t Loss: 1.1687\n",
      "\tIteration: 120\t Loss: 1.1208\n",
      "\tIteration: 160\t Loss: 1.0715\n",
      "\tIteration: 200\t Loss: 1.0311\n",
      "\tIteration: 240\t Loss: 1.0053\n",
      "\tIteration: 280\t Loss: 0.9519\n",
      "\tIteration: 320\t Loss: 0.9214\n",
      "\tIteration: 360\t Loss: 0.8642\n",
      "\tIteration: 400\t Loss: 0.8461\n",
      "\tIteration: 440\t Loss: 0.8211\n",
      "\tIteration: 480\t Loss: 0.7922\n",
      "\tIteration: 520\t Loss: 0.7881\n",
      "\tIteration: 560\t Loss: 0.7430\n",
      "\tIteration: 600\t Loss: 0.7335\n",
      "\tIteration: 640\t Loss: 0.7311\n",
      "\tIteration: 680\t Loss: 0.7002\n",
      "\tIteration: 720\t Loss: 0.6999\n",
      "\tIteration: 760\t Loss: 0.6910\n",
      "\tIteration: 800\t Loss: 0.6517\n",
      "\tIteration: 840\t Loss: 0.6528\n",
      "\tIteration: 880\t Loss: 0.6331\n",
      "\tIteration: 920\t Loss: 0.6383\n",
      "Epoch: 3/3\n",
      "\tIteration: 0\t Loss: 0.0151\n",
      "\tIteration: 40\t Loss: 0.5888\n",
      "\tIteration: 80\t Loss: 0.6041\n",
      "\tIteration: 120\t Loss: 0.5808\n",
      "\tIteration: 160\t Loss: 0.5780\n",
      "\tIteration: 200\t Loss: 0.5824\n",
      "\tIteration: 240\t Loss: 0.5394\n",
      "\tIteration: 280\t Loss: 0.5621\n",
      "\tIteration: 320\t Loss: 0.5529\n",
      "\tIteration: 360\t Loss: 0.5387\n",
      "\tIteration: 400\t Loss: 0.5180\n",
      "\tIteration: 440\t Loss: 0.5159\n",
      "\tIteration: 480\t Loss: 0.5190\n",
      "\tIteration: 520\t Loss: 0.5335\n",
      "\tIteration: 560\t Loss: 0.5170\n",
      "\tIteration: 600\t Loss: 0.4909\n",
      "\tIteration: 640\t Loss: 0.4780\n",
      "\tIteration: 680\t Loss: 0.5082\n",
      "\tIteration: 720\t Loss: 0.4933\n",
      "\tIteration: 760\t Loss: 0.5001\n",
      "\tIteration: 800\t Loss: 0.4859\n",
      "\tIteration: 840\t Loss: 0.4566\n",
      "\tIteration: 880\t Loss: 0.4729\n",
      "\tIteration: 920\t Loss: 0.4651\n"
     ]
    }
   ],
   "source": [
    "epochs = 3\n",
    "print_every = 40\n",
    "\n",
    "for e in range(epochs):\n",
    "    running_loss = 0\n",
    "    print(f\"Epoch: {e+1}/{epochs}\")\n",
    "\n",
    "    for i, (images, labels) in enumerate(iter(trainloader)):\n",
    "\n",
    "        # Flatten MNIST images into a 784 long vector\n",
    "        images.resize_(images.size()[0], 784)\n",
    "        \n",
    "        optimizer.zero_grad()\n",
    "        \n",
    "        output = model.forward(images)   # 1) Forward pass\n",
    "        loss = criterion(output, labels) # 2) Compute loss\n",
    "        loss.backward()                  # 3) Backward pass\n",
    "        optimizer.step()                 # 4) Update model\n",
    "        \n",
    "        running_loss += loss.item()\n",
    "        \n",
    "        if i % print_every == 0:\n",
    "            print(f\"\\tIteration: {i}\\t Loss: {running_loss/print_every:.4f}\")\n",
    "            running_loss = 0"
   ]
  },
  {
   "cell_type": "markdown",
   "metadata": {},
   "source": [
    "With the network trained, we can check out it's predictions."
   ]
  },
  {
   "cell_type": "code",
   "execution_count": 33,
   "metadata": {},
   "outputs": [
    {
     "data": {
      "image/png": "[encoded data removed]",
      "text/plain": [
       "<Figure size 432x648 with 2 Axes>"
      ]
     },
     "metadata": {
      "image/png": {
       "height": 195,
       "width": 349
      },
      "needs_background": "light"
     },
     "output_type": "display_data"
    }
   ],
   "source": [
    "images, labels = next(iter(trainloader))\n",
    "\n",
    "img = images[0].view(1, 784)\n",
    "# Turn off gradients to speed up this part\n",
    "with torch.no_grad():\n",
    "    logits = model.forward(img)\n",
    "\n",
    "# Output of the network are logits, need to take softmax for probabilities\n",
    "ps = F.softmax(logits, dim=1)\n",
    "view_classify(img.view(1, 28, 28), ps)"
   ]
  },
  {
   "cell_type": "markdown",
   "metadata": {},
   "source": [
    "Now our network is brilliant. It can accurately predict the digits in our images."
   ]
  },
  {
   "cell_type": "markdown",
   "metadata": {},
   "source": [
    "<div style=\"background:#222222; color:#ffffff; padding:20px\">\n",
    "    <h2 align=\"center\" style=\"color:#01ff84\">MNIST Clasification: Exercise</h2>\n",
    "<div>"
   ]
  },
  {
   "cell_type": "markdown",
   "metadata": {},
   "source": [
    "<div style=\"background:#222222; color:#ffffff; padding:20px\">\n",
    "  <h3 style=\"color:#01ff84; margin-top:4px\">Exercise 1:</h3>\n",
    "  <p>Now it's your turn to build a simple network, use any method I've covered so far. In the next notebook, you'll learn how to train a network so it can make good predictions.</p>\n",
    "  <p>Build a network to classify the MNIST images with 3 hidden layers. Use 400 units in the first hidden layer, 200 units in the second layer, and 100 units in the third layer. Each hidden layer should have a ReLU activation function, and use softmax on the output layer.</p>\n",
    "<div>"
   ]
  },
  {
   "cell_type": "code",
   "execution_count": 42,
   "metadata": {},
   "outputs": [],
   "source": [
    "# ## TODO: Your network here\n",
    "class Network(nn.Module):\n",
    "    def __init__(self):\n",
    "        super().__init__()\n",
    "        self.fc1 = nn.Linear(784, 400)\n",
    "        self.fc2 = nn.Linear(400, 200)\n",
    "        self.fc3 = nn.Linear(200,100)\n",
    "        self.fc4 = nn.Linear(100, 10)\n",
    "\n",
    "    # Forward Pass\n",
    "    def forward(self, x):\n",
    "        x = self.fc1(x)\n",
    "        x = F.relu(x)\n",
    "        x = self.fc2(x)\n",
    "        x = F.relu(x)\n",
    "        x = self.fc3(x)\n",
    "        x = F.relu(x)\n",
    "        x = self.fc4(x)\n",
    "        output = F.softmax(x, dim=1)\n",
    "        return output\n"
   ]
  },
  {
   "cell_type": "code",
   "execution_count": 43,
   "metadata": {},
   "outputs": [
    {
     "data": {
      "text/plain": [
       "Network(\n",
       "  (fc1): Linear(in_features=784, out_features=400, bias=True)\n",
       "  (fc2): Linear(in_features=400, out_features=200, bias=True)\n",
       "  (fc3): Linear(in_features=200, out_features=100, bias=True)\n",
       "  (fc4): Linear(in_features=100, out_features=10, bias=True)\n",
       ")"
      ]
     },
     "execution_count": 43,
     "metadata": {},
     "output_type": "execute_result"
    }
   ],
   "source": [
    "model = Network()\n",
    "model\n"
   ]
  },
  {
   "cell_type": "code",
   "execution_count": 44,
   "metadata": {},
   "outputs": [
    {
     "data": {
      "image/png": "[encoded data removed]",
      "text/plain": [
       "<Figure size 432x648 with 2 Axes>"
      ]
     },
     "metadata": {
      "image/png": {
       "height": 195,
       "width": 349
      },
      "needs_background": "light"
     },
     "output_type": "display_data"
    }
   ],
   "source": [
    "# Run this cell with your model to make sure it works\n",
    "# Forward pass through the network and display output\n",
    "images, labels = next(iter(trainloader))\n",
    "images.resize_(images.shape[0], 1, 784)\n",
    "ps = model.forward(images[0,:])\n",
    "view_classify(images[0].view(1, 28, 28), ps)"
   ]
  },
  {
   "cell_type": "markdown",
   "metadata": {},
   "source": [
    "<div style=\"background:#222222; color:#ffffff; padding:20px\">\n",
    "  <h3 style=\"color:#01ff84; margin-top:4px\">Exercise 2:</h3>\n",
    "  <p>Train your network implementing the Pytorch training loop and <strong style=\"color:#01ff84\">after each epoch, use the model for predicting the test (validation) MNIST data.</strong></p>\n",
    "  <p>Note: If your model does not fit with the final softmax layer, you can remove this layer.</p>\n",
    "  <p>Hint: <a href=\"https://discuss.pytorch.org/t/training-loop-checking-validation-accuracy/78399\">Training loop checking validation accuracy\n",
    "</a></p>\n",
    "  <p>Research about <code>model.train()</code>, <code>model.eval()</code> and <code>with torch.no_grad()</code> in Pytorch.\n",
    "<div>"
   ]
  },
  {
   "cell_type": "code",
   "execution_count": 46,
   "metadata": {},
   "outputs": [
    {
     "name": "stdout",
     "output_type": "stream",
     "text": [
      "Epoch: 1/5\n",
      "\tIteration: 0\t Loss: 0.0574\n",
      "\tIteration: 40\t Loss: 2.2959\n",
      "\tIteration: 80\t Loss: 2.2907\n",
      "\tIteration: 120\t Loss: 2.2819\n",
      "\tIteration: 160\t Loss: 2.2414\n",
      "\tIteration: 200\t Loss: 2.1717\n",
      "\tIteration: 240\t Loss: 2.0816\n",
      "\tIteration: 280\t Loss: 1.9694\n",
      "\tIteration: 320\t Loss: 1.8752\n",
      "\tIteration: 360\t Loss: 1.8231\n",
      "\tIteration: 400\t Loss: 1.7801\n",
      "\tIteration: 440\t Loss: 1.7522\n",
      "\tIteration: 480\t Loss: 1.7278\n",
      "\tIteration: 520\t Loss: 1.7102\n",
      "\tIteration: 560\t Loss: 1.6935\n",
      "\tIteration: 600\t Loss: 1.6982\n",
      "\tIteration: 640\t Loss: 1.6762\n",
      "\tIteration: 680\t Loss: 1.6664\n",
      "\tIteration: 720\t Loss: 1.6718\n",
      "\tIteration: 760\t Loss: 1.6517\n",
      "\tIteration: 800\t Loss: 1.6710\n",
      "\tIteration: 840\t Loss: 1.6568\n",
      "\tIteration: 880\t Loss: 1.6590\n",
      "\tIteration: 920\t Loss: 1.6639\n",
      "Test Error: \n",
      " Accuracy: 83.6%, Avg loss: 1.632067 \n",
      "\n",
      "Epoch: 2/5\n",
      "\tIteration: 0\t Loss: 0.0399\n",
      "\tIteration: 40\t Loss: 1.6321\n",
      "\tIteration: 80\t Loss: 1.6480\n",
      "\tIteration: 120\t Loss: 1.6469\n",
      "\tIteration: 160\t Loss: 1.6569\n",
      "\tIteration: 200\t Loss: 1.6480\n",
      "\tIteration: 240\t Loss: 1.6416\n",
      "\tIteration: 280\t Loss: 1.6381\n",
      "\tIteration: 320\t Loss: 1.6443\n",
      "\tIteration: 360\t Loss: 1.6315\n",
      "\tIteration: 400\t Loss: 1.6428\n",
      "\tIteration: 440\t Loss: 1.6359\n",
      "\tIteration: 480\t Loss: 1.6366\n",
      "\tIteration: 520\t Loss: 1.6318\n",
      "\tIteration: 560\t Loss: 1.6239\n",
      "\tIteration: 600\t Loss: 1.6154\n",
      "\tIteration: 640\t Loss: 1.6370\n",
      "\tIteration: 680\t Loss: 1.6261\n",
      "\tIteration: 720\t Loss: 1.6304\n",
      "\tIteration: 760\t Loss: 1.6199\n",
      "\tIteration: 800\t Loss: 1.6188\n",
      "\tIteration: 840\t Loss: 1.6326\n",
      "\tIteration: 880\t Loss: 1.6289\n",
      "\tIteration: 920\t Loss: 1.6301\n",
      "Test Error: \n",
      " Accuracy: 81.7%, Avg loss: 1.646777 \n",
      "\n",
      "Epoch: 3/5\n",
      "\tIteration: 0\t Loss: 0.0418\n",
      "\tIteration: 40\t Loss: 1.6322\n",
      "\tIteration: 80\t Loss: 1.6214\n",
      "\tIteration: 120\t Loss: 1.6200\n",
      "\tIteration: 160\t Loss: 1.6200\n",
      "\tIteration: 200\t Loss: 1.6232\n",
      "\tIteration: 240\t Loss: 1.6135\n",
      "\tIteration: 280\t Loss: 1.6236\n",
      "\tIteration: 320\t Loss: 1.6177\n",
      "\tIteration: 360\t Loss: 1.6132\n",
      "\tIteration: 400\t Loss: 1.6280\n",
      "\tIteration: 440\t Loss: 1.6104\n",
      "\tIteration: 480\t Loss: 1.6200\n",
      "\tIteration: 520\t Loss: 1.6170\n",
      "\tIteration: 560\t Loss: 1.6090\n",
      "\tIteration: 600\t Loss: 1.6194\n",
      "\tIteration: 640\t Loss: 1.6160\n",
      "\tIteration: 680\t Loss: 1.6047\n",
      "\tIteration: 720\t Loss: 1.6214\n",
      "\tIteration: 760\t Loss: 1.6166\n",
      "\tIteration: 800\t Loss: 1.6210\n",
      "\tIteration: 840\t Loss: 1.6116\n",
      "\tIteration: 880\t Loss: 1.6160\n",
      "\tIteration: 920\t Loss: 1.6096\n",
      "Test Error: \n",
      " Accuracy: 84.7%, Avg loss: 1.614623 \n",
      "\n",
      "Epoch: 4/5\n",
      "\tIteration: 0\t Loss: 0.0411\n",
      "\tIteration: 40\t Loss: 1.6149\n",
      "\tIteration: 80\t Loss: 1.6206\n",
      "\tIteration: 120\t Loss: 1.6041\n",
      "\tIteration: 160\t Loss: 1.6142\n",
      "\tIteration: 200\t Loss: 1.6167\n",
      "\tIteration: 240\t Loss: 1.6066\n",
      "\tIteration: 280\t Loss: 1.6059\n",
      "\tIteration: 320\t Loss: 1.6105\n",
      "\tIteration: 360\t Loss: 1.6107\n",
      "\tIteration: 400\t Loss: 1.6099\n",
      "\tIteration: 440\t Loss: 1.6144\n",
      "\tIteration: 480\t Loss: 1.6082\n",
      "\tIteration: 520\t Loss: 1.5931\n",
      "\tIteration: 560\t Loss: 1.6017\n",
      "\tIteration: 600\t Loss: 1.6054\n",
      "\tIteration: 640\t Loss: 1.6122\n",
      "\tIteration: 680\t Loss: 1.5988\n",
      "\tIteration: 720\t Loss: 1.6021\n",
      "\tIteration: 760\t Loss: 1.6096\n",
      "\tIteration: 800\t Loss: 1.6088\n",
      "\tIteration: 840\t Loss: 1.5970\n",
      "\tIteration: 880\t Loss: 1.6034\n",
      "\tIteration: 920\t Loss: 1.6006\n",
      "Test Error: \n",
      " Accuracy: 84.7%, Avg loss: 1.614533 \n",
      "\n",
      "Epoch: 5/5\n",
      "\tIteration: 0\t Loss: 0.0404\n",
      "\tIteration: 40\t Loss: 1.6082\n",
      "\tIteration: 80\t Loss: 1.6087\n",
      "\tIteration: 120\t Loss: 1.6081\n",
      "\tIteration: 160\t Loss: 1.6031\n",
      "\tIteration: 200\t Loss: 1.5993\n",
      "\tIteration: 240\t Loss: 1.6035\n",
      "\tIteration: 280\t Loss: 1.6084\n",
      "\tIteration: 320\t Loss: 1.5959\n",
      "\tIteration: 360\t Loss: 1.5949\n",
      "\tIteration: 400\t Loss: 1.6023\n",
      "\tIteration: 440\t Loss: 1.5950\n",
      "\tIteration: 480\t Loss: 1.5982\n",
      "\tIteration: 520\t Loss: 1.5939\n",
      "\tIteration: 560\t Loss: 1.5939\n",
      "\tIteration: 600\t Loss: 1.5973\n",
      "\tIteration: 640\t Loss: 1.6036\n",
      "\tIteration: 680\t Loss: 1.5964\n",
      "\tIteration: 720\t Loss: 1.6015\n",
      "\tIteration: 760\t Loss: 1.5943\n",
      "\tIteration: 800\t Loss: 1.6138\n",
      "\tIteration: 840\t Loss: 1.5974\n",
      "\tIteration: 880\t Loss: 1.5948\n",
      "\tIteration: 920\t Loss: 1.5945\n",
      "Test Error: \n",
      " Accuracy: 86.9%, Avg loss: 1.593557 \n",
      "\n",
      "Done !!!\n"
     ]
    }
   ],
   "source": [
    "## TODO: Your training loop here\n",
    "criterion = nn.CrossEntropyLoss()\n",
    "optimizer = optim.SGD(model.parameters(), lr=0.1)\n",
    "\n",
    "epoch = 5\n",
    "print_every = 40\n",
    "\n",
    "for e in range(epoch):\n",
    "    running_loss = 0\n",
    "    test_loss = 0\n",
    "    correct = 0\n",
    "    print(f\"Epoch: {e+1}/{epoch}\")\n",
    "\n",
    "    for i, (images, labels) in enumerate(iter(trainloader)):\n",
    "        # Flatten MNIST Images to 1D 784 vector\n",
    "        images.resize_(images.size()[0], 784)\n",
    "        optimizer.zero_grad()\n",
    "\n",
    "        output = model.forward(images) # Forward Pass\n",
    "        loss = criterion(output, labels) # Calculating Loss\n",
    "        loss.backward() # Backward Pass\n",
    "        optimizer.step() # Updating the Weights in the Model\n",
    "\n",
    "        running_loss += loss.item()\n",
    "\n",
    "        if i % print_every == 0:\n",
    "            print(f\"\\tIteration: {i}\\t Loss: {running_loss/print_every:.4f}\")\n",
    "            running_loss = 0 \n",
    "\n",
    "    with torch.no_grad():\n",
    "        for x, y in testloader:\n",
    "            x.resize_(x.size()[0], 784)\n",
    "            pred = model(x)\n",
    "            test_loss += criterion(pred, y).item()\n",
    "            correct += (pred.argmax(1) == y).type(torch.float).sum().item()\n",
    "\n",
    "        test_loss /= len(testloader)\n",
    "        correct /= len(testloader.dataset)\n",
    "        print(f\"Test Error: \\n Accuracy: {(100*correct):>0.1f}%, Avg loss: {test_loss:>8f} \\n\")\n",
    "\n",
    "print(\"Done !!!\")\n",
    "\n",
    "    \n"
   ]
  },
  {
   "cell_type": "code",
   "execution_count": 56,
   "metadata": {},
   "outputs": [
    {
     "data": {
      "image/png": "[encoded data removed]",
      "text/plain": [
       "<Figure size 432x648 with 2 Axes>"
      ]
     },
     "metadata": {
      "image/png": {
       "height": 195,
       "width": 349
      },
      "needs_background": "light"
     },
     "output_type": "display_data"
    }
   ],
   "source": [
    "# Run this cell with your model to make sure it works and predicts well for the validation data\n",
    "images, labels = next(iter(testloader))\n",
    "images.resize_(images.shape[0], 1, 784)\n",
    "ps = model.forward(images[0,:])\n",
    "view_classify(images[0].view(1, 28, 28), ps)"
   ]
  },
  {
   "cell_type": "markdown",
   "metadata": {},
   "source": [
    "<div style=\"background:#222222; color:#ffffff; padding:20px\">\n",
    "  <h3 style=\"color:#01ff84; margin-top:4px\">Exercise 3:</h3>\n",
    "  <p>Write the code for adding <strong style=\"color:#01ff84\">Early Stopping with patience = 2</strong> to the training loop from scratch.</p>\n",
    "  <p><strong style=\"color:#01ff84\">Hint:</strong> Monitor the Validation loss every epoch, and if in 2 epochs, the validation loss does not improve, stop the training loop with <code>break</code>.</p>\n",
    "<div>"
   ]
  },
  {
   "cell_type": "code",
   "execution_count": 57,
   "metadata": {},
   "outputs": [
    {
     "name": "stdout",
     "output_type": "stream",
     "text": [
      "Epoch: 1/5\n",
      "\tIteration: 0\t Loss: 0.0397\n",
      "\tIteration: 40\t Loss: 1.6042\n",
      "\tIteration: 80\t Loss: 1.5925\n",
      "\tIteration: 120\t Loss: 1.5828\n",
      "\tIteration: 160\t Loss: 1.6011\n",
      "\tIteration: 200\t Loss: 1.6004\n",
      "\tIteration: 240\t Loss: 1.5935\n",
      "\tIteration: 280\t Loss: 1.5924\n",
      "\tIteration: 320\t Loss: 1.5984\n",
      "\tIteration: 360\t Loss: 1.5906\n",
      "\tIteration: 400\t Loss: 1.6029\n",
      "\tIteration: 440\t Loss: 1.5907\n",
      "\tIteration: 480\t Loss: 1.5877\n",
      "\tIteration: 520\t Loss: 1.5843\n",
      "\tIteration: 560\t Loss: 1.5868\n",
      "\tIteration: 600\t Loss: 1.5896\n",
      "\tIteration: 640\t Loss: 1.6073\n",
      "\tIteration: 680\t Loss: 1.5940\n",
      "\tIteration: 720\t Loss: 1.5951\n",
      "\tIteration: 760\t Loss: 1.5880\n",
      "\tIteration: 800\t Loss: 1.5937\n",
      "\tIteration: 840\t Loss: 1.5975\n",
      "\tIteration: 880\t Loss: 1.5987\n",
      "\tIteration: 920\t Loss: 1.5950\n",
      "Test Error: \n",
      " Accuracy: 86.6%, Avg loss: 1.597122 \n",
      "\n",
      "Epoch: 2/5\n",
      "\tIteration: 0\t Loss: 0.0409\n",
      "\tIteration: 40\t Loss: 1.5894\n",
      "\tIteration: 80\t Loss: 1.5859\n",
      "\tIteration: 120\t Loss: 1.5952\n",
      "\tIteration: 160\t Loss: 1.5854\n",
      "\tIteration: 200\t Loss: 1.5887\n",
      "\tIteration: 240\t Loss: 1.5995\n",
      "\tIteration: 280\t Loss: 1.5973\n",
      "\tIteration: 320\t Loss: 1.5915\n",
      "\tIteration: 360\t Loss: 1.5817\n",
      "\tIteration: 400\t Loss: 1.5771\n",
      "\tIteration: 440\t Loss: 1.5863\n",
      "\tIteration: 480\t Loss: 1.5836\n",
      "\tIteration: 520\t Loss: 1.5881\n",
      "\tIteration: 560\t Loss: 1.5914\n",
      "\tIteration: 600\t Loss: 1.5926\n",
      "\tIteration: 640\t Loss: 1.5996\n",
      "\tIteration: 680\t Loss: 1.5875\n",
      "\tIteration: 720\t Loss: 1.5766\n",
      "\tIteration: 760\t Loss: 1.5982\n",
      "\tIteration: 800\t Loss: 1.5822\n",
      "\tIteration: 840\t Loss: 1.5893\n",
      "\tIteration: 880\t Loss: 1.5823\n",
      "\tIteration: 920\t Loss: 1.5995\n",
      "Test Error: \n",
      " Accuracy: 85.2%, Avg loss: 1.610823 \n",
      "\n",
      "Done !!!\n",
      "Done !!!\n"
     ]
    }
   ],
   "source": [
    "## TODO: Your training loop here\n",
    "\n",
    "criterion = nn.CrossEntropyLoss()\n",
    "optimizer = optim.SGD(model.parameters(), lr=0.1)\n",
    "validation_loss = np.inf\n",
    "\n",
    "\n",
    "epoch = 5\n",
    "print_every = 40\n",
    "\n",
    "for e in range(epoch):\n",
    "    running_loss = 0\n",
    "    test_loss = 0\n",
    "    correct = 0\n",
    "    print(f\"Epoch: {e+1}/{epoch}\")\n",
    "\n",
    "    for i, (images, labels) in enumerate(iter(trainloader)):\n",
    "        # Flatten MNIST Images to 1D 784 vector\n",
    "        images.resize_(images.size()[0], 784)\n",
    "        optimizer.zero_grad()\n",
    "\n",
    "        output = model.forward(images) # Forward Pass\n",
    "        loss = criterion(output, labels) # Calculating Loss\n",
    "        loss.backward() # Backward Pass\n",
    "        optimizer.step() # Updating the Weights in the Model\n",
    "\n",
    "        running_loss += loss.item()\n",
    "\n",
    "        if i % print_every == 0:\n",
    "            print(f\"\\tIteration: {i}\\t Loss: {running_loss/print_every:.4f}\")\n",
    "            running_loss = 0 \n",
    "\n",
    "    with torch.no_grad():\n",
    "        for x, y in testloader:\n",
    "            x.resize_(x.size()[0], 784)\n",
    "            pred = model(x)\n",
    "            test_loss += criterion(pred, y).item()\n",
    "            correct += (pred.argmax(1) == y).type(torch.float).sum().item()\n",
    "\n",
    "        test_loss /= len(testloader)\n",
    "        correct /= len(testloader.dataset)\n",
    "        print(f\"Test Error: \\n Accuracy: {(100*correct):>0.1f}%, Avg loss: {test_loss:>8f} \\n\")\n",
    "\n",
    "    if validation_loss > test_loss:\n",
    "        validation_loss = test_loss\n",
    "    else:\n",
    "        break\n",
    "\n",
    "print(\"Done !!!\")\n",
    "\n",
    "    \n"
   ]
  }
 ],
 "metadata": {
  "kernelspec": {
   "display_name": "Python 3",
   "language": "python",
   "name": "python3"
  },
  "language_info": {
   "codemirror_mode": {
    "name": "ipython",
    "version": 3
   },
   "file_extension": ".py",
   "mimetype": "text/x-python",
   "name": "python",
   "nbconvert_exporter": "python",
   "pygments_lexer": "ipython3",
   "version": "3.7.11"
  }
 },
 "nbformat": 4,
 "nbformat_minor": 2
}
