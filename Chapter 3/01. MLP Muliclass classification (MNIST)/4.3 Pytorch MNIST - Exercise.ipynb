{
 "cells": [
  {
   "cell_type": "markdown",
   "metadata": {},
   "source": [
    "<div style=\"background:#222222; color:#ffffff; padding:20px\">\n",
    "    <h2 align=\"center\">Deep Learning Fundamentals</h2>\n",
    "    <h2 align=\"center\" style=\"color:#01ff84\">Multiclass Clasification: MNIST</h2>\n",
    "<div>"
   ]
  },
  {
   "cell_type": "markdown",
   "metadata": {},
   "source": [
    "## Imports"
   ]
  },
  {
   "cell_type": "code",
   "execution_count": 28,
   "metadata": {},
   "outputs": [],
   "source": [
    "#jupyter notebook settings not a must but helps\n",
    "%matplotlib inline\n",
    "%config InlineBackend.figure_format = 'retina'\n",
    "\n",
    "# helps in defining a model in sequential \n",
    "from collections import OrderedDict\n",
    "\n",
    "import numpy as np\n",
    "import matplotlib.pyplot as plt\n",
    "import pandas as pd\n",
    "import time\n",
    "\n",
    "import torch\n",
    "from torch import nn\n",
    "from torch import optim\n",
    "import torch.nn.functional as F\n",
    "\n",
    "# dealing with images \n",
    "from torchvision import datasets, transforms"
   ]
  },
  {
   "cell_type": "markdown",
   "metadata": {},
   "source": [
    "## Auxliary plotting function"
   ]
  },
  {
   "cell_type": "code",
   "execution_count": 3,
   "metadata": {},
   "outputs": [],
   "source": [
    "# https://discuss.pytorch.org/t/view-classify-in-module-helper/30279/6\n",
    "\n",
    "# for visualising samples, this helps to debug \n",
    "def view_classify(img, ps):\n",
    "\n",
    "    ps = ps.data.numpy().squeeze() # Convert to numpy and remove the first dimension \n",
    "\n",
    "    fig, (ax1, ax2) = plt.subplots(figsize=(6,9), ncols=2)\n",
    "    ax1.imshow(img.resize_(1, 28, 28).numpy().squeeze())\n",
    "    ax1.axis('off')\n",
    "    ax2.barh(np.arange(10), ps)\n",
    "    ax2.set_aspect(0.1)\n",
    "    ax2.set_yticks(np.arange(10))\n",
    "    ax2.set_yticklabels(np.arange(10))\n",
    "    ax2.set_title('Class Probability')\n",
    "    ax2.set_xlim(0, 1.1)"
   ]
  },
  {
   "cell_type": "markdown",
   "metadata": {},
   "source": [
    "# Load MNIST Dataset\n",
    "First up, we need to get our dataset. This is provided through the `torchvision` package. The code below will download the MNIST dataset, then create training and test datasets for us. Don't worry too much about the details here, you'll learn more about this later."
   ]
  },
  {
   "cell_type": "code",
   "execution_count": 26,
   "metadata": {},
   "outputs": [],
   "source": [
    "# compose is like a pipleline, of the steps that we want to perform\n",
    "# inituition is that transforms.ToTenso() converts the image to numpy then to tensor, PIL can be used to convert image to numpy array\n",
    "# normalize is to normalize the image to be between 0 and 1\n",
    "# transforms.Normalize((0.5), (0.5)) --> mean and std\n",
    "# since data is grey scale we only need to specify the mean and std for the channel\n",
    "#if we had colored then the function would be as transforms.Normalize((0.5,0.5,0.5), (0.5,0.5,0.5))\n",
    "\n",
    "# Define a transform to normalize the data (Preprocessing)\n",
    "transform = transforms.Compose([transforms.ToTensor(), transforms.Normalize((0.5), (0.5)) ])\n",
    "\n",
    "# Download and load the training data\n",
    "trainset    = datasets.MNIST('MNIST_data/', download=True, train=True, transform=transform)\n",
    "trainloader = torch.utils.data.DataLoader(trainset, batch_size=64, shuffle=True)\n",
    "\n",
    "# we don't want to pass all that data once, cause memory lol\n",
    "# rule of thumb : small batch size = smaller learning rate, bigger batch size = bigger learning rate\n",
    "# in theory a big batch size makes trainig faster , the updates may to be big and this impacts the model \n",
    "\n",
    "# Download and load the test data\n",
    "testset    = datasets.MNIST('MNIST_data/', download=True, train=False, transform=transform)\n",
    "testloader = torch.utils.data.DataLoader(testset, batch_size=64, shuffle=True)\n",
    "# shuffle is not necessary for test set, since we are not learning from it"
   ]
  },
  {
   "cell_type": "code",
   "execution_count": 5,
   "metadata": {},
   "outputs": [],
   "source": [
    "# accessing the data\n",
    "dataiter = iter(trainloader)\n",
    "images, labels = dataiter.next()"
   ]
  },
  {
   "cell_type": "markdown",
   "metadata": {},
   "source": [
    "We have the training data loaded into `trainloader` and we make that an iterator with `iter(trainloader)`. We'd use this to loop through the dataset for training, but here I'm just grabbing the first batch so we can check out the data. We can see below that `images` is just a tensor with size (64, 1, 28, 28). So, 64 images per batch, 1 color channel, and 28x28 images."
   ]
  },
  {
   "cell_type": "code",
   "execution_count": 6,
   "metadata": {},
   "outputs": [
    {
     "data": {
      "image/png": "[encoded data removed]",
      "text/plain": [
       "<Figure size 432x288 with 1 Axes>"
      ]
     },
     "metadata": {
      "image/png": {
       "height": 248,
       "width": 251
      },
      "needs_background": "light"
     },
     "output_type": "display_data"
    }
   ],
   "source": [
    "#plt.imshow(img) #this wont directly work since we have a 3rd dimension of the image\n",
    "# we can use .squeeze() to remove the dimension of the image\n",
    "plt.imshow(images[1].numpy().squeeze(), cmap='Greys_r');"
   ]
  },
  {
   "cell_type": "markdown",
   "metadata": {},
   "source": [
    "## Building networks with PyTorch\n",
    "\n",
    "Here I'll use PyTorch to build a simple feedfoward network to classify the MNIST images. That is, the network will receive a digit image as input and predict the digit in the image.\n",
    "\n",
    "<img src=\"assets/mlp_mnist.png\" width=600px>\n",
    "\n",
    "To build a neural network with PyTorch, you use the `torch.nn` module. The network itself is a class inheriting from `torch.nn.Module`. You define each of the operations separately, like `nn.Linear(784, 128)` for a fully connected linear layer with 784 inputs and 128 units.\n",
    "\n",
    "The class needs to include a `forward` method that implements the forward pass through the network. In this method, you pass some input tensor `x` through each of the operations you defined earlier. The `torch.nn` module also has functional equivalents for things like ReLUs in `torch.nn.functional`. This module is usually imported as `F`. Then to use a ReLU activation on some layer (which is just a tensor), you'd do `F.relu(x)`. Below are a few different commonly used activation functions.\n",
    "\n",
    "<img src=\"assets/activation.png\" width=700px>\n",
    "\n",
    "So, for this network, I'll build it with three fully connected layers, then a softmax output for predicting classes. The softmax function is similar to the sigmoid in that it squashes inputs between 0 and 1, but it's also normalized so that all the values sum to one like a proper probability distribution."
   ]
  },
  {
   "cell_type": "code",
   "execution_count": 7,
   "metadata": {},
   "outputs": [
    {
     "data": {
      "text/plain": [
       "Network(\n",
       "  (fc1): Linear(in_features=784, out_features=128, bias=True)\n",
       "  (fc2): Linear(in_features=128, out_features=64, bias=True)\n",
       "  (fc3): Linear(in_features=64, out_features=10, bias=True)\n",
       ")"
      ]
     },
     "execution_count": 7,
     "metadata": {},
     "output_type": "execute_result"
    }
   ],
   "source": [
    "class Network(nn.Module):\n",
    "    \n",
    "    # Defining the layers, 128, 64, 10 units each\n",
    "    def __init__(self):\n",
    "        super().__init__()\n",
    "        self.fc1 = nn.Linear(784, 128)\n",
    "        self.fc2 = nn.Linear(128, 64)\n",
    "        self.fc3 = nn.Linear(64, 10)\n",
    "        \n",
    "    # Forward pass through the network, returns the output logits\n",
    "    def forward(self, x):\n",
    "        x = self.fc1(x)\n",
    "        x = F.relu(x)\n",
    "        x = self.fc2(x)\n",
    "        x = F.relu(x)\n",
    "        x = self.fc3(x)\n",
    "        x = F.softmax(x, dim=1)\n",
    "        return x\n",
    "\n",
    "model = Network()\n",
    "model"
   ]
  },
  {
   "cell_type": "markdown",
   "metadata": {},
   "source": [
    "### Sequential API\n",
    "PyTorch provides a convenient way to build networks like this where a tensor is passed sequentially through operations, `nn.Sequential` ([documentation](https://pytorch.org/docs/master/nn.html#torch.nn.Sequential)). Using this to build the equivalent network:"
   ]
  },
  {
   "cell_type": "code",
   "execution_count": 8,
   "metadata": {},
   "outputs": [
    {
     "name": "stdout",
     "output_type": "stream",
     "text": [
      "Sequential(\n",
      "  (0): Linear(in_features=784, out_features=128, bias=True)\n",
      "  (1): ReLU()\n",
      "  (2): Linear(in_features=128, out_features=64, bias=True)\n",
      "  (3): ReLU()\n",
      "  (4): Linear(in_features=64, out_features=10, bias=True)\n",
      "  (5): Softmax(dim=1)\n",
      ")\n"
     ]
    }
   ],
   "source": [
    "# Hyperparameters for our network\n",
    "input_size   = 784\n",
    "hidden_sizes = [128, 64]\n",
    "output_size   = 10\n",
    "\n",
    "# Build a feed-forward network\n",
    "model = nn.Sequential(nn.Linear(input_size, hidden_sizes[0]),\n",
    "                      nn.ReLU(),\n",
    "                      nn.Linear(hidden_sizes[0], hidden_sizes[1]),\n",
    "                      nn.ReLU(),\n",
    "                      nn.Linear(hidden_sizes[1], output_size),\n",
    "                      nn.Softmax(dim=1))\n",
    "print(model)"
   ]
  },
  {
   "cell_type": "markdown",
   "metadata": {},
   "source": [
    "You can also pass in an `OrderedDict` to name the individual layers and operations. Note that a dictionary keys must be unique, so _each operation must have a different name_."
   ]
  },
  {
   "cell_type": "code",
   "execution_count": 9,
   "metadata": {},
   "outputs": [
    {
     "data": {
      "text/plain": [
       "Sequential(\n",
       "  (fc1): Linear(in_features=784, out_features=128, bias=True)\n",
       "  (relu1): ReLU()\n",
       "  (fc2): Linear(in_features=128, out_features=64, bias=True)\n",
       "  (relu2): ReLU()\n",
       "  (output): Linear(in_features=64, out_features=10, bias=True)\n",
       "  (softmax): Softmax(dim=1)\n",
       ")"
      ]
     },
     "execution_count": 9,
     "metadata": {},
     "output_type": "execute_result"
    }
   ],
   "source": [
    "model = nn.Sequential(OrderedDict([\n",
    "          ('fc1',   nn.Linear(input_size, hidden_sizes[0])),\n",
    "          ('relu1', nn.ReLU()),\n",
    "          ('fc2',   nn.Linear(hidden_sizes[0], hidden_sizes[1])),\n",
    "          ('relu2', nn.ReLU()),\n",
    "          ('output', nn.Linear(hidden_sizes[1], output_size)),\n",
    "          ('softmax', nn.Softmax(dim=1))]))\n",
    "model"
   ]
  },
  {
   "cell_type": "markdown",
   "metadata": {},
   "source": [
    "### Initializing weights and biases\n",
    "\n",
    "The weights and such are automatically initialized for you, but it's possible to customize how they are initialized. The weights and biases are tensors attached to the layer you defined, you can get them with `model.fc1.weight` for instance."
   ]
  },
  {
   "cell_type": "code",
   "execution_count": 10,
   "metadata": {},
   "outputs": [
    {
     "name": "stdout",
     "output_type": "stream",
     "text": [
      "Parameter containing:\n",
      "tensor([[ 0.0280,  0.0185, -0.0120,  ...,  0.0268,  0.0127,  0.0062],\n",
      "        [-0.0105,  0.0189, -0.0176,  ..., -0.0214,  0.0170,  0.0303],\n",
      "        [-0.0234,  0.0355, -0.0139,  ...,  0.0326, -0.0184,  0.0248],\n",
      "        ...,\n",
      "        [ 0.0009,  0.0327,  0.0038,  ..., -0.0094,  0.0259, -0.0198],\n",
      "        [-0.0075,  0.0251, -0.0181,  ...,  0.0077,  0.0049, -0.0049],\n",
      "        [ 0.0270, -0.0239,  0.0260,  ..., -0.0238,  0.0009,  0.0077]],\n",
      "       requires_grad=True)\n",
      "Parameter containing:\n",
      "tensor([-9.1504e-03,  2.5463e-02,  3.4291e-02,  3.5149e-02, -6.0324e-03,\n",
      "         1.3167e-02, -2.5415e-02,  1.3753e-02, -1.6139e-02, -2.7262e-03,\n",
      "         1.8210e-02,  2.4034e-04,  2.7118e-03,  1.5921e-02,  2.6082e-02,\n",
      "         2.3475e-02, -2.0289e-02, -9.0711e-03, -2.4197e-02,  3.5699e-05,\n",
      "         7.7649e-03,  3.2780e-02, -1.8187e-02, -3.0985e-02, -2.4679e-02,\n",
      "        -3.0274e-03, -1.7236e-02, -3.3650e-02, -2.5198e-02, -1.5137e-02,\n",
      "        -1.9697e-02,  3.1576e-03,  3.4298e-02,  2.7042e-02, -1.9979e-02,\n",
      "        -1.5405e-02,  9.2939e-03,  5.3387e-03, -2.8368e-02, -2.6860e-02,\n",
      "         2.8136e-02,  1.6462e-02,  2.3914e-02,  2.9255e-02, -2.2131e-02,\n",
      "         3.0615e-02,  2.0139e-02,  1.0219e-02, -1.1806e-02, -9.9132e-03,\n",
      "         1.3917e-02,  2.7814e-02, -3.3091e-02, -3.3888e-03, -2.5907e-02,\n",
      "         3.4528e-02,  3.3700e-02, -1.9920e-02, -3.2637e-02,  1.5452e-02,\n",
      "        -1.0731e-02,  3.1055e-02, -8.6910e-03,  3.1171e-02, -2.8333e-02,\n",
      "         2.8214e-02, -2.5417e-02, -2.5804e-02, -2.9015e-02, -1.7333e-02,\n",
      "         1.7622e-03,  4.3056e-03, -1.7124e-02,  1.6277e-03,  2.1176e-02,\n",
      "        -6.8762e-04, -2.9169e-02, -1.9260e-02,  3.3964e-02, -8.3925e-03,\n",
      "         2.2544e-02,  3.0288e-02, -3.8941e-03, -2.7839e-02, -1.2103e-02,\n",
      "         2.1105e-02, -1.0528e-02,  2.6226e-02, -3.3583e-02,  2.6961e-03,\n",
      "         7.6972e-03,  2.2543e-02, -2.3850e-02,  1.3345e-02,  8.4924e-03,\n",
      "        -3.3790e-02, -1.7676e-02,  9.0383e-03,  1.7577e-02,  2.8338e-02,\n",
      "        -1.4480e-02,  3.2197e-02,  2.5558e-02, -2.8409e-02,  1.0335e-02,\n",
      "         3.1747e-02,  3.4005e-02, -2.3956e-03,  3.1852e-03,  1.3918e-02,\n",
      "        -3.4579e-02,  5.6813e-03,  1.2350e-02,  2.3548e-03, -3.2284e-02,\n",
      "         1.3304e-02, -3.2185e-02, -3.2155e-02, -2.5604e-02,  2.9222e-02,\n",
      "         3.2150e-02, -1.1625e-02, -2.1965e-02,  1.5854e-02, -1.2368e-02,\n",
      "         1.8290e-02, -2.1606e-02, -2.1057e-02], requires_grad=True)\n"
     ]
    }
   ],
   "source": [
    "print(model.fc1.weight)\n",
    "print(model.fc1.bias)"
   ]
  },
  {
   "cell_type": "markdown",
   "metadata": {},
   "source": [
    "For custom initialization, we want to modify these tensors in place. These are actually autograd *Variables*, so we need to get back the actual tensors with `model.fc1.weight.data`. Once we have the tensors, we can fill them with zeros (for biases) or random normal values."
   ]
  },
  {
   "cell_type": "code",
   "execution_count": 11,
   "metadata": {},
   "outputs": [
    {
     "data": {
      "text/plain": [
       "tensor([0., 0., 0., 0., 0., 0., 0., 0., 0., 0., 0., 0., 0., 0., 0., 0., 0., 0., 0., 0., 0., 0., 0., 0.,\n",
       "        0., 0., 0., 0., 0., 0., 0., 0., 0., 0., 0., 0., 0., 0., 0., 0., 0., 0., 0., 0., 0., 0., 0., 0.,\n",
       "        0., 0., 0., 0., 0., 0., 0., 0., 0., 0., 0., 0., 0., 0., 0., 0., 0., 0., 0., 0., 0., 0., 0., 0.,\n",
       "        0., 0., 0., 0., 0., 0., 0., 0., 0., 0., 0., 0., 0., 0., 0., 0., 0., 0., 0., 0., 0., 0., 0., 0.,\n",
       "        0., 0., 0., 0., 0., 0., 0., 0., 0., 0., 0., 0., 0., 0., 0., 0., 0., 0., 0., 0., 0., 0., 0., 0.,\n",
       "        0., 0., 0., 0., 0., 0., 0., 0.])"
      ]
     },
     "execution_count": 11,
     "metadata": {},
     "output_type": "execute_result"
    }
   ],
   "source": [
    "# Set biases to all zeros\n",
    "model.fc1.bias.data.fill_(0)"
   ]
  },
  {
   "cell_type": "code",
   "execution_count": 12,
   "metadata": {},
   "outputs": [
    {
     "data": {
      "text/plain": [
       "tensor([[ 2.3026e-03,  7.6569e-03, -1.7499e-02,  ..., -6.7111e-03,\n",
       "         -1.6638e-03, -1.0608e-02],\n",
       "        [ 8.7503e-05, -2.2068e-03,  5.1593e-03,  ..., -1.3214e-02,\n",
       "          1.3040e-02, -8.8085e-03],\n",
       "        [ 1.0759e-02,  1.2896e-03, -7.5887e-03,  ...,  7.7617e-03,\n",
       "          1.2439e-02, -4.5779e-04],\n",
       "        ...,\n",
       "        [ 1.9980e-03,  9.7843e-03,  1.0171e-02,  ..., -2.3752e-03,\n",
       "          8.9613e-03, -4.4510e-03],\n",
       "        [-1.8107e-02,  1.1966e-02,  4.6102e-03,  ..., -9.2781e-04,\n",
       "          1.6700e-02,  7.2786e-03],\n",
       "        [-6.1680e-03,  7.9297e-03, -1.1664e-02,  ..., -1.0874e-02,\n",
       "         -4.9156e-03,  6.8146e-03]])"
      ]
     },
     "execution_count": 12,
     "metadata": {},
     "output_type": "execute_result"
    }
   ],
   "source": [
    "# sample from random normal with standard dev = 0.01\n",
    "model.fc1.weight.data.normal_(std=0.01)"
   ]
  },
  {
   "cell_type": "markdown",
   "metadata": {},
   "source": [
    "### STEP 1: Forward pass\n",
    "\n",
    "Now that we have a network, let's see what happens when we pass in an image. This is called the forward pass. We're going to convert the image data into a tensor, then pass it through the operations defined by the network architecture."
   ]
  },
  {
   "cell_type": "code",
   "execution_count": 13,
   "metadata": {},
   "outputs": [
    {
     "data": {
      "image/png": "[encoded data removed]",
      "text/plain": [
       "<Figure size 432x648 with 2 Axes>"
      ]
     },
     "metadata": {
      "image/png": {
       "height": 195,
       "width": 349
      },
      "needs_background": "light"
     },
     "output_type": "display_data"
    }
   ],
   "source": [
    "# Grab some data \n",
    "dataiter = iter(trainloader)\n",
    "images, labels = dataiter.next()\n",
    "\n",
    "# Resize images into a 1D vector, new shape is (batch size, color channels, image pixels) \n",
    "images.resize_(64, 1, 784)\n",
    "# or images.resize_(images.shape[0], 1, 784) to not automatically get batch size\n",
    "\n",
    "# Forward pass through the network\n",
    "img_idx = 0\n",
    "ps = model.forward(images[img_idx,:])\n",
    "\n",
    "img = images[img_idx]\n",
    "view_classify(img.view(1, 28, 28), ps)"
   ]
  },
  {
   "cell_type": "markdown",
   "metadata": {},
   "source": [
    "As you can see above, our network has basically no idea what this digit is. It's because we haven't trained it yet, all the weights are random!"
   ]
  },
  {
   "cell_type": "markdown",
   "metadata": {},
   "source": [
    "# Training Neural Networks\n",
    "\n",
    "The network we built isn't so smart, it doesn't know anything about our handwritten digits. Neural networks with non-linear activations work like universal function approximators. There is some function that maps your input to the output. For example, images of handwritten digits to class probabilities. The power of neural networks is that we can train them to approximate this function, and basically any function given enough data and compute time.\n",
    "\n",
    "<img src=\"assets/function_approx.png\" width=500px>\n",
    "\n",
    "At first the network is naive, it doesn't know the function mapping the inputs to the outputs. We train the network by showing it examples of real data, then adjusting the network parameters such that it approximates this function.\n",
    "\n",
    "To find these parameters, we need to know how poorly the network is predicting the real outputs. For this we calculate a **loss function** (also called the cost), a measure of our prediction error. For example, the mean squared loss is often used in regression and binary classification problems\n",
    "\n",
    "$$\n",
    "\\ell = \\frac{1}{2n}\\sum_i^n{\\left(y_i - \\hat{y}_i\\right)^2}\n",
    "$$\n",
    "\n",
    "where $n$ is the number of training examples, $y_i$ are the true labels, and $\\hat{y}_i$ are the predicted labels.\n",
    "\n",
    "By minimizing this loss with respect to the network parameters, we can find configurations where the loss is at a minimum and the network is able to predict the correct labels with high accuracy. We find this minimum using a process called **gradient descent**. The gradient is the slope of the loss function and points in the direction of fastest change. To get to the minimum in the least amount of time, we then want to follow the gradient (downwards). You can think of this like descending a mountain by following the steepest slope to the base.\n",
    "\n",
    "<img src='assets/gradient_descent.png' width=350px>"
   ]
  },
  {
   "cell_type": "markdown",
   "metadata": {},
   "source": [
    "## Backpropagation\n",
    "\n",
    "For single layer networks, gradient descent is simple to implement. However, it's more complicated for deeper, multilayer neural networks like the one we've built. Complicated enough that it took about 30 years before researchers figured out how to train multilayer networks, although it's straightforward once you learn about it. \n",
    "\n",
    "This is done through **backpropagation** which is really just an application of the chain rule from calculus. It's easiest to understand if we convert a two layer network into a graph representation.\n",
    "\n",
    "<img src='assets/w1_backprop_graph.png' width=400px>\n",
    "\n",
    "In the forward pass through the network, our data and operations go from right to left here. To train the weights with gradient descent, we propagate the gradient of the cost backwards through the network. Mathematically, this is really just calculating the gradient of the loss with respect to the weights using the chain rule.\n",
    "\n",
    "$$\n",
    "\\frac{\\partial \\ell}{\\partial w_1} = \\frac{\\partial l_1}{\\partial w_1} \\frac{\\partial s}{\\partial l_1} \\frac{\\partial l_2}{\\partial s} \\frac{\\partial \\ell}{\\partial l_2}\n",
    "$$\n",
    "\n",
    "We update our weights using this gradient with some learning rate $\\alpha$. \n",
    "\n",
    "$$\n",
    "w^\\prime = w - \\alpha \\frac{\\partial \\ell}{\\partial w}\n",
    "$$\n",
    "\n",
    "The learning rate is set such that the weight update steps are small enough that the iterative method settles in a minimum.\n",
    "\n",
    "The first thing we need to do for training is define our loss function. In PyTorch, you'll usually see this as `criterion`. Here we're using softmax output, so we want to use `criterion = nn.CrossEntropyLoss()` as our loss. Later when training, you use `loss = criterion(output, targets)` to calculate the actual loss.\n",
    "\n",
    "We also need to define the optimizer we're using, SGD or Adam, or something along those lines. Here I'll just use SGD with `torch.optim.SGD`, passing in the network parameters and the learning rate."
   ]
  },
  {
   "cell_type": "markdown",
   "metadata": {},
   "source": [
    "## Autograd\n",
    "\n",
    "Torch provides a module, `autograd`, for automatically calculating the gradient of tensors. It does this by keeping track of operations performed on tensors. To make sure PyTorch keeps track of operations on a tensor and calculates the gradients, you need to set `requires_grad` on a tensor. You can do this at creation with the `requires_grad` keyword, or at any time with `x.requires_grad_(True)`.\n",
    "\n",
    "You can turn off gradients for a block of code with the `torch.no_grad()` content:\n",
    "```python\n",
    "x = torch.zeros(1, requires_grad=True)\n",
    ">>> with torch.no_grad():\n",
    "...     y = x * 2\n",
    ">>> y.requires_grad\n",
    "False\n",
    "```\n",
    "\n",
    "Also, you can turn on or off gradients altogether with `torch.set_grad_enabled(True|False)`.\n",
    "\n",
    "The gradients are computed with respect to some variable `z` with `z.backward()`. This does a backward pass through the operations that created `z`."
   ]
  },
  {
   "cell_type": "code",
   "execution_count": 14,
   "metadata": {},
   "outputs": [
    {
     "name": "stdout",
     "output_type": "stream",
     "text": [
      "tensor([[ 0.7626,  0.3735],\n",
      "        [-0.4046,  0.1331]], requires_grad=True)\n"
     ]
    }
   ],
   "source": [
    "x = torch.randn(2,2, requires_grad=True)\n",
    "print(x)"
   ]
  },
  {
   "cell_type": "code",
   "execution_count": 15,
   "metadata": {},
   "outputs": [
    {
     "name": "stdout",
     "output_type": "stream",
     "text": [
      "tensor([[0.5816, 0.1395],\n",
      "        [0.1637, 0.0177]], grad_fn=<PowBackward0>)\n"
     ]
    }
   ],
   "source": [
    "y = x**2\n",
    "print(y)"
   ]
  },
  {
   "cell_type": "markdown",
   "metadata": {},
   "source": [
    "Below we can see the operation that created `y`, a power operation `PowBackward0`."
   ]
  },
  {
   "cell_type": "code",
   "execution_count": 16,
   "metadata": {},
   "outputs": [
    {
     "name": "stdout",
     "output_type": "stream",
     "text": [
      "<PowBackward0 object at 0x0000027A9E778088>\n"
     ]
    }
   ],
   "source": [
    "## grad_fn shows the function that generated this variable\n",
    "print(y.grad_fn)"
   ]
  },
  {
   "cell_type": "markdown",
   "metadata": {},
   "source": [
    "The autgrad module keeps track of these operations and knows how to calculate the gradient for each one. In this way, it's able to calculate the gradients for a chain of operations, with respect to any one tensor. Let's reduce the tensor `y` to a scalar value, the mean."
   ]
  },
  {
   "cell_type": "code",
   "execution_count": 17,
   "metadata": {},
   "outputs": [
    {
     "name": "stdout",
     "output_type": "stream",
     "text": [
      "tensor(0.2256, grad_fn=<MeanBackward0>)\n"
     ]
    }
   ],
   "source": [
    "z = y.mean()\n",
    "print(z)"
   ]
  },
  {
   "cell_type": "markdown",
   "metadata": {},
   "source": [
    "You can check the gradients for `x` and `y` but they are empty currently."
   ]
  },
  {
   "cell_type": "code",
   "execution_count": 18,
   "metadata": {},
   "outputs": [
    {
     "name": "stdout",
     "output_type": "stream",
     "text": [
      "None\n"
     ]
    }
   ],
   "source": [
    "print(x.grad)"
   ]
  },
  {
   "cell_type": "markdown",
   "metadata": {},
   "source": [
    "To calculate the gradients, you need to run the `.backward` method on a Variable, `z` for example. This will calculate the gradient for `z` with respect to `x`\n",
    "\n",
    "$$\n",
    "\\frac{\\partial z}{\\partial x} = \\frac{\\partial}{\\partial x}\\left[\\frac{1}{n}\\sum_i^n x_i^2\\right] = \\frac{x}{2}\n",
    "$$"
   ]
  },
  {
   "cell_type": "code",
   "execution_count": 19,
   "metadata": {},
   "outputs": [
    {
     "name": "stdout",
     "output_type": "stream",
     "text": [
      "tensor([[ 0.3813,  0.1868],\n",
      "        [-0.2023,  0.0665]])\n",
      "tensor([[ 0.3813,  0.1868],\n",
      "        [-0.2023,  0.0665]], grad_fn=<DivBackward0>)\n"
     ]
    }
   ],
   "source": [
    "z.backward()\n",
    "print(x.grad)\n",
    "print(x/2)"
   ]
  },
  {
   "cell_type": "markdown",
   "metadata": {},
   "source": [
    "These gradients calculations are particularly useful for neural networks. For training we need the gradients of the weights with respect to the cost. With PyTorch, we run data forward through the network to calculate the cost, then, go backwards to calculate the gradients with respect to the cost. Once we have the gradients we can make a gradient descent step. "
   ]
  },
  {
   "cell_type": "markdown",
   "metadata": {},
   "source": [
    "I'll build a network with `nn.Sequential` here. Only difference from the last part is I'm not actually using softmax on the output, but instead just using the raw output from the last layer. This is because the output from softmax is a probability distribution. Often, the output will have values really close to zero or really close to one. Due to [inaccuracies with representing numbers as floating points](https://docs.python.org/3/tutorial/floatingpoint.html), computations with a softmax output can lose accuracy and become unstable. To get around this, we'll use the raw output, called the **logits**, to calculate the loss."
   ]
  },
  {
   "cell_type": "code",
   "execution_count": 20,
   "metadata": {},
   "outputs": [],
   "source": [
    "# Hyperparameters for our network\n",
    "input_size   = 784\n",
    "hidden_sizes = [128, 64]\n",
    "output_size  = 10\n",
    "\n",
    "# Build a feed-forward network\n",
    "model = nn.Sequential(OrderedDict([\n",
    "          ('fc1', nn.Linear(input_size, hidden_sizes[0])),\n",
    "          ('relu1', nn.ReLU()),\n",
    "          ('fc2', nn.Linear(hidden_sizes[0], hidden_sizes[1])),\n",
    "          ('relu2', nn.ReLU()),\n",
    "          ('logits', nn.Linear(hidden_sizes[1], output_size))]))"
   ]
  },
  {
   "cell_type": "markdown",
   "metadata": {},
   "source": [
    "## Training the network!\n",
    "\n",
    "The first thing we need to do for training is define our loss function. In PyTorch, you'll usually see this as `criterion`. Here we're using softmax output, so we want to use `criterion = nn.CrossEntropyLoss()` as our loss. Later when training, you use `loss = criterion(output, targets)` to calculate the actual loss.\n",
    "\n",
    "We also need to define the optimizer we're using, SGD or Adam, or something along those lines. Here I'll just use SGD with `torch.optim.SGD`, passing in the network parameters and the learning rate."
   ]
  },
  {
   "cell_type": "code",
   "execution_count": 21,
   "metadata": {},
   "outputs": [],
   "source": [
    "criterion = nn.CrossEntropyLoss()\n",
    "optimizer = optim.SGD(model.parameters(), lr=0.01)"
   ]
  },
  {
   "cell_type": "markdown",
   "metadata": {},
   "source": [
    "First, let's consider just one learning step before looping through all the data. The general process with PyTorch:\n",
    "\n",
    "* Make a forward pass through the network to get the logits \n",
    "* Use the logits to calculate the loss\n",
    "* Perform a backward pass through the network with `loss.backward()` to calculate the gradients\n",
    "* Take a step with the optimizer to update the weights\n",
    "\n",
    "Below I'll go through one training step and print out the weights and gradients so you can see how it changes."
   ]
  },
  {
   "cell_type": "code",
   "execution_count": 22,
   "metadata": {},
   "outputs": [
    {
     "name": "stdout",
     "output_type": "stream",
     "text": [
      "Initial weights -  Parameter containing:\n",
      "tensor([[-0.0323, -0.0212,  0.0321,  ..., -0.0197, -0.0356, -0.0157],\n",
      "        [-0.0298,  0.0220, -0.0279,  ...,  0.0060, -0.0148,  0.0252],\n",
      "        [-0.0141,  0.0310,  0.0052,  ...,  0.0273,  0.0029,  0.0321],\n",
      "        ...,\n",
      "        [ 0.0228, -0.0047, -0.0354,  ..., -0.0280,  0.0340, -0.0221],\n",
      "        [-0.0216,  0.0320,  0.0319,  ...,  0.0134, -0.0209,  0.0167],\n",
      "        [ 0.0029, -0.0354, -0.0273,  ...,  0.0235, -0.0100,  0.0177]],\n",
      "       requires_grad=True)\n",
      "Gradient - tensor([[ 0.0006,  0.0006,  0.0006,  ...,  0.0006,  0.0006,  0.0006],\n",
      "        [ 0.0000,  0.0000,  0.0000,  ...,  0.0000,  0.0000,  0.0000],\n",
      "        [-0.0038, -0.0038, -0.0038,  ..., -0.0038, -0.0038, -0.0038],\n",
      "        ...,\n",
      "        [ 0.0028,  0.0028,  0.0028,  ...,  0.0028,  0.0028,  0.0028],\n",
      "        [-0.0010, -0.0010, -0.0010,  ..., -0.0010, -0.0010, -0.0010],\n",
      "        [ 0.0009,  0.0009,  0.0009,  ...,  0.0009,  0.0009,  0.0009]])\n"
     ]
    }
   ],
   "source": [
    "print('Initial weights - ', model.fc1.weight)\n",
    "\n",
    "images, labels = next(iter(trainloader))\n",
    "images.resize_(64, 784)\n",
    "\n",
    "# Clear the gradients, do this because gradients are accumulated\n",
    "optimizer.zero_grad()\n",
    "\n",
    "# Forward pass, then backward pass, then update weights\n",
    "output = model.forward(images)\n",
    "loss = criterion(output, labels)\n",
    "loss.backward()\n",
    "print('Gradient -', model.fc1.weight.grad)\n",
    "optimizer.step()"
   ]
  },
  {
   "cell_type": "code",
   "execution_count": 23,
   "metadata": {},
   "outputs": [
    {
     "name": "stdout",
     "output_type": "stream",
     "text": [
      "Updated weights -  Parameter containing:\n",
      "tensor([[-0.0323, -0.0212,  0.0321,  ..., -0.0197, -0.0356, -0.0157],\n",
      "        [-0.0298,  0.0220, -0.0279,  ...,  0.0060, -0.0148,  0.0252],\n",
      "        [-0.0140,  0.0310,  0.0052,  ...,  0.0274,  0.0030,  0.0322],\n",
      "        ...,\n",
      "        [ 0.0228, -0.0047, -0.0355,  ..., -0.0280,  0.0340, -0.0221],\n",
      "        [-0.0216,  0.0320,  0.0319,  ...,  0.0134, -0.0208,  0.0167],\n",
      "        [ 0.0029, -0.0354, -0.0273,  ...,  0.0235, -0.0100,  0.0177]],\n",
      "       requires_grad=True)\n"
     ]
    }
   ],
   "source": [
    "print('Updated weights - ', model.fc1.weight)"
   ]
  },
  {
   "cell_type": "markdown",
   "metadata": {},
   "source": [
    "### Training for real\n",
    "\n",
    "Now we'll put this algorithm into a loop so we can go through all the images. This is fairly straightforward. We'll loop through the mini-batches in our dataset, pass the data through the network to calculate the losses, get the gradients, then run the optimizer."
   ]
  },
  {
   "cell_type": "code",
   "execution_count": 24,
   "metadata": {},
   "outputs": [],
   "source": [
    "optimizer = optim.SGD(model.parameters(), lr=0.003)"
   ]
  },
  {
   "cell_type": "code",
   "execution_count": 25,
   "metadata": {},
   "outputs": [
    {
     "name": "stdout",
     "output_type": "stream",
     "text": [
      "Epoch: 1/3\n",
      "\tIteration: 0\t Loss: 0.0577\n",
      "\tIteration: 40\t Loss: 2.3032\n",
      "\tIteration: 80\t Loss: 2.2852\n",
      "\tIteration: 120\t Loss: 2.2694\n",
      "\tIteration: 160\t Loss: 2.2553\n",
      "\tIteration: 200\t Loss: 2.2405\n",
      "\tIteration: 240\t Loss: 2.2223\n",
      "\tIteration: 280\t Loss: 2.1968\n",
      "\tIteration: 320\t Loss: 2.1703\n",
      "\tIteration: 360\t Loss: 2.1454\n",
      "\tIteration: 400\t Loss: 2.1124\n",
      "\tIteration: 440\t Loss: 2.0836\n",
      "\tIteration: 480\t Loss: 2.0414\n",
      "\tIteration: 520\t Loss: 2.0021\n",
      "\tIteration: 560\t Loss: 1.9465\n",
      "\tIteration: 600\t Loss: 1.9064\n",
      "\tIteration: 640\t Loss: 1.8596\n",
      "\tIteration: 680\t Loss: 1.7910\n",
      "\tIteration: 720\t Loss: 1.7301\n",
      "\tIteration: 760\t Loss: 1.6778\n",
      "\tIteration: 800\t Loss: 1.5979\n",
      "\tIteration: 840\t Loss: 1.5207\n",
      "\tIteration: 880\t Loss: 1.4646\n",
      "\tIteration: 920\t Loss: 1.3832\n",
      "Epoch: 2/3\n",
      "\tIteration: 0\t Loss: 0.0324\n",
      "\tIteration: 40\t Loss: 1.2748\n",
      "\tIteration: 80\t Loss: 1.2074\n",
      "\tIteration: 120\t Loss: 1.1784\n",
      "\tIteration: 160\t Loss: 1.1062\n",
      "\tIteration: 200\t Loss: 1.0829\n",
      "\tIteration: 240\t Loss: 1.0215\n",
      "\tIteration: 280\t Loss: 0.9602\n",
      "\tIteration: 320\t Loss: 0.9369\n",
      "\tIteration: 360\t Loss: 0.9183\n",
      "\tIteration: 400\t Loss: 0.8594\n",
      "\tIteration: 440\t Loss: 0.8549\n",
      "\tIteration: 480\t Loss: 0.8242\n",
      "\tIteration: 520\t Loss: 0.7960\n",
      "\tIteration: 560\t Loss: 0.7587\n",
      "\tIteration: 600\t Loss: 0.7301\n",
      "\tIteration: 640\t Loss: 0.7204\n",
      "\tIteration: 680\t Loss: 0.7110\n",
      "\tIteration: 720\t Loss: 0.6810\n",
      "\tIteration: 760\t Loss: 0.6716\n",
      "\tIteration: 800\t Loss: 0.6731\n",
      "\tIteration: 840\t Loss: 0.6559\n",
      "\tIteration: 880\t Loss: 0.6176\n",
      "\tIteration: 920\t Loss: 0.6155\n",
      "Epoch: 3/3\n",
      "\tIteration: 0\t Loss: 0.0110\n",
      "\tIteration: 40\t Loss: 0.6069\n",
      "\tIteration: 80\t Loss: 0.5989\n",
      "\tIteration: 120\t Loss: 0.5759\n",
      "\tIteration: 160\t Loss: 0.5592\n",
      "\tIteration: 200\t Loss: 0.5441\n",
      "\tIteration: 240\t Loss: 0.5413\n",
      "\tIteration: 280\t Loss: 0.5766\n",
      "\tIteration: 320\t Loss: 0.5417\n",
      "\tIteration: 360\t Loss: 0.5340\n",
      "\tIteration: 400\t Loss: 0.5079\n",
      "\tIteration: 440\t Loss: 0.5330\n",
      "\tIteration: 480\t Loss: 0.5238\n",
      "\tIteration: 520\t Loss: 0.5333\n",
      "\tIteration: 560\t Loss: 0.5104\n",
      "\tIteration: 600\t Loss: 0.5072\n",
      "\tIteration: 640\t Loss: 0.4813\n",
      "\tIteration: 680\t Loss: 0.5009\n",
      "\tIteration: 720\t Loss: 0.4757\n",
      "\tIteration: 760\t Loss: 0.4790\n",
      "\tIteration: 800\t Loss: 0.4650\n",
      "\tIteration: 840\t Loss: 0.4751\n",
      "\tIteration: 880\t Loss: 0.4782\n",
      "\tIteration: 920\t Loss: 0.4864\n"
     ]
    }
   ],
   "source": [
    "epochs = 3\n",
    "print_every = 40\n",
    "\n",
    "for e in range(epochs):\n",
    "    running_loss = 0\n",
    "    print(f\"Epoch: {e+1}/{epochs}\")\n",
    "\n",
    "    for i, (images, labels) in enumerate(iter(trainloader)):\n",
    "\n",
    "        # Flatten MNIST images into a 784 long vector\n",
    "        images.resize_(images.size()[0], 784)\n",
    "        \n",
    "        optimizer.zero_grad()\n",
    "        \n",
    "        output = model.forward(images)   # 1) Forward pass\n",
    "        loss = criterion(output, labels) # 2) Compute loss\n",
    "        loss.backward()                  # 3) Backward pass\n",
    "        optimizer.step()                 # 4) Update model\n",
    "        \n",
    "        running_loss += loss.item()\n",
    "        \n",
    "        if i % print_every == 0:\n",
    "            print(f\"\\tIteration: {i}\\t Loss: {running_loss/print_every:.4f}\")\n",
    "            running_loss = 0"
   ]
  },
  {
   "cell_type": "markdown",
   "metadata": {},
   "source": [
    "With the network trained, we can check out it's predictions."
   ]
  },
  {
   "cell_type": "code",
   "execution_count": 33,
   "metadata": {},
   "outputs": [
    {
     "data": {
      "image/png": "[encoded data removed]",
      "text/plain": [
       "<Figure size 432x648 with 2 Axes>"
      ]
     },
     "metadata": {
      "image/png": {
       "height": 195,
       "width": 349
      },
      "needs_background": "light"
     },
     "output_type": "display_data"
    }
   ],
   "source": [
    "images, labels = next(iter(trainloader))\n",
    "\n",
    "img = images[0].view(1, 784)\n",
    "# Turn off gradients to speed up this part\n",
    "with torch.no_grad():\n",
    "    logits = model.forward(img)\n",
    "\n",
    "# Output of the network are logits, need to take softmax for probabilities\n",
    "ps = F.softmax(logits, dim=1)\n",
    "view_classify(img.view(1, 28, 28), ps)"
   ]
  },
  {
   "cell_type": "markdown",
   "metadata": {},
   "source": [
    "Now our network is brilliant. It can accurately predict the digits in our images."
   ]
  },
  {
   "cell_type": "markdown",
   "metadata": {},
   "source": [
    "<div style=\"background:#222222; color:#ffffff; padding:20px\">\n",
    "    <h2 align=\"center\" style=\"color:#01ff84\">MNIST Clasification: Exercise</h2>\n",
    "<div>"
   ]
  },
  {
   "cell_type": "markdown",
   "metadata": {},
   "source": [
    "<div style=\"background:#222222; color:#ffffff; padding:20px\">\n",
    "  <h3 style=\"color:#01ff84; margin-top:4px\">Exercise 1:</h3>\n",
    "  <p>Now it's your turn to build a simple network, use any method I've covered so far. In the next notebook, you'll learn how to train a network so it can make good predictions.</p>\n",
    "  <p>Build a network to classify the MNIST images with 3 hidden layers. Use 400 units in the first hidden layer, 200 units in the second layer, and 100 units in the third layer. Each hidden layer should have a ReLU activation function, and use softmax on the output layer.</p>\n",
    "<div>"
   ]
  },
  {
   "cell_type": "code",
   "execution_count": 80,
   "metadata": {},
   "outputs": [],
   "source": [
    "# ## TODO: Your network here\n",
    "    # what does nn.Module mean? well we are inheriting in the atrribute of nn.Module and methods of nn.Module\n",
    "    # we then overwrite the constructor to define the network we want\n",
    "class Network(nn.Module):\n",
    "    def __init__(self):\n",
    "        super().__init__()\n",
    "        self.fc1 = nn.Linear(784, 400) # input dim is 28x28 = 784 , value of output is defined by us, can be any number\n",
    "        self.fc2 = nn.Linear(400, 200)\n",
    "        self.fc3 = nn.Linear(200,100)\n",
    "        self.fc4 = nn.Linear(100, 10) # the 10 has to be the number of classes, we have 10 classes in this case\n",
    "        \n",
    "\n",
    "    # Forward pass through the network, in order to ensure the manner in which the data is being passed through the network, returns the output logits\n",
    "    # relu performs better than sigmoid as it does not make the values smaller going through the network and we may lose information\n",
    "    def forward(self, x):\n",
    "        x = x.view(x.shape[0],784)  # flatten the input, can be done here, or in training loop\n",
    "        x = self.fc1(x)\n",
    "        x = F.relu(x) # ReLU is a non-linearity function, it is a function that returns the max of the input and 0.\n",
    "        # here we are call it via F as it is a torch function, or you can define it in the method as we saw with sigmoid previously \n",
    "        x = self.fc2(x)\n",
    "        x = F.relu(x) #activation function decides whether the nueron fires or not, i.e. passing data through the network\n",
    "        x = self.fc3(x)\n",
    "        x = F.relu(x) \n",
    "        x = self.fc4(x)\n",
    "        output = F.softmax(x, dim=1) # to get the probability of each class, dim =1 is the dimension we want to apply softmax on\n",
    "        return output\n"
   ]
  },
  {
   "cell_type": "code",
   "execution_count": 81,
   "metadata": {},
   "outputs": [
    {
     "data": {
      "text/plain": [
       "Network(\n",
       "  (fc1): Linear(in_features=784, out_features=400, bias=True)\n",
       "  (fc2): Linear(in_features=400, out_features=200, bias=True)\n",
       "  (fc3): Linear(in_features=200, out_features=100, bias=True)\n",
       "  (fc4): Linear(in_features=100, out_features=10, bias=True)\n",
       ")"
      ]
     },
     "execution_count": 81,
     "metadata": {},
     "output_type": "execute_result"
    }
   ],
   "source": [
    "model = Network()\n",
    "model\n"
   ]
  },
  {
   "cell_type": "code",
   "execution_count": 82,
   "metadata": {},
   "outputs": [
    {
     "data": {
      "image/png": "[encoded data removed]",
      "text/plain": [
       "<Figure size 432x648 with 2 Axes>"
      ]
     },
     "metadata": {
      "image/png": {
       "height": 195,
       "width": 349
      },
      "needs_background": "light"
     },
     "output_type": "display_data"
    }
   ],
   "source": [
    "# Run this cell with your model to make sure it works\n",
    "# Forward pass through the network and display output\n",
    "images, labels = next(iter(trainloader))\n",
    "images.resize_(images.shape[0], 1, 784)\n",
    "ps = model.forward(images[0,:])\n",
    "view_classify(images[0].view(1, 28, 28), ps)"
   ]
  },
  {
   "cell_type": "markdown",
   "metadata": {},
   "source": [
    "<div style=\"background:#222222; color:#ffffff; padding:20px\">\n",
    "  <h3 style=\"color:#01ff84; margin-top:4px\">Exercise 2:</h3>\n",
    "  <p>Train your network implementing the Pytorch training loop and <strong style=\"color:#01ff84\">after each epoch, use the model for predicting the test (validation) MNIST data.</strong></p>\n",
    "  <p>Note: If your model does not fit with the final softmax layer, you can remove this layer.</p>\n",
    "  <p>Hint: <a href=\"https://discuss.pytorch.org/t/training-loop-checking-validation-accuracy/78399\">Training loop checking validation accuracy\n",
    "</a></p>\n",
    "  <p>Research about <code>model.train()</code>, <code>model.eval()</code> and <code>with torch.no_grad()</code> in Pytorch.\n",
    "<div>"
   ]
  },
  {
   "cell_type": "code",
   "execution_count": 84,
   "metadata": {},
   "outputs": [
    {
     "name": "stdout",
     "output_type": "stream",
     "text": [
      "Epoch: 1/3\n",
      "\tIteration: 0\t Loss: 0.0376\n",
      "\tIteration: 40\t Loss: 1.5227\n",
      "\tIteration: 80\t Loss: 1.5222\n",
      "\tIteration: 120\t Loss: 1.5219\n",
      "\tIteration: 160\t Loss: 1.5287\n",
      "\tIteration: 200\t Loss: 1.5353\n",
      "\tIteration: 240\t Loss: 1.5217\n",
      "\tIteration: 280\t Loss: 1.5238\n",
      "\tIteration: 320\t Loss: 1.5260\n",
      "\tIteration: 360\t Loss: 1.5316\n",
      "\tIteration: 400\t Loss: 1.5261\n",
      "\tIteration: 440\t Loss: 1.5248\n",
      "\tIteration: 480\t Loss: 1.5287\n",
      "\tIteration: 520\t Loss: 1.5109\n",
      "\tIteration: 560\t Loss: 1.5287\n",
      "\tIteration: 600\t Loss: 1.5162\n",
      "\tIteration: 640\t Loss: 1.5100\n",
      "\tIteration: 680\t Loss: 1.5213\n",
      "\tIteration: 720\t Loss: 1.5160\n",
      "\tIteration: 760\t Loss: 1.5280\n",
      "\tIteration: 800\t Loss: 1.5228\n",
      "\tIteration: 840\t Loss: 1.5274\n",
      "\tIteration: 880\t Loss: 1.5286\n",
      "\tIteration: 920\t Loss: 1.5203\n",
      "Test Error: \n",
      " Accuracy: 94.5%, Avg loss: 1.515994 \n",
      "\n",
      "Epoch: 2/3\n",
      "\tIteration: 0\t Loss: 0.0382\n",
      "\tIteration: 40\t Loss: 1.5143\n",
      "\tIteration: 80\t Loss: 1.5182\n",
      "\tIteration: 120\t Loss: 1.5282\n",
      "\tIteration: 160\t Loss: 1.5145\n",
      "\tIteration: 200\t Loss: 1.5218\n",
      "\tIteration: 240\t Loss: 1.5152\n",
      "\tIteration: 280\t Loss: 1.5138\n",
      "\tIteration: 320\t Loss: 1.5284\n",
      "\tIteration: 360\t Loss: 1.5354\n",
      "\tIteration: 400\t Loss: 1.5336\n",
      "\tIteration: 440\t Loss: 1.5137\n",
      "\tIteration: 480\t Loss: 1.5150\n",
      "\tIteration: 520\t Loss: 1.5096\n",
      "\tIteration: 560\t Loss: 1.5141\n",
      "\tIteration: 600\t Loss: 1.5204\n",
      "\tIteration: 640\t Loss: 1.5101\n",
      "\tIteration: 680\t Loss: 1.5180\n",
      "\tIteration: 720\t Loss: 1.5341\n",
      "\tIteration: 760\t Loss: 1.5101\n",
      "\tIteration: 800\t Loss: 1.5117\n",
      "\tIteration: 840\t Loss: 1.5131\n",
      "\tIteration: 880\t Loss: 1.5366\n",
      "\tIteration: 920\t Loss: 1.5244\n",
      "Test Error: \n",
      " Accuracy: 94.5%, Avg loss: 1.515667 \n",
      "\n",
      "Epoch: 3/3\n",
      "\tIteration: 0\t Loss: 0.0368\n",
      "\tIteration: 40\t Loss: 1.5141\n",
      "\tIteration: 80\t Loss: 1.5057\n",
      "\tIteration: 120\t Loss: 1.5159\n",
      "\tIteration: 160\t Loss: 1.5085\n",
      "\tIteration: 200\t Loss: 1.5161\n",
      "\tIteration: 240\t Loss: 1.5093\n",
      "\tIteration: 280\t Loss: 1.5226\n",
      "\tIteration: 320\t Loss: 1.5289\n",
      "\tIteration: 360\t Loss: 1.5118\n",
      "\tIteration: 400\t Loss: 1.5177\n",
      "\tIteration: 440\t Loss: 1.5091\n",
      "\tIteration: 480\t Loss: 1.5140\n",
      "\tIteration: 520\t Loss: 1.5135\n",
      "\tIteration: 560\t Loss: 1.5181\n",
      "\tIteration: 600\t Loss: 1.5253\n",
      "\tIteration: 640\t Loss: 1.5180\n",
      "\tIteration: 680\t Loss: 1.5083\n",
      "\tIteration: 720\t Loss: 1.5175\n",
      "\tIteration: 760\t Loss: 1.5183\n",
      "\tIteration: 800\t Loss: 1.5153\n",
      "\tIteration: 840\t Loss: 1.5147\n",
      "\tIteration: 880\t Loss: 1.5061\n",
      "\tIteration: 920\t Loss: 1.5192\n",
      "Test Error: \n",
      " Accuracy: 94.1%, Avg loss: 1.519715 \n",
      "\n",
      "Done !!!\n"
     ]
    }
   ],
   "source": [
    "# training the model, you need to create this pretty much once adn you can use this over and over again the core is the \n",
    "# zero_grad() to the optimizer.step()\n",
    "\n",
    "## TODO: Your training loop here\n",
    "criterion = nn.CrossEntropyLoss() # this is the loss function, we use cross entropy loss as we are using softmax, we can get away with/without softmax\n",
    "optimizer = optim.Adam(model.parameters(), lr=0.001) #smaller lr takes longer to converge, adam is adaptive momentum optimizer\n",
    "\n",
    "epoch = 3\n",
    "print_every = 40\n",
    "\n",
    "for e in range(epoch):\n",
    "    running_loss = 0\n",
    "    test_loss = 0\n",
    "    correct = 0\n",
    "    print(f\"Epoch: {e+1}/{epoch}\")\n",
    "\n",
    "    for i, (images, labels) in enumerate(iter(trainloader)): # tuple unpacking as we have both image and labels from the dataloader\n",
    "        optimizer.zero_grad() # to clean the gradient else it will accumulate the gradients\n",
    "                                    # pytorch by default saves the gradients using the autograd,so it can do backpropagation quickly, but for each step we \n",
    "                                    # want fresh gradients for each iter, so we need to clean the gradients\n",
    "\n",
    "        output = model.forward(images) # Forward Pass\n",
    "        loss = criterion(output, labels) # Calculating Loss\n",
    "        loss.backward() # Backward Pass\n",
    "        optimizer.step() # Updating the Weights in the Model\n",
    "\n",
    "        running_loss += loss.item()\n",
    "\n",
    "        if i % print_every == 0:\n",
    "            print(f\"\\tIteration: {i}\\t Loss: {running_loss/print_every:.4f}\")\n",
    "            running_loss = 0 \n",
    "\n",
    "    with torch.no_grad():\n",
    "        for x, y in testloader:\n",
    "         #   x.resize_(x.size()[0], 784)\n",
    "            pred = model(x)\n",
    "            test_loss += criterion(pred, y).item() # Computing the Loss on the test set\n",
    "            correct += (pred.argmax(1) == y).type(torch.float).sum().item() # Computing the number of correct predictions\n",
    "\n",
    "        test_loss /= len(testloader) # Calculating Average Loss for the model\n",
    "        correct /= len(testloader.dataset) # Calculating the Accuracy with total correct predictions and the total length of the dataset\n",
    "        print(f\"Test Error: \\n Accuracy: {(100*correct):>0.1f}%, Avg loss: {test_loss:>8f} \\n\")\n",
    "\n",
    "print(\"Done !!!\")\n",
    "\n",
    "    \n"
   ]
  },
  {
   "cell_type": "code",
   "execution_count": 85,
   "metadata": {},
   "outputs": [
    {
     "data": {
      "image/png": "[encoded data removed]",
      "text/plain": [
       "<Figure size 432x648 with 2 Axes>"
      ]
     },
     "metadata": {
      "image/png": {
       "height": 195,
       "width": 349
      },
      "needs_background": "light"
     },
     "output_type": "display_data"
    }
   ],
   "source": [
    "# Run this cell with your model to make sure it works and predicts well for the validation data\n",
    "images, labels = next(iter(testloader))\n",
    "images.resize_(images.shape[0], 1, 784)\n",
    "ps = model.forward(images[0,:])\n",
    "view_classify(images[0].view(1, 28, 28), ps)"
   ]
  },
  {
   "cell_type": "markdown",
   "metadata": {},
   "source": [
    "<div style=\"background:#222222; color:#ffffff; padding:20px\">\n",
    "  <h3 style=\"color:#01ff84; margin-top:4px\">Exercise 3:</h3>\n",
    "  <p>Write the code for adding <strong style=\"color:#01ff84\">Early Stopping with patience = 2</strong> to the training loop from scratch.</p>\n",
    "  <p><strong style=\"color:#01ff84\">Hint:</strong> Monitor the Validation loss every epoch, and if in 2 epochs, the validation loss does not improve, stop the training loop with <code>break</code>.</p>\n",
    "<div>"
   ]
  },
  {
   "cell_type": "code",
   "execution_count": 86,
   "metadata": {},
   "outputs": [
    {
     "name": "stdout",
     "output_type": "stream",
     "text": [
      "Epoch: 1/3\n",
      "\tIteration: 0\t Loss: 0.0390\n",
      "\tIteration: 40\t Loss: 1.5065\n",
      "\tIteration: 80\t Loss: 1.5139\n",
      "\tIteration: 120\t Loss: 1.5106\n",
      "\tIteration: 160\t Loss: 1.5333\n",
      "\tIteration: 200\t Loss: 1.5234\n",
      "\tIteration: 240\t Loss: 1.5250\n",
      "\tIteration: 280\t Loss: 1.5154\n",
      "\tIteration: 320\t Loss: 1.5194\n",
      "\tIteration: 360\t Loss: 1.5209\n",
      "\tIteration: 400\t Loss: 1.5046\n",
      "\tIteration: 440\t Loss: 1.5207\n",
      "\tIteration: 480\t Loss: 1.5071\n",
      "\tIteration: 520\t Loss: 1.5162\n",
      "\tIteration: 560\t Loss: 1.5106\n",
      "\tIteration: 600\t Loss: 1.5261\n",
      "\tIteration: 640\t Loss: 1.5066\n",
      "\tIteration: 680\t Loss: 1.5124\n",
      "\tIteration: 720\t Loss: 1.5256\n",
      "\tIteration: 760\t Loss: 1.5093\n",
      "\tIteration: 800\t Loss: 1.5235\n",
      "\tIteration: 840\t Loss: 1.5164\n",
      "\tIteration: 880\t Loss: 1.5160\n",
      "\tIteration: 920\t Loss: 1.5086\n",
      "Test Error: \n",
      " Accuracy: 95.9%, Avg loss: 1.501965 \n",
      "\n",
      "Epoch: 2/3\n",
      "\tIteration: 0\t Loss: 0.0390\n",
      "\tIteration: 40\t Loss: 1.4997\n",
      "\tIteration: 80\t Loss: 1.5085\n",
      "\tIteration: 120\t Loss: 1.5024\n",
      "\tIteration: 160\t Loss: 1.5134\n",
      "\tIteration: 200\t Loss: 1.5053\n",
      "\tIteration: 240\t Loss: 1.5125\n",
      "\tIteration: 280\t Loss: 1.5237\n",
      "\tIteration: 320\t Loss: 1.5241\n",
      "\tIteration: 360\t Loss: 1.5084\n",
      "\tIteration: 400\t Loss: 1.5096\n",
      "\tIteration: 440\t Loss: 1.5058\n",
      "\tIteration: 480\t Loss: 1.5126\n",
      "\tIteration: 520\t Loss: 1.5039\n",
      "\tIteration: 560\t Loss: 1.5115\n",
      "\tIteration: 600\t Loss: 1.5228\n",
      "\tIteration: 640\t Loss: 1.5139\n",
      "\tIteration: 680\t Loss: 1.5161\n",
      "\tIteration: 720\t Loss: 1.5228\n",
      "\tIteration: 760\t Loss: 1.5140\n",
      "\tIteration: 800\t Loss: 1.5297\n",
      "\tIteration: 840\t Loss: 1.5162\n",
      "\tIteration: 880\t Loss: 1.5196\n",
      "\tIteration: 920\t Loss: 1.5125\n",
      "Test Error: \n",
      " Accuracy: 94.7%, Avg loss: 1.513912 \n",
      "\n",
      "Done !!!\n"
     ]
    }
   ],
   "source": [
    "## TODO: Your training loop here\n",
    "criterion = nn.CrossEntropyLoss()\n",
    "optimizer = optim.Adam(model.parameters(), lr=0.001)\n",
    "validation_loss = np.inf # Set validation loss to higher value so that the first iteration always executes\n",
    "\n",
    "\n",
    "epoch = 3\n",
    "print_every = 40\n",
    "\n",
    "for e in range(epoch):\n",
    "    running_loss = 0\n",
    "    test_loss = 0\n",
    "    correct = 0\n",
    "    print(f\"Epoch: {e+1}/{epoch}\")\n",
    "\n",
    "    for i, (images, labels) in enumerate(iter(trainloader)):\n",
    "        optimizer.zero_grad()\n",
    "\n",
    "        output = model.forward(images) # Forward Pass\n",
    "        loss = criterion(output, labels) # Calculating Loss\n",
    "        loss.backward() # Backward Pass\n",
    "        optimizer.step() # Updating the Weights in the Model\n",
    "\n",
    "        running_loss += loss.item()\n",
    "\n",
    "        if i % print_every == 0:\n",
    "            print(f\"\\tIteration: {i}\\t Loss: {running_loss/print_every:.4f}\")\n",
    "            running_loss = 0 \n",
    "\n",
    "    with torch.no_grad():\n",
    "        for x, y in testloader:\n",
    "            pred = model(x)\n",
    "            test_loss += criterion(pred, y).item() # Computing the Loss on the test set\n",
    "            correct += (pred.argmax(1) == y).type(torch.float).sum().item() # Computing the number of correct predictions\n",
    "\n",
    "        test_loss /= len(testloader) # Calculating Average Loss for the model\n",
    "        correct /= len(testloader.dataset)  # Calculating the Accuracy with total correct predictions and the total length of the dataset\n",
    "        print(f\"Test Error: \\n Accuracy: {(100*correct):>0.1f}%, Avg loss: {test_loss:>8f} \\n\")\n",
    "\n",
    "    if validation_loss > test_loss: # If the average test loss is less than validation loss then we replace the validation loss with test loss\n",
    "        validation_loss = test_loss # else if we found that the model is not improving then we use break to stop the training loop\n",
    "    else:\n",
    "        break\n",
    "\n",
    "print(\"Done !!!\")\n",
    "\n",
    "    \n"
   ]
  }
 ],
 "metadata": {
  "kernelspec": {
   "display_name": "Python 3",
   "language": "python",
   "name": "python3"
  },
  "language_info": {
   "codemirror_mode": {
    "name": "ipython",
    "version": 3
   },
   "file_extension": ".py",
   "mimetype": "text/x-python",
   "name": "python",
   "nbconvert_exporter": "python",
   "pygments_lexer": "ipython3",
   "version": "3.7.11"
  }
 },
 "nbformat": 4,
 "nbformat_minor": 2
}
